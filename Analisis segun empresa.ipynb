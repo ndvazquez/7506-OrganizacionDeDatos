{
 "cells": [
  {
   "cell_type": "code",
   "execution_count": null,
   "metadata": {},
   "outputs": [],
   "source": [
    "import pandas as pd\n",
    "import numpy as np\n",
    "import matplotlib.pyplot as plt\n",
    "import seaborn as sns\n",
    "\n",
    "%matplotlib inline\n",
    "\n",
    "plt.style.use('default')\n",
    "\n",
    "sns.set(style='whitegrid')"
   ]
  },
  {
   "cell_type": "code",
   "execution_count": null,
   "metadata": {},
   "outputs": [],
   "source": [
    "df = pd.read_csv('data/events.csv', low_memory=False)"
   ]
  },
  {
   "cell_type": "markdown",
   "metadata": {},
   "source": [
    "# Análisis de productos del sitio según empresa fabricante.\n",
    "\n",
    "Primero vamos a revisar a ojo, e ir ajustando nuestra función de clasificación para asignarle una empresa a cada modelo disponible en el dataset."
   ]
  },
  {
   "cell_type": "code",
   "execution_count": null,
   "metadata": {},
   "outputs": [],
   "source": [
    "def asignar_empresa(celular):\n",
    "    celular = celular.lower()\n",
    "    if ('samsung' in celular):\n",
    "        return 'Samsung'\n",
    "    if ('iphone' in celular or 'ipad' in celular):\n",
    "        return 'Apple'\n",
    "    if ('sony' in celular):\n",
    "        return 'Sony'\n",
    "    if ('motorola' in celular):\n",
    "        return 'Motorola'\n",
    "    if ('asus' in celular):\n",
    "        return 'Asus'\n",
    "    if ('lg' in celular):\n",
    "        return 'LG'\n",
    "    if ('lenovo' in celular):\n",
    "        return 'Lenovo'\n",
    "    if ('quantum' in celular):\n",
    "        return 'Quantum'\n",
    "    return 'Otros'"
   ]
  },
  {
   "cell_type": "code",
   "execution_count": null,
   "metadata": {},
   "outputs": [],
   "source": [
    "modelo_por_empresa = df.loc[df['model'].notnull(), :].dropna(axis=1).copy()\n",
    "modelo_por_empresa['timestamp'] = pd.to_datetime(modelo_por_empresa['timestamp']).dt.date\n",
    "modelo_por_empresa['company'] = modelo_por_empresa['model'].apply(lambda x: asignar_empresa(x))\n",
    "modelo_por_empresa.sort_values(by=['timestamp', 'company'], inplace=True)\n",
    "modelo_por_empresa['company'].value_counts()"
   ]
  },
  {
   "cell_type": "markdown",
   "metadata": {},
   "source": [
    "Sólo por curiosidad, veamos qué modelo cayó en `Otros`."
   ]
  },
  {
   "cell_type": "code",
   "execution_count": null,
   "metadata": {},
   "outputs": [],
   "source": [
    "modelo_por_empresa.loc[modelo_por_empresa['company'] == 'Otros']"
   ]
  },
  {
   "cell_type": "markdown",
   "metadata": {},
   "source": [
    "## Filtramos por Viewed Product"
   ]
  },
  {
   "cell_type": "code",
   "execution_count": null,
   "metadata": {},
   "outputs": [],
   "source": [
    "vistos_por_empresa = modelo_por_empresa.loc[modelo_por_empresa['event'] == 'viewed product']\n",
    "celulares_vistos = vistos_por_empresa['company'].value_counts()\n",
    "plt.figure(figsize=[10,6])\n",
    "g = sns.barplot(x=celulares_vistos.index, y=celulares_vistos.values, palette='hls')\n",
    "g.set_title('Cantidad de celulares vistos por empresa', fontsize=18)\n",
    "g.set_xlabel('Empresa', fontsize=16)\n",
    "g.set_ylabel('Cantidad', fontsize=16)\n",
    "plt.show()"
   ]
  },
  {
   "cell_type": "code",
   "execution_count": null,
   "metadata": {},
   "outputs": [],
   "source": [
    "samsung_vistos = vistos_por_empresa.loc[vistos_por_empresa['company'] == 'Samsung']['timestamp'].value_counts()\n",
    "apple_vistos = vistos_por_empresa.loc[vistos_por_empresa['company'] == 'Apple']['timestamp'].value_counts()\n",
    "motorola_vistos = vistos_por_empresa.loc[vistos_por_empresa['company'] == 'Motorola']['timestamp'].value_counts()\n",
    "sony_vistos = vistos_por_empresa.loc[vistos_por_empresa['company'] == 'Sony']['timestamp'].value_counts()\n",
    "quantum_vistos = vistos_por_empresa.loc[vistos_por_empresa['company'] == 'Quantum']['timestamp'].value_counts()"
   ]
  },
  {
   "cell_type": "code",
   "execution_count": null,
   "metadata": {},
   "outputs": [],
   "source": [
    "plt.figure(figsize=[14,8])\n",
    "g = sns.lineplot(x=samsung_vistos.index, y=samsung_vistos.values, color='b')\n",
    "g = sns.lineplot(x=apple_vistos.index, y=apple_vistos.values, color='r')\n",
    "g = sns.lineplot(x=motorola_vistos.index, y=motorola_vistos.values, color='Purple')\n",
    "g = sns.lineplot(x=sony_vistos.index, y=sony_vistos.values, color='g')\n",
    "g = sns.lineplot(x=quantum_vistos.index, y=quantum_vistos.values, color='Orange')\n",
    "g.set(xticklabels=['Enero', 'Febrero', 'Marzo', 'Abril', 'Mayo', 'Junio'])\n",
    "g.set_title(\"Cantidad de celulares vistos según día del año, por empresa\", fontsize=18)\n",
    "g.set_xlabel('Mes', fontsize=16)\n",
    "g.set_ylabel('Frecuencia', fontsize=16)\n",
    "plt.legend(['Samsung', 'Apple', 'Motorola', 'Sony', 'Quantum'])\n",
    "plt.show()"
   ]
  },
  {
   "cell_type": "markdown",
   "metadata": {},
   "source": [
    "## Filtramos por Conversion\n",
    "\n",
    "Ahora queremos ver cuántos productos fueron comprados, según empresa."
   ]
  },
  {
   "cell_type": "code",
   "execution_count": null,
   "metadata": {},
   "outputs": [],
   "source": [
    "conversion_por_empresa = modelo_por_empresa.loc[modelo_por_empresa['event'] == 'conversion']\n",
    "vendidos = conversion_por_empresa['company'].value_counts()\n",
    "plt.figure(figsize=[10,6])\n",
    "g = sns.barplot(x=vendidos.index, y=vendidos.values, palette='hls')\n",
    "g.set_title('Cantidad de celulares vendidos por empresa', fontsize=18)\n",
    "g.set_xlabel('Empresa', fontsize=16)\n",
    "g.set_ylabel('Cantidad', fontsize=16)\n",
    "plt.show()"
   ]
  },
  {
   "cell_type": "code",
   "execution_count": null,
   "metadata": {},
   "outputs": [],
   "source": [
    "samsung_vendidos = conversion_por_empresa.loc[conversion_por_empresa['company'] == 'Samsung']['timestamp'].value_counts()\n",
    "apple_vendidos = conversion_por_empresa.loc[conversion_por_empresa['company'] == 'Apple']['timestamp'].value_counts()\n",
    "motorola_vendidos = conversion_por_empresa.loc[conversion_por_empresa['company'] == 'Motorola']['timestamp'].value_counts()\n",
    "sony_vendidos= conversion_por_empresa.loc[conversion_por_empresa['company'] == 'Sony']['timestamp'].value_counts()\n",
    "lg_vendidos = conversion_por_empresa.loc[conversion_por_empresa['company'] == 'LG']['timestamp'].value_counts()"
   ]
  },
  {
   "cell_type": "code",
   "execution_count": null,
   "metadata": {},
   "outputs": [],
   "source": [
    "plt.figure(figsize=[14,8])\n",
    "g = sns.lineplot(x=samsung_vendidos.index, y=samsung_vendidos.values, color='b')\n",
    "g = sns.lineplot(x=apple_vendidos.index, y=apple_vendidos.values, color='r')\n",
    "g = sns.lineplot(x=motorola_vendidos.index, y=motorola_vendidos.values, color='Purple')\n",
    "g = sns.lineplot(x=sony_vendidos.index, y=sony_vendidos.values, color='g')\n",
    "g = sns.lineplot(x=lg_vendidos.index, y=lg_vendidos.values, color='Orange')\n",
    "g.set(xticklabels=['Enero', 'Febrero', 'Marzo', 'Abril', 'Mayo', 'Junio'])\n",
    "g.set_title(\"Cantidad de conversions según día del año, por empresa\", fontsize=18)\n",
    "g.set_xlabel('Mes', fontsize=16)\n",
    "g.set_ylabel('Frecuencia', fontsize=16)\n",
    "plt.legend(['Samsung', 'Apple', 'Motorola', 'Sony', 'LG'])\n",
    "plt.show()"
   ]
  },
  {
   "cell_type": "code",
   "execution_count": null,
   "metadata": {},
   "outputs": [],
   "source": []
  }
 ],
 "metadata": {
  "kernelspec": {
   "display_name": "Python 3",
   "language": "python",
   "name": "python3"
  },
  "language_info": {
   "codemirror_mode": {
    "name": "ipython",
    "version": 3
   },
   "file_extension": ".py",
   "mimetype": "text/x-python",
   "name": "python",
   "nbconvert_exporter": "python",
   "pygments_lexer": "ipython3",
   "version": "3.6.5"
  }
 },
 "nbformat": 4,
 "nbformat_minor": 2
}
