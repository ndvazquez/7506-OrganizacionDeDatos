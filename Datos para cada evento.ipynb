{
 "cells": [
  {
   "cell_type": "code",
   "execution_count": 1,
   "metadata": {},
   "outputs": [],
   "source": [
    "import pandas as pd\n",
    "import numpy as np\n",
    "import seaborn\n",
    "import matplotlib.pyplot as plt\n",
    "\n",
    "\n",
    "df_original = pd.read_csv('events.csv', low_memory=False)"
   ]
  },
  {
   "cell_type": "markdown",
   "metadata": {},
   "source": [
    "## Voy a ver que datos tenemos para cada tipo de evento"
   ]
  },
  {
   "cell_type": "markdown",
   "metadata": {},
   "source": [
    "### ```viewed_product```"
   ]
  },
  {
   "cell_type": "code",
   "execution_count": 2,
   "metadata": {
    "scrolled": true
   },
   "outputs": [
    {
     "data": {
      "text/html": [
       "<div>\n",
       "<style scoped>\n",
       "    .dataframe tbody tr th:only-of-type {\n",
       "        vertical-align: middle;\n",
       "    }\n",
       "\n",
       "    .dataframe tbody tr th {\n",
       "        vertical-align: top;\n",
       "    }\n",
       "\n",
       "    .dataframe thead th {\n",
       "        text-align: right;\n",
       "    }\n",
       "</style>\n",
       "<table border=\"1\" class=\"dataframe\">\n",
       "  <thead>\n",
       "    <tr style=\"text-align: right;\">\n",
       "      <th></th>\n",
       "      <th>timestamp</th>\n",
       "      <th>event</th>\n",
       "      <th>person</th>\n",
       "      <th>sku</th>\n",
       "      <th>model</th>\n",
       "      <th>condition</th>\n",
       "      <th>storage</th>\n",
       "      <th>color</th>\n",
       "    </tr>\n",
       "  </thead>\n",
       "  <tbody>\n",
       "    <tr>\n",
       "      <th>2</th>\n",
       "      <td>2018-05-31 23:38:09</td>\n",
       "      <td>viewed product</td>\n",
       "      <td>0004b0a2</td>\n",
       "      <td>2694.0</td>\n",
       "      <td>iPhone 5s</td>\n",
       "      <td>Bom</td>\n",
       "      <td>32GB</td>\n",
       "      <td>Cinza espacial</td>\n",
       "    </tr>\n",
       "    <tr>\n",
       "      <th>4</th>\n",
       "      <td>2018-05-29 13:29:25</td>\n",
       "      <td>viewed product</td>\n",
       "      <td>0006a21a</td>\n",
       "      <td>15338.0</td>\n",
       "      <td>Samsung Galaxy S8</td>\n",
       "      <td>Bom</td>\n",
       "      <td>64GB</td>\n",
       "      <td>Dourado</td>\n",
       "    </tr>\n",
       "    <tr>\n",
       "      <th>13</th>\n",
       "      <td>2018-04-09 20:13:14</td>\n",
       "      <td>viewed product</td>\n",
       "      <td>000a54b2</td>\n",
       "      <td>12661.0</td>\n",
       "      <td>Motorola Moto Z Play</td>\n",
       "      <td>Muito Bom</td>\n",
       "      <td>32GB</td>\n",
       "      <td>Preto</td>\n",
       "    </tr>\n",
       "    <tr>\n",
       "      <th>22</th>\n",
       "      <td>2018-05-24 11:27:47</td>\n",
       "      <td>viewed product</td>\n",
       "      <td>000a54b2</td>\n",
       "      <td>10254.0</td>\n",
       "      <td>iPhone 7 Plus</td>\n",
       "      <td>Excelente</td>\n",
       "      <td>256GB</td>\n",
       "      <td>Dourado</td>\n",
       "    </tr>\n",
       "    <tr>\n",
       "      <th>26</th>\n",
       "      <td>2018-05-24 11:28:59</td>\n",
       "      <td>viewed product</td>\n",
       "      <td>000a54b2</td>\n",
       "      <td>6581.0</td>\n",
       "      <td>iPhone 6S</td>\n",
       "      <td>Bom</td>\n",
       "      <td>16GB</td>\n",
       "      <td>Cinza espacial</td>\n",
       "    </tr>\n",
       "  </tbody>\n",
       "</table>\n",
       "</div>"
      ],
      "text/plain": [
       "              timestamp           event    person      sku  \\\n",
       "2   2018-05-31 23:38:09  viewed product  0004b0a2   2694.0   \n",
       "4   2018-05-29 13:29:25  viewed product  0006a21a  15338.0   \n",
       "13  2018-04-09 20:13:14  viewed product  000a54b2  12661.0   \n",
       "22  2018-05-24 11:27:47  viewed product  000a54b2  10254.0   \n",
       "26  2018-05-24 11:28:59  viewed product  000a54b2   6581.0   \n",
       "\n",
       "                   model  condition storage           color  \n",
       "2              iPhone 5s        Bom    32GB  Cinza espacial  \n",
       "4      Samsung Galaxy S8        Bom    64GB         Dourado  \n",
       "13  Motorola Moto Z Play  Muito Bom    32GB           Preto  \n",
       "22         iPhone 7 Plus  Excelente   256GB         Dourado  \n",
       "26             iPhone 6S        Bom    16GB  Cinza espacial  "
      ]
     },
     "execution_count": 2,
     "metadata": {},
     "output_type": "execute_result"
    }
   ],
   "source": [
    "df_viewd_prod = df_original.loc[df_original['event']=='viewed product', :]\n",
    "df_viewd_prod.dropna(axis=1, how='all').head()"
   ]
  },
  {
   "cell_type": "markdown",
   "metadata": {},
   "source": [
    "### ```brand listing```"
   ]
  },
  {
   "cell_type": "code",
   "execution_count": 3,
   "metadata": {},
   "outputs": [
    {
     "data": {
      "text/html": [
       "<div>\n",
       "<style scoped>\n",
       "    .dataframe tbody tr th:only-of-type {\n",
       "        vertical-align: middle;\n",
       "    }\n",
       "\n",
       "    .dataframe tbody tr th {\n",
       "        vertical-align: top;\n",
       "    }\n",
       "\n",
       "    .dataframe thead th {\n",
       "        text-align: right;\n",
       "    }\n",
       "</style>\n",
       "<table border=\"1\" class=\"dataframe\">\n",
       "  <thead>\n",
       "    <tr style=\"text-align: right;\">\n",
       "      <th></th>\n",
       "      <th>timestamp</th>\n",
       "      <th>event</th>\n",
       "      <th>person</th>\n",
       "      <th>skus</th>\n",
       "    </tr>\n",
       "  </thead>\n",
       "  <tbody>\n",
       "    <tr>\n",
       "      <th>12</th>\n",
       "      <td>2018-04-09 20:12:53</td>\n",
       "      <td>brand listing</td>\n",
       "      <td>000a54b2</td>\n",
       "      <td>5075,12536,12520,12661,12506,12549,10449,9175,...</td>\n",
       "    </tr>\n",
       "    <tr>\n",
       "      <th>14</th>\n",
       "      <td>2018-04-09 20:13:20</td>\n",
       "      <td>brand listing</td>\n",
       "      <td>000a54b2</td>\n",
       "      <td>5075,12536,12520,12661,12506,12549,10449,9175,...</td>\n",
       "    </tr>\n",
       "    <tr>\n",
       "      <th>20</th>\n",
       "      <td>2018-05-24 11:26:53</td>\n",
       "      <td>brand listing</td>\n",
       "      <td>000a54b2</td>\n",
       "      <td>8499,8485,8471,8443</td>\n",
       "    </tr>\n",
       "  </tbody>\n",
       "</table>\n",
       "</div>"
      ],
      "text/plain": [
       "              timestamp          event    person  \\\n",
       "12  2018-04-09 20:12:53  brand listing  000a54b2   \n",
       "14  2018-04-09 20:13:20  brand listing  000a54b2   \n",
       "20  2018-05-24 11:26:53  brand listing  000a54b2   \n",
       "\n",
       "                                                 skus  \n",
       "12  5075,12536,12520,12661,12506,12549,10449,9175,...  \n",
       "14  5075,12536,12520,12661,12506,12549,10449,9175,...  \n",
       "20                                8499,8485,8471,8443  "
      ]
     },
     "execution_count": 3,
     "metadata": {},
     "output_type": "execute_result"
    }
   ],
   "source": [
    "df_viewd_prod = df_original.loc[df_original['event']=='brand listing', :]\n",
    "df_viewd_prod.dropna(axis=1, how='all').head(3)"
   ]
  },
  {
   "cell_type": "markdown",
   "metadata": {},
   "source": [
    "### ```visited site```"
   ]
  },
  {
   "cell_type": "code",
   "execution_count": 17,
   "metadata": {},
   "outputs": [
    {
     "data": {
      "text/html": [
       "<div>\n",
       "<style scoped>\n",
       "    .dataframe tbody tr th:only-of-type {\n",
       "        vertical-align: middle;\n",
       "    }\n",
       "\n",
       "    .dataframe tbody tr th {\n",
       "        vertical-align: top;\n",
       "    }\n",
       "\n",
       "    .dataframe thead th {\n",
       "        text-align: right;\n",
       "    }\n",
       "</style>\n",
       "<table border=\"1\" class=\"dataframe\">\n",
       "  <thead>\n",
       "    <tr style=\"text-align: right;\">\n",
       "      <th></th>\n",
       "      <th>timestamp</th>\n",
       "      <th>person</th>\n",
       "      <th>channel</th>\n",
       "      <th>new_vs_returning</th>\n",
       "      <th>city</th>\n",
       "      <th>region</th>\n",
       "      <th>country</th>\n",
       "      <th>device_type</th>\n",
       "      <th>screen_resolution</th>\n",
       "      <th>operating_system_version</th>\n",
       "      <th>browser_version</th>\n",
       "    </tr>\n",
       "  </thead>\n",
       "  <tbody>\n",
       "    <tr>\n",
       "      <th>1</th>\n",
       "      <td>2018-05-31 23:38:05</td>\n",
       "      <td>0004b0a2</td>\n",
       "      <td>Paid</td>\n",
       "      <td>New</td>\n",
       "      <td>Camaragibe</td>\n",
       "      <td>Pernambuco</td>\n",
       "      <td>Brazil</td>\n",
       "      <td>Smartphone</td>\n",
       "      <td>360x640</td>\n",
       "      <td>Android 6</td>\n",
       "      <td>Chrome Mobile 39</td>\n",
       "    </tr>\n",
       "    <tr>\n",
       "      <th>5</th>\n",
       "      <td>2018-05-29 13:29:26</td>\n",
       "      <td>0006a21a</td>\n",
       "      <td>Paid</td>\n",
       "      <td>New</td>\n",
       "      <td>Rio de Janeiro</td>\n",
       "      <td>Rio de Janeiro</td>\n",
       "      <td>Brazil</td>\n",
       "      <td>Smartphone</td>\n",
       "      <td>360x640</td>\n",
       "      <td>Android 5.1.1</td>\n",
       "      <td>Android 5.1</td>\n",
       "    </tr>\n",
       "    <tr>\n",
       "      <th>9</th>\n",
       "      <td>2018-04-09 20:12:31</td>\n",
       "      <td>000a54b2</td>\n",
       "      <td>Paid</td>\n",
       "      <td>New</td>\n",
       "      <td>Rio de Janeiro</td>\n",
       "      <td>Rio de Janeiro</td>\n",
       "      <td>Brazil</td>\n",
       "      <td>Computer</td>\n",
       "      <td>1920x1080</td>\n",
       "      <td>Windows 10</td>\n",
       "      <td>Chrome 65.0</td>\n",
       "    </tr>\n",
       "  </tbody>\n",
       "</table>\n",
       "</div>"
      ],
      "text/plain": [
       "             timestamp    person channel new_vs_returning            city  \\\n",
       "1  2018-05-31 23:38:05  0004b0a2    Paid              New      Camaragibe   \n",
       "5  2018-05-29 13:29:26  0006a21a    Paid              New  Rio de Janeiro   \n",
       "9  2018-04-09 20:12:31  000a54b2    Paid              New  Rio de Janeiro   \n",
       "\n",
       "           region country device_type screen_resolution  \\\n",
       "1      Pernambuco  Brazil  Smartphone           360x640   \n",
       "5  Rio de Janeiro  Brazil  Smartphone           360x640   \n",
       "9  Rio de Janeiro  Brazil    Computer         1920x1080   \n",
       "\n",
       "  operating_system_version   browser_version  \n",
       "1                Android 6  Chrome Mobile 39  \n",
       "5            Android 5.1.1       Android 5.1  \n",
       "9              Windows 10        Chrome 65.0  "
      ]
     },
     "execution_count": 17,
     "metadata": {},
     "output_type": "execute_result"
    }
   ],
   "source": [
    "df_viewd_prod = df_original.loc[df_original['event']=='visited site', :]\n",
    "df_viewd_prod = df_viewd_prod.dropna(axis=1, how='all').head(3)\n",
    "df_viewd_prod = df_viewd_prod.drop('event', axis=1)\n",
    "df_viewd_prod"
   ]
  },
  {
   "cell_type": "markdown",
   "metadata": {},
   "source": [
    "### ```ad campaign hit```"
   ]
  },
  {
   "cell_type": "code",
   "execution_count": 18,
   "metadata": {},
   "outputs": [
    {
     "data": {
      "text/html": [
       "<div>\n",
       "<style scoped>\n",
       "    .dataframe tbody tr th:only-of-type {\n",
       "        vertical-align: middle;\n",
       "    }\n",
       "\n",
       "    .dataframe tbody tr th {\n",
       "        vertical-align: top;\n",
       "    }\n",
       "\n",
       "    .dataframe thead th {\n",
       "        text-align: right;\n",
       "    }\n",
       "</style>\n",
       "<table border=\"1\" class=\"dataframe\">\n",
       "  <thead>\n",
       "    <tr style=\"text-align: right;\">\n",
       "      <th></th>\n",
       "      <th>timestamp</th>\n",
       "      <th>person</th>\n",
       "      <th>url</th>\n",
       "      <th>campaign_source</th>\n",
       "    </tr>\n",
       "  </thead>\n",
       "  <tbody>\n",
       "    <tr>\n",
       "      <th>0</th>\n",
       "      <td>2018-05-31 23:38:05</td>\n",
       "      <td>0004b0a2</td>\n",
       "      <td>/comprar/iphone/iphone-5s</td>\n",
       "      <td>criteo</td>\n",
       "    </tr>\n",
       "    <tr>\n",
       "      <th>6</th>\n",
       "      <td>2018-05-29 13:29:27</td>\n",
       "      <td>0006a21a</td>\n",
       "      <td>/comprar/samsung/galaxy-s8</td>\n",
       "      <td>criteo</td>\n",
       "    </tr>\n",
       "    <tr>\n",
       "      <th>11</th>\n",
       "      <td>2018-04-09 20:12:31</td>\n",
       "      <td>000a54b2</td>\n",
       "      <td>/</td>\n",
       "      <td>google</td>\n",
       "    </tr>\n",
       "  </tbody>\n",
       "</table>\n",
       "</div>"
      ],
      "text/plain": [
       "              timestamp    person                         url campaign_source\n",
       "0   2018-05-31 23:38:05  0004b0a2   /comprar/iphone/iphone-5s          criteo\n",
       "6   2018-05-29 13:29:27  0006a21a  /comprar/samsung/galaxy-s8          criteo\n",
       "11  2018-04-09 20:12:31  000a54b2                           /          google"
      ]
     },
     "execution_count": 18,
     "metadata": {},
     "output_type": "execute_result"
    }
   ],
   "source": [
    "df_viewd_prod = df_original.loc[df_original['event']=='ad campaign hit', :]\n",
    "df_viewd_prod = df_viewd_prod.dropna(axis=1, how='all').head(3)\n",
    "df_viewd_prod = df_viewd_prod.drop('event', axis=1)\n",
    "df_viewd_prod"
   ]
  },
  {
   "cell_type": "markdown",
   "metadata": {},
   "source": [
    "### ```generic listing```"
   ]
  },
  {
   "cell_type": "code",
   "execution_count": 6,
   "metadata": {},
   "outputs": [
    {
     "data": {
      "text/html": [
       "<div>\n",
       "<style scoped>\n",
       "    .dataframe tbody tr th:only-of-type {\n",
       "        vertical-align: middle;\n",
       "    }\n",
       "\n",
       "    .dataframe tbody tr th {\n",
       "        vertical-align: top;\n",
       "    }\n",
       "\n",
       "    .dataframe thead th {\n",
       "        text-align: right;\n",
       "    }\n",
       "</style>\n",
       "<table border=\"1\" class=\"dataframe\">\n",
       "  <thead>\n",
       "    <tr style=\"text-align: right;\">\n",
       "      <th></th>\n",
       "      <th>timestamp</th>\n",
       "      <th>event</th>\n",
       "      <th>person</th>\n",
       "      <th>skus</th>\n",
       "    </tr>\n",
       "  </thead>\n",
       "  <tbody>\n",
       "    <tr>\n",
       "      <th>8</th>\n",
       "      <td>2018-04-09 20:12:31</td>\n",
       "      <td>generic listing</td>\n",
       "      <td>000a54b2</td>\n",
       "      <td>10310,13333,13347,9902,9944,12774,12801,12744,...</td>\n",
       "    </tr>\n",
       "    <tr>\n",
       "      <th>18</th>\n",
       "      <td>2018-05-24 11:21:08</td>\n",
       "      <td>generic listing</td>\n",
       "      <td>000a54b2</td>\n",
       "      <td>6649,7237,2820,2750,6707,6720,7224,12619,12605...</td>\n",
       "    </tr>\n",
       "    <tr>\n",
       "      <th>19</th>\n",
       "      <td>2018-05-24 11:26:34</td>\n",
       "      <td>generic listing</td>\n",
       "      <td>000a54b2</td>\n",
       "      <td>6649,7237,2820,2750,6707,6720,7224,12619,12605...</td>\n",
       "    </tr>\n",
       "  </tbody>\n",
       "</table>\n",
       "</div>"
      ],
      "text/plain": [
       "              timestamp            event    person  \\\n",
       "8   2018-04-09 20:12:31  generic listing  000a54b2   \n",
       "18  2018-05-24 11:21:08  generic listing  000a54b2   \n",
       "19  2018-05-24 11:26:34  generic listing  000a54b2   \n",
       "\n",
       "                                                 skus  \n",
       "8   10310,13333,13347,9902,9944,12774,12801,12744,...  \n",
       "18  6649,7237,2820,2750,6707,6720,7224,12619,12605...  \n",
       "19  6649,7237,2820,2750,6707,6720,7224,12619,12605...  "
      ]
     },
     "execution_count": 6,
     "metadata": {},
     "output_type": "execute_result"
    }
   ],
   "source": [
    "df_viewd_prod = df_original.loc[df_original['event']=='generic listing', :]\n",
    "df_viewd_prod.dropna(axis=1, how='all').head(3)"
   ]
  },
  {
   "cell_type": "markdown",
   "metadata": {},
   "source": [
    "### ```searched products```"
   ]
  },
  {
   "cell_type": "code",
   "execution_count": 7,
   "metadata": {},
   "outputs": [
    {
     "data": {
      "text/html": [
       "<div>\n",
       "<style scoped>\n",
       "    .dataframe tbody tr th:only-of-type {\n",
       "        vertical-align: middle;\n",
       "    }\n",
       "\n",
       "    .dataframe tbody tr th {\n",
       "        vertical-align: top;\n",
       "    }\n",
       "\n",
       "    .dataframe thead th {\n",
       "        text-align: right;\n",
       "    }\n",
       "</style>\n",
       "<table border=\"1\" class=\"dataframe\">\n",
       "  <thead>\n",
       "    <tr style=\"text-align: right;\">\n",
       "      <th></th>\n",
       "      <th>timestamp</th>\n",
       "      <th>event</th>\n",
       "      <th>person</th>\n",
       "      <th>skus</th>\n",
       "      <th>search_term</th>\n",
       "    </tr>\n",
       "  </thead>\n",
       "  <tbody>\n",
       "    <tr>\n",
       "      <th>157</th>\n",
       "      <td>2018-02-06 02:29:49</td>\n",
       "      <td>searched products</td>\n",
       "      <td>00204059</td>\n",
       "      <td>2692,6819,823,2779,13864,2784,8135,6805,2773,2...</td>\n",
       "      <td>moto g 4</td>\n",
       "    </tr>\n",
       "    <tr>\n",
       "      <th>159</th>\n",
       "      <td>2018-02-06 02:32:41</td>\n",
       "      <td>searched products</td>\n",
       "      <td>00204059</td>\n",
       "      <td>2692,6819,823,2779,13864,2784,8135,6805,2773,2...</td>\n",
       "      <td>moto g 4</td>\n",
       "    </tr>\n",
       "    <tr>\n",
       "      <th>238</th>\n",
       "      <td>2018-05-21 19:56:33</td>\n",
       "      <td>searched products</td>\n",
       "      <td>0024ad28</td>\n",
       "      <td>3371,6357,6371,10896,2718,2777,6001,2694,3191,...</td>\n",
       "      <td>comprar celulares usados bom e barato em poa rs</td>\n",
       "    </tr>\n",
       "  </tbody>\n",
       "</table>\n",
       "</div>"
      ],
      "text/plain": [
       "               timestamp              event    person  \\\n",
       "157  2018-02-06 02:29:49  searched products  00204059   \n",
       "159  2018-02-06 02:32:41  searched products  00204059   \n",
       "238  2018-05-21 19:56:33  searched products  0024ad28   \n",
       "\n",
       "                                                  skus  \\\n",
       "157  2692,6819,823,2779,13864,2784,8135,6805,2773,2...   \n",
       "159  2692,6819,823,2779,13864,2784,8135,6805,2773,2...   \n",
       "238  3371,6357,6371,10896,2718,2777,6001,2694,3191,...   \n",
       "\n",
       "                                         search_term  \n",
       "157                                         moto g 4  \n",
       "159                                         moto g 4  \n",
       "238  comprar celulares usados bom e barato em poa rs  "
      ]
     },
     "execution_count": 7,
     "metadata": {},
     "output_type": "execute_result"
    }
   ],
   "source": [
    "df_viewd_prod = df_original.loc[df_original['event']=='searched products', :]\n",
    "df_viewd_prod.dropna(axis=1, how='all').head(3)"
   ]
  },
  {
   "cell_type": "markdown",
   "metadata": {},
   "source": [
    "### ```search engine hit```"
   ]
  },
  {
   "cell_type": "code",
   "execution_count": 8,
   "metadata": {},
   "outputs": [
    {
     "data": {
      "text/html": [
       "<div>\n",
       "<style scoped>\n",
       "    .dataframe tbody tr th:only-of-type {\n",
       "        vertical-align: middle;\n",
       "    }\n",
       "\n",
       "    .dataframe tbody tr th {\n",
       "        vertical-align: top;\n",
       "    }\n",
       "\n",
       "    .dataframe thead th {\n",
       "        text-align: right;\n",
       "    }\n",
       "</style>\n",
       "<table border=\"1\" class=\"dataframe\">\n",
       "  <thead>\n",
       "    <tr style=\"text-align: right;\">\n",
       "      <th></th>\n",
       "      <th>timestamp</th>\n",
       "      <th>event</th>\n",
       "      <th>person</th>\n",
       "      <th>search_engine</th>\n",
       "    </tr>\n",
       "  </thead>\n",
       "  <tbody>\n",
       "    <tr>\n",
       "      <th>10</th>\n",
       "      <td>2018-04-09 20:12:31</td>\n",
       "      <td>search engine hit</td>\n",
       "      <td>000a54b2</td>\n",
       "      <td>Google</td>\n",
       "    </tr>\n",
       "    <tr>\n",
       "      <th>17</th>\n",
       "      <td>2018-05-24 11:21:07</td>\n",
       "      <td>search engine hit</td>\n",
       "      <td>000a54b2</td>\n",
       "      <td>Google</td>\n",
       "    </tr>\n",
       "    <tr>\n",
       "      <th>47</th>\n",
       "      <td>2018-04-06 05:12:05</td>\n",
       "      <td>search engine hit</td>\n",
       "      <td>00184bf9</td>\n",
       "      <td>Google</td>\n",
       "    </tr>\n",
       "  </tbody>\n",
       "</table>\n",
       "</div>"
      ],
      "text/plain": [
       "              timestamp              event    person search_engine\n",
       "10  2018-04-09 20:12:31  search engine hit  000a54b2        Google\n",
       "17  2018-05-24 11:21:07  search engine hit  000a54b2        Google\n",
       "47  2018-04-06 05:12:05  search engine hit  00184bf9        Google"
      ]
     },
     "execution_count": 8,
     "metadata": {},
     "output_type": "execute_result"
    }
   ],
   "source": [
    "df_viewd_prod = df_original.loc[df_original['event']=='search engine hit', :]\n",
    "df_viewd_prod.dropna(axis=1, how='all').head(3)"
   ]
  },
  {
   "cell_type": "markdown",
   "metadata": {},
   "source": [
    "### ```checkout```"
   ]
  },
  {
   "cell_type": "code",
   "execution_count": 9,
   "metadata": {},
   "outputs": [
    {
     "data": {
      "text/html": [
       "<div>\n",
       "<style scoped>\n",
       "    .dataframe tbody tr th:only-of-type {\n",
       "        vertical-align: middle;\n",
       "    }\n",
       "\n",
       "    .dataframe tbody tr th {\n",
       "        vertical-align: top;\n",
       "    }\n",
       "\n",
       "    .dataframe thead th {\n",
       "        text-align: right;\n",
       "    }\n",
       "</style>\n",
       "<table border=\"1\" class=\"dataframe\">\n",
       "  <thead>\n",
       "    <tr style=\"text-align: right;\">\n",
       "      <th></th>\n",
       "      <th>timestamp</th>\n",
       "      <th>event</th>\n",
       "      <th>person</th>\n",
       "      <th>sku</th>\n",
       "      <th>model</th>\n",
       "      <th>condition</th>\n",
       "      <th>storage</th>\n",
       "      <th>color</th>\n",
       "    </tr>\n",
       "  </thead>\n",
       "  <tbody>\n",
       "    <tr>\n",
       "      <th>3</th>\n",
       "      <td>2018-05-31 23:38:40</td>\n",
       "      <td>checkout</td>\n",
       "      <td>0004b0a2</td>\n",
       "      <td>2694.0</td>\n",
       "      <td>iPhone 5s</td>\n",
       "      <td>Bom</td>\n",
       "      <td>32GB</td>\n",
       "      <td>Cinza espacial</td>\n",
       "    </tr>\n",
       "    <tr>\n",
       "      <th>7</th>\n",
       "      <td>2018-05-29 13:29:35</td>\n",
       "      <td>checkout</td>\n",
       "      <td>0006a21a</td>\n",
       "      <td>15338.0</td>\n",
       "      <td>Samsung Galaxy S8</td>\n",
       "      <td>Bom</td>\n",
       "      <td>64GB</td>\n",
       "      <td>Dourado</td>\n",
       "    </tr>\n",
       "    <tr>\n",
       "      <th>44</th>\n",
       "      <td>2018-05-24 11:34:32</td>\n",
       "      <td>checkout</td>\n",
       "      <td>000a54b2</td>\n",
       "      <td>12660.0</td>\n",
       "      <td>Motorola Moto Z Play</td>\n",
       "      <td>Bom</td>\n",
       "      <td>32GB</td>\n",
       "      <td>Preto</td>\n",
       "    </tr>\n",
       "  </tbody>\n",
       "</table>\n",
       "</div>"
      ],
      "text/plain": [
       "              timestamp     event    person      sku                 model  \\\n",
       "3   2018-05-31 23:38:40  checkout  0004b0a2   2694.0             iPhone 5s   \n",
       "7   2018-05-29 13:29:35  checkout  0006a21a  15338.0     Samsung Galaxy S8   \n",
       "44  2018-05-24 11:34:32  checkout  000a54b2  12660.0  Motorola Moto Z Play   \n",
       "\n",
       "   condition storage           color  \n",
       "3        Bom    32GB  Cinza espacial  \n",
       "7        Bom    64GB         Dourado  \n",
       "44       Bom    32GB           Preto  "
      ]
     },
     "execution_count": 9,
     "metadata": {},
     "output_type": "execute_result"
    }
   ],
   "source": [
    "df_viewd_prod = df_original.loc[df_original['event']=='checkout', :]\n",
    "df_viewd_prod.dropna(axis=1, how='all').head(3)"
   ]
  },
  {
   "cell_type": "markdown",
   "metadata": {},
   "source": [
    "### ```staticpage```"
   ]
  },
  {
   "cell_type": "code",
   "execution_count": 10,
   "metadata": {},
   "outputs": [
    {
     "data": {
      "text/html": [
       "<div>\n",
       "<style scoped>\n",
       "    .dataframe tbody tr th:only-of-type {\n",
       "        vertical-align: middle;\n",
       "    }\n",
       "\n",
       "    .dataframe tbody tr th {\n",
       "        vertical-align: top;\n",
       "    }\n",
       "\n",
       "    .dataframe thead th {\n",
       "        text-align: right;\n",
       "    }\n",
       "</style>\n",
       "<table border=\"1\" class=\"dataframe\">\n",
       "  <thead>\n",
       "    <tr style=\"text-align: right;\">\n",
       "      <th></th>\n",
       "      <th>timestamp</th>\n",
       "      <th>event</th>\n",
       "      <th>person</th>\n",
       "      <th>staticpage</th>\n",
       "    </tr>\n",
       "  </thead>\n",
       "  <tbody>\n",
       "    <tr>\n",
       "      <th>254</th>\n",
       "      <td>2018-05-28 22:45:54</td>\n",
       "      <td>staticpage</td>\n",
       "      <td>0024ad28</td>\n",
       "      <td>how-to-buy</td>\n",
       "    </tr>\n",
       "    <tr>\n",
       "      <th>350</th>\n",
       "      <td>2018-05-30 01:06:09</td>\n",
       "      <td>staticpage</td>\n",
       "      <td>002932b1</td>\n",
       "      <td>trust-trocafone</td>\n",
       "    </tr>\n",
       "    <tr>\n",
       "      <th>1323</th>\n",
       "      <td>2018-06-01 03:36:45</td>\n",
       "      <td>staticpage</td>\n",
       "      <td>00751747</td>\n",
       "      <td>Quiosks</td>\n",
       "    </tr>\n",
       "  </tbody>\n",
       "</table>\n",
       "</div>"
      ],
      "text/plain": [
       "                timestamp       event    person       staticpage\n",
       "254   2018-05-28 22:45:54  staticpage  0024ad28       how-to-buy\n",
       "350   2018-05-30 01:06:09  staticpage  002932b1  trust-trocafone\n",
       "1323  2018-06-01 03:36:45  staticpage  00751747          Quiosks"
      ]
     },
     "execution_count": 10,
     "metadata": {},
     "output_type": "execute_result"
    }
   ],
   "source": [
    "df_viewd_prod = df_original.loc[df_original['event']=='staticpage', :]\n",
    "df_viewd_prod.dropna(axis=1, how='all').head(3)"
   ]
  },
  {
   "cell_type": "markdown",
   "metadata": {},
   "source": [
    "### ```conversion```"
   ]
  },
  {
   "cell_type": "code",
   "execution_count": 11,
   "metadata": {},
   "outputs": [
    {
     "data": {
      "text/html": [
       "<div>\n",
       "<style scoped>\n",
       "    .dataframe tbody tr th:only-of-type {\n",
       "        vertical-align: middle;\n",
       "    }\n",
       "\n",
       "    .dataframe tbody tr th {\n",
       "        vertical-align: top;\n",
       "    }\n",
       "\n",
       "    .dataframe thead th {\n",
       "        text-align: right;\n",
       "    }\n",
       "</style>\n",
       "<table border=\"1\" class=\"dataframe\">\n",
       "  <thead>\n",
       "    <tr style=\"text-align: right;\">\n",
       "      <th></th>\n",
       "      <th>timestamp</th>\n",
       "      <th>event</th>\n",
       "      <th>person</th>\n",
       "      <th>sku</th>\n",
       "      <th>model</th>\n",
       "      <th>condition</th>\n",
       "      <th>storage</th>\n",
       "      <th>color</th>\n",
       "    </tr>\n",
       "  </thead>\n",
       "  <tbody>\n",
       "    <tr>\n",
       "      <th>220</th>\n",
       "      <td>2018-03-20 17:46:12</td>\n",
       "      <td>conversion</td>\n",
       "      <td>00204059</td>\n",
       "      <td>3084.0</td>\n",
       "      <td>Motorola Moto X2</td>\n",
       "      <td>Muito Bom</td>\n",
       "      <td>32GB</td>\n",
       "      <td>Couro Vintage</td>\n",
       "    </tr>\n",
       "    <tr>\n",
       "      <th>2282</th>\n",
       "      <td>2018-04-26 22:28:53</td>\n",
       "      <td>conversion</td>\n",
       "      <td>00c13dee</td>\n",
       "      <td>6650.0</td>\n",
       "      <td>Samsung Galaxy Core Plus Duos TV</td>\n",
       "      <td>Muito Bom</td>\n",
       "      <td>4GB</td>\n",
       "      <td>Branco</td>\n",
       "    </tr>\n",
       "    <tr>\n",
       "      <th>2547</th>\n",
       "      <td>2018-06-10 14:37:50</td>\n",
       "      <td>conversion</td>\n",
       "      <td>00fdbb4b</td>\n",
       "      <td>3348.0</td>\n",
       "      <td>Samsung Galaxy S6 Flat</td>\n",
       "      <td>Muito Bom</td>\n",
       "      <td>32GB</td>\n",
       "      <td>Branco</td>\n",
       "    </tr>\n",
       "  </tbody>\n",
       "</table>\n",
       "</div>"
      ],
      "text/plain": [
       "                timestamp       event    person     sku  \\\n",
       "220   2018-03-20 17:46:12  conversion  00204059  3084.0   \n",
       "2282  2018-04-26 22:28:53  conversion  00c13dee  6650.0   \n",
       "2547  2018-06-10 14:37:50  conversion  00fdbb4b  3348.0   \n",
       "\n",
       "                                 model  condition storage          color  \n",
       "220                   Motorola Moto X2  Muito Bom    32GB  Couro Vintage  \n",
       "2282  Samsung Galaxy Core Plus Duos TV  Muito Bom     4GB         Branco  \n",
       "2547            Samsung Galaxy S6 Flat  Muito Bom    32GB         Branco  "
      ]
     },
     "execution_count": 11,
     "metadata": {},
     "output_type": "execute_result"
    }
   ],
   "source": [
    "df_viewd_prod = df_original.loc[df_original['event']=='conversion', :]\n",
    "df_viewd_prod.dropna(axis=1, how='all').head(3)"
   ]
  },
  {
   "cell_type": "markdown",
   "metadata": {},
   "source": [
    "### ```lead```"
   ]
  },
  {
   "cell_type": "code",
   "execution_count": 12,
   "metadata": {},
   "outputs": [
    {
     "data": {
      "text/html": [
       "<div>\n",
       "<style scoped>\n",
       "    .dataframe tbody tr th:only-of-type {\n",
       "        vertical-align: middle;\n",
       "    }\n",
       "\n",
       "    .dataframe tbody tr th {\n",
       "        vertical-align: top;\n",
       "    }\n",
       "\n",
       "    .dataframe thead th {\n",
       "        text-align: right;\n",
       "    }\n",
       "</style>\n",
       "<table border=\"1\" class=\"dataframe\">\n",
       "  <thead>\n",
       "    <tr style=\"text-align: right;\">\n",
       "      <th></th>\n",
       "      <th>timestamp</th>\n",
       "      <th>event</th>\n",
       "      <th>person</th>\n",
       "      <th>model</th>\n",
       "    </tr>\n",
       "  </thead>\n",
       "  <tbody>\n",
       "    <tr>\n",
       "      <th>3248</th>\n",
       "      <td>2018-04-17 22:11:19</td>\n",
       "      <td>lead</td>\n",
       "      <td>01139919</td>\n",
       "      <td>Samsung Galaxy On 7</td>\n",
       "    </tr>\n",
       "    <tr>\n",
       "      <th>6636</th>\n",
       "      <td>2018-04-07 11:37:11</td>\n",
       "      <td>lead</td>\n",
       "      <td>01bca043</td>\n",
       "      <td>iPhone 6 Plus</td>\n",
       "    </tr>\n",
       "    <tr>\n",
       "      <th>7036</th>\n",
       "      <td>2018-02-12 17:23:30</td>\n",
       "      <td>lead</td>\n",
       "      <td>01db2fe6</td>\n",
       "      <td>Samsung Galaxy J5</td>\n",
       "    </tr>\n",
       "  </tbody>\n",
       "</table>\n",
       "</div>"
      ],
      "text/plain": [
       "                timestamp event    person                model\n",
       "3248  2018-04-17 22:11:19  lead  01139919  Samsung Galaxy On 7\n",
       "6636  2018-04-07 11:37:11  lead  01bca043        iPhone 6 Plus\n",
       "7036  2018-02-12 17:23:30  lead  01db2fe6    Samsung Galaxy J5"
      ]
     },
     "execution_count": 12,
     "metadata": {},
     "output_type": "execute_result"
    }
   ],
   "source": [
    "df_viewd_prod = df_original.loc[df_original['event']=='lead', :]\n",
    "df_viewd_prod.dropna(axis=1, how='all').head(3)"
   ]
  }
 ],
 "metadata": {
  "kernelspec": {
   "display_name": "Python 3",
   "language": "python",
   "name": "python3"
  },
  "language_info": {
   "codemirror_mode": {
    "name": "ipython",
    "version": 3
   },
   "file_extension": ".py",
   "mimetype": "text/x-python",
   "name": "python",
   "nbconvert_exporter": "python",
   "pygments_lexer": "ipython3",
   "version": "3.6.5"
  }
 },
 "nbformat": 4,
 "nbformat_minor": 2
}
