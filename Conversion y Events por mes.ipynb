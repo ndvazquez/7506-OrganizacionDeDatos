{
 "cells": [
  {
   "cell_type": "code",
   "execution_count": null,
   "metadata": {},
   "outputs": [],
   "source": [
    "\n",
    "import pandas as pd\n",
    "import numpy as np\n",
    "import matplotlib.pyplot as plt\n",
    "import seaborn as sns\n",
    "import plotly as plotly\n",
    "import plotly.plotly as py\n",
    "import plotly.figure_factory as ff\n",
    "import plotly.graph_objs as go\n",
    "import pycountry as pycountry\n",
    "import geopandas\n",
    "%matplotlib inline\n",
    "\n",
    "plt.style.use('default')\n",
    "\n",
    "sns.set(style='whitegrid')"
   ]
  },
  {
   "cell_type": "markdown",
   "metadata": {},
   "source": [
    "# Conversiones por día en cada mes"
   ]
  },
  {
   "cell_type": "code",
   "execution_count": null,
   "metadata": {},
   "outputs": [],
   "source": [
    "df = pd.read_csv('events.csv', low_memory=False)\n",
    "df['timestamp'] = pd.to_datetime(df['timestamp'])\n",
    "df['day'] = df['timestamp'].dt.day\n",
    "heatmap_df = df.loc[df['event'] == 'conversion',['timestamp', 'day', 'event']]\n",
    "heatmap_df['month'] = heatmap_df['timestamp'].dt.month"
   ]
  },
  {
   "cell_type": "code",
   "execution_count": null,
   "metadata": {},
   "outputs": [],
   "source": [
    "for_heatmap = heatmap_df.pivot_table(index='day', columns='month', values='event', aggfunc='count')\n",
    "for_heatmap"
   ]
  },
  {
   "cell_type": "code",
   "execution_count": null,
   "metadata": {},
   "outputs": [],
   "source": [
    "plt.figure(figsize=[14,8])\n",
    "g = sns.heatmap(for_heatmap, cmap=\"YlGnBu\")\n",
    "g.set_title(\"Conversions per day, for each month\", fontsize=20)\n",
    "g.set_xlabel(\"Month\", fontsize=18)\n",
    "g.set_ylabel(\"Day\", fontsize=18)\n",
    "plt.xticks(rotation=0)\n",
    "plt.yticks(rotation=0)"
   ]
  },
  {
   "cell_type": "markdown",
   "metadata": {},
   "source": [
    "Podemos claramente ver Junio y Julio fueron los mejores meses de ventas, pero tal vez el aumento de estas puede ser mejor visualizada con un lineplot"
   ]
  },
  {
   "cell_type": "code",
   "execution_count": null,
   "metadata": {},
   "outputs": [],
   "source": [
    "df = pd.read_csv('events.csv', low_memory=False)\n",
    "df['timestamp'] = pd.to_datetime(df['timestamp'])\n",
    "heatmap_df = df.loc[df['event'] == 'conversion',['timestamp', 'event']]\n",
    "heatmap_df['month'] = heatmap_df['timestamp'].dt.month\n",
    "\n",
    "heatmap_df.drop('timestamp', axis=1)\n",
    "line = heatmap_df['month'].value_counts().to_frame()\n",
    "line\n",
    "\n",
    "line['months'] = line.index\n",
    "line.sort_values(by=['months'])\n",
    "line = line.rename(columns={'month': 'conversions', 'months': 'month'})\n",
    "\n",
    "line"
   ]
  },
  {
   "cell_type": "code",
   "execution_count": null,
   "metadata": {},
   "outputs": [],
   "source": [
    "ax = sns.lineplot(x=\"month\", y=\"conversions\", data=line)\n"
   ]
  },
  {
   "cell_type": "markdown",
   "metadata": {},
   "source": [
    "# Eventos por cada día por cada mes"
   ]
  },
  {
   "cell_type": "code",
   "execution_count": null,
   "metadata": {},
   "outputs": [],
   "source": [
    "df = pd.read_csv('events.csv', low_memory=False)\n",
    "df['timestamp'] = pd.to_datetime(df['timestamp'])\n",
    "df['s_timestamp'] = df['timestamp'].apply(lambda x: x.date())\n",
    "df['weekday'] = df['timestamp'].dt.weekday_name\n",
    "\n",
    "heatmap_df = df.loc[:,['timestamp', 'weekday', 'event']]\n",
    "\n",
    "heatmap_df['month'] = heatmap_df['timestamp'].dt.month\n",
    "heatmap_df['weekday'] = pd.Categorical(heatmap_df['weekday'],\\\n",
    "               categories=['Monday','Tuesday','Wednesday','Thursday','Friday','Saturday', 'Sunday'], ordered=True)"
   ]
  },
  {
   "cell_type": "code",
   "execution_count": null,
   "metadata": {},
   "outputs": [],
   "source": [
    "for_heatmap = heatmap_df.pivot_table(index='weekday', columns='month', values='event', aggfunc='count')\n",
    "for_heatmap"
   ]
  },
  {
   "cell_type": "code",
   "execution_count": null,
   "metadata": {},
   "outputs": [],
   "source": [
    "plt.figure(figsize=[14,8])\n",
    "g = sns.heatmap(for_heatmap, cmap='Purples')\n",
    "g.set_title(\"Events per day, for each month\", fontsize=20)\n",
    "g.set_xlabel(\"Month\", fontsize=18)\n",
    "g.set_ylabel(\"Day\", fontsize=18)\n",
    "plt.xticks(rotation=0)\n",
    "plt.yticks(rotation=0)"
   ]
  },
  {
   "cell_type": "code",
   "execution_count": null,
   "metadata": {},
   "outputs": [],
   "source": []
  }
 ],
 "metadata": {
  "kernelspec": {
   "display_name": "Python 3",
   "language": "python",
   "name": "python3"
  },
  "language_info": {
   "codemirror_mode": {
    "name": "ipython",
    "version": 3
   },
   "file_extension": ".py",
   "mimetype": "text/x-python",
   "name": "python",
   "nbconvert_exporter": "python",
   "pygments_lexer": "ipython3",
   "version": "3.5.2"
  }
 },
 "nbformat": 4,
 "nbformat_minor": 2
}
