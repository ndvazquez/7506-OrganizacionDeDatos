{
 "cells": [
  {
   "cell_type": "code",
   "execution_count": null,
   "metadata": {},
   "outputs": [],
   "source": [
    "import pandas as pd\n",
    "import numpy as np\n",
    "import matplotlib.pyplot as plt\n",
    "import seaborn as sns\n",
    "import plotly as plotly\n",
    "import plotly.plotly as py\n",
    "import plotly.figure_factory as ff\n",
    "import plotly.graph_objs as go\n",
    "import pycountry as pycountry\n",
    "import geopandas\n",
    "%matplotlib inline\n",
    "\n",
    "plt.style.use('default')\n",
    "\n",
    "sns.set(style='whitegrid')"
   ]
  },
  {
   "cell_type": "code",
   "execution_count": null,
   "metadata": {},
   "outputs": [],
   "source": [
    "df = pd.read_csv('events.csv', low_memory=False)\n",
    "\n",
    "df = df.dropna(subset=['city'])\n",
    "df = df[df.city != 'Unknown']\n",
    "df = df['country'].value_counts().to_frame()\n",
    "df['months'] = df.index\n",
    "df = df.rename(columns={'country': 'events', 'months': 'country'})\n",
    "\n",
    "countries = {}\n",
    "for country in pycountry.countries:\n",
    "    countries[country.name] = country.alpha_3\n",
    "    \n",
    "df['country'] = df['country'].replace(countries)\n",
    "df = df[df.country != 'Venezuela']\n",
    "df = df[df.country != 'Russia']\n",
    "df"
   ]
  },
  {
   "cell_type": "code",
   "execution_count": null,
   "metadata": {},
   "outputs": [],
   "source": [
    "plotly.tools.set_credentials_file(username='Florencia-97', api_key='VQgR2XhfedXEFIdPr9TT')\n",
    "\n",
    "df.head()\n",
    "\n",
    "data = [dict(\n",
    "        type = 'choropleth',\n",
    "        locations = df['country'],\n",
    "        z = df['events'],\n",
    "        text = df['country'],\n",
    "        colorscale = 'Viridis',\n",
    "        autocolorscale = False,\n",
    "        reversescale = True,\n",
    "        marker = dict(\n",
    "            line = dict (\n",
    "                color = 'rgb(180,180,180)',\n",
    "                width = 0.5\n",
    "            ) ),\n",
    "        colorbar = {'title':'Events'},\n",
    "      ) ]\n",
    "\n",
    "layout = dict(\n",
    "    title = 'Events by Country',\n",
    "    geo = dict(\n",
    "        showframe = True,\n",
    "        showcoastlines = True,\n",
    "        projection = dict(\n",
    "            type = 'mercator'\n",
    "        )\n",
    "    )\n",
    ")\n",
    "\n",
    "fig = dict( data=data, layout=layout )\n",
    "py.iplot(fig, filename='d3-world-map')\n"
   ]
  },
  {
   "cell_type": "markdown",
   "metadata": {},
   "source": [
    "## Dado que obtuvimos que la mayor cantidad de trafico proviene de Brasil, veremos las regiones:"
   ]
  },
  {
   "cell_type": "code",
   "execution_count": null,
   "metadata": {},
   "outputs": [],
   "source": [
    "import pandas as pd\n",
    "import numpy as np\n",
    "import matplotlib.pyplot as plt\n",
    "import seaborn as sns\n",
    "import geopandas as gpd"
   ]
  },
  {
   "cell_type": "code",
   "execution_count": null,
   "metadata": {},
   "outputs": [],
   "source": [
    "fp = \"BRA_adm1.shp\"\n",
    "map_df = gpd.read_file(fp)\n",
    "map_df.head(260)"
   ]
  },
  {
   "cell_type": "code",
   "execution_count": null,
   "metadata": {},
   "outputs": [],
   "source": [
    "\n",
    "f, ax = plt.subplots(1, figsize=(15, 15))\n",
    "ax = map_df.plot(ax=ax)\n",
    "ax.set_axis_off()\n",
    "plt.show()\n",
    "\n",
    "#map_df.plot()"
   ]
  },
  {
   "cell_type": "code",
   "execution_count": null,
   "metadata": {},
   "outputs": [],
   "source": [
    "df = pd.read_csv('events.csv', low_memory=False)"
   ]
  },
  {
   "cell_type": "code",
   "execution_count": null,
   "metadata": {},
   "outputs": [],
   "source": [
    "filter = df[df[\"country\"]==\"Brazil\"]"
   ]
  },
  {
   "cell_type": "code",
   "execution_count": null,
   "metadata": {},
   "outputs": [],
   "source": [
    "filter2 = filter[filter[\"region\"]!=\"Unknown\"][\"region\"].value_counts().to_frame()\n",
    "filter2.reset_index(inplace=True)"
   ]
  },
  {
   "cell_type": "code",
   "execution_count": null,
   "metadata": {},
   "outputs": [],
   "source": [
    "filter2"
   ]
  },
  {
   "cell_type": "code",
   "execution_count": null,
   "metadata": {},
   "outputs": [],
   "source": [
    "filter2[\"index\"]= filter2[\"index\"].replace(to_replace=\"Sao Paulo\",value=\"São Paulo\")\n",
    "filter2[\"index\"]= filter2[\"index\"].replace(to_replace=\"Federal District\",value=\"Distrito Federal\")\n",
    "filter2[\"index\"]= filter2[\"index\"].replace(to_replace=\"Ceara\",value=\"Ceará\")\n",
    "filter2[\"index\"]= filter2[\"index\"].replace(to_replace=\"Parana\",value=\"Paraná\")\n",
    "filter2[\"index\"]= filter2[\"index\"].replace(to_replace=\"Amapa\",value=\"Amapá\")\n",
    "filter2[\"index\"]= filter2[\"index\"].replace(to_replace=\"Espirito Santo\",value=\"Espírito Santo\")\n",
    "filter2[\"index\"]= filter2[\"index\"].replace(to_replace=\"Goias\",value=\"Goiás\")\n",
    "filter2[\"index\"]= filter2[\"index\"].replace(to_replace=\"Maranhao\",value=\"Maranhão\")\n",
    "filter2[\"index\"]= filter2[\"index\"].replace(to_replace=\"Para\",value=\"Pará\")\n",
    "filter2[\"index\"]= filter2[\"index\"].replace(to_replace=\"Piaui\",value=\"Piauí\")\n",
    "filter2[\"index\"]= filter2[\"index\"].replace(to_replace=\"Rondonia\",value=\"Rondônia\")\n"
   ]
  },
  {
   "cell_type": "code",
   "execution_count": null,
   "metadata": {},
   "outputs": [],
   "source": [
    "merged = map_df.set_index('NAME_1').join(filter2.set_index('index'))\n",
    "merged[\"region\"] = merged[\"region\"].fillna(0)\n",
    "\n",
    "as_list = merged.index.tolist()\n",
    "idx = as_list.index('Distrito Federal')\n",
    "as_list[idx] = 'D.F.'\n",
    "merged.index = as_list\n",
    "merged.head(555)"
   ]
  },
  {
   "cell_type": "code",
   "execution_count": null,
   "metadata": {},
   "outputs": [],
   "source": [
    "ax = merged.plot(column=\"region\", cmap='Wistia', figsize=(16, 10),edgecolor=\"white\",legend=True)\n",
    "ax.set_title(\"Mapa coroplético  de las regiones de Brasil con mayor actividad\",fontsize=20)\n",
    "ax.text(-16, -15, 'Cantidad',\n",
    "        rotation='vertical',fontsize=15)\n",
    "\n",
    "ax.set_xlabel(\"Latitud\",fontsize=15)\n",
    "ax.set_ylabel(\"Latitud\",fontsize=15)\n",
    "merged.apply(lambda x: ax.annotate(s=x.name, xy=x.geometry.centroid.coords[0], ha='center'),axis=1);\n"
   ]
  },
  {
   "cell_type": "code",
   "execution_count": null,
   "metadata": {},
   "outputs": [],
   "source": []
  },
  {
   "cell_type": "code",
   "execution_count": null,
   "metadata": {},
   "outputs": [],
   "source": []
  }
 ],
 "metadata": {
  "kernelspec": {
   "display_name": "Python 3",
   "language": "python",
   "name": "python3"
  },
  "language_info": {
   "codemirror_mode": {
    "name": "ipython",
    "version": 3
   },
   "file_extension": ".py",
   "mimetype": "text/x-python",
   "name": "python",
   "nbconvert_exporter": "python",
   "pygments_lexer": "ipython3",
   "version": "3.6.5"
  }
 },
 "nbformat": 4,
 "nbformat_minor": 2
}
