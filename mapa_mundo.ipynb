{
 "cells": [
  {
   "cell_type": "code",
   "execution_count": 1,
   "metadata": {},
   "outputs": [],
   "source": [
    "import pandas as pd\n",
    "import numpy as np\n",
    "import matplotlib.pyplot as plt\n",
    "import seaborn as sns\n",
    "import plotly as plotly\n",
    "import plotly.plotly as py\n",
    "import plotly.figure_factory as ff\n",
    "import plotly.graph_objs as go\n",
    "import pycountry as pycountry\n",
    "import geopandas\n",
    "%matplotlib inline\n",
    "\n",
    "plt.style.use('default')\n",
    "\n",
    "sns.set(style='whitegrid')"
   ]
  },
  {
   "cell_type": "code",
   "execution_count": 2,
   "metadata": {},
   "outputs": [
    {
     "data": {
      "text/html": [
       "<div>\n",
       "<style scoped>\n",
       "    .dataframe tbody tr th:only-of-type {\n",
       "        vertical-align: middle;\n",
       "    }\n",
       "\n",
       "    .dataframe tbody tr th {\n",
       "        vertical-align: top;\n",
       "    }\n",
       "\n",
       "    .dataframe thead th {\n",
       "        text-align: right;\n",
       "    }\n",
       "</style>\n",
       "<table border=\"1\" class=\"dataframe\">\n",
       "  <thead>\n",
       "    <tr style=\"text-align: right;\">\n",
       "      <th></th>\n",
       "      <th>events</th>\n",
       "      <th>country</th>\n",
       "    </tr>\n",
       "  </thead>\n",
       "  <tbody>\n",
       "    <tr>\n",
       "      <th>Brazil</th>\n",
       "      <td>70935</td>\n",
       "      <td>BRA</td>\n",
       "    </tr>\n",
       "    <tr>\n",
       "      <th>United States</th>\n",
       "      <td>407</td>\n",
       "      <td>USA</td>\n",
       "    </tr>\n",
       "    <tr>\n",
       "      <th>Argentina</th>\n",
       "      <td>86</td>\n",
       "      <td>ARG</td>\n",
       "    </tr>\n",
       "    <tr>\n",
       "      <th>Canada</th>\n",
       "      <td>31</td>\n",
       "      <td>CAN</td>\n",
       "    </tr>\n",
       "    <tr>\n",
       "      <th>Japan</th>\n",
       "      <td>11</td>\n",
       "      <td>JPN</td>\n",
       "    </tr>\n",
       "    <tr>\n",
       "      <th>United Kingdom</th>\n",
       "      <td>10</td>\n",
       "      <td>GBR</td>\n",
       "    </tr>\n",
       "    <tr>\n",
       "      <th>Poland</th>\n",
       "      <td>9</td>\n",
       "      <td>POL</td>\n",
       "    </tr>\n",
       "    <tr>\n",
       "      <th>Netherlands</th>\n",
       "      <td>9</td>\n",
       "      <td>NLD</td>\n",
       "    </tr>\n",
       "    <tr>\n",
       "      <th>Mozambique</th>\n",
       "      <td>8</td>\n",
       "      <td>MOZ</td>\n",
       "    </tr>\n",
       "    <tr>\n",
       "      <th>Portugal</th>\n",
       "      <td>7</td>\n",
       "      <td>PRT</td>\n",
       "    </tr>\n",
       "    <tr>\n",
       "      <th>Romania</th>\n",
       "      <td>7</td>\n",
       "      <td>ROU</td>\n",
       "    </tr>\n",
       "    <tr>\n",
       "      <th>Dominican Republic</th>\n",
       "      <td>6</td>\n",
       "      <td>DOM</td>\n",
       "    </tr>\n",
       "    <tr>\n",
       "      <th>French Guiana</th>\n",
       "      <td>6</td>\n",
       "      <td>GUF</td>\n",
       "    </tr>\n",
       "    <tr>\n",
       "      <th>Italy</th>\n",
       "      <td>4</td>\n",
       "      <td>ITA</td>\n",
       "    </tr>\n",
       "    <tr>\n",
       "      <th>Switzerland</th>\n",
       "      <td>3</td>\n",
       "      <td>CHE</td>\n",
       "    </tr>\n",
       "    <tr>\n",
       "      <th>France</th>\n",
       "      <td>3</td>\n",
       "      <td>FRA</td>\n",
       "    </tr>\n",
       "    <tr>\n",
       "      <th>Paraguay</th>\n",
       "      <td>2</td>\n",
       "      <td>PRY</td>\n",
       "    </tr>\n",
       "    <tr>\n",
       "      <th>India</th>\n",
       "      <td>2</td>\n",
       "      <td>IND</td>\n",
       "    </tr>\n",
       "    <tr>\n",
       "      <th>Germany</th>\n",
       "      <td>2</td>\n",
       "      <td>DEU</td>\n",
       "    </tr>\n",
       "    <tr>\n",
       "      <th>Sri Lanka</th>\n",
       "      <td>1</td>\n",
       "      <td>LKA</td>\n",
       "    </tr>\n",
       "    <tr>\n",
       "      <th>Bangladesh</th>\n",
       "      <td>1</td>\n",
       "      <td>BGD</td>\n",
       "    </tr>\n",
       "    <tr>\n",
       "      <th>Uruguay</th>\n",
       "      <td>1</td>\n",
       "      <td>URY</td>\n",
       "    </tr>\n",
       "    <tr>\n",
       "      <th>Mexico</th>\n",
       "      <td>1</td>\n",
       "      <td>MEX</td>\n",
       "    </tr>\n",
       "    <tr>\n",
       "      <th>Turkey</th>\n",
       "      <td>1</td>\n",
       "      <td>TUR</td>\n",
       "    </tr>\n",
       "    <tr>\n",
       "      <th>South Africa</th>\n",
       "      <td>1</td>\n",
       "      <td>ZAF</td>\n",
       "    </tr>\n",
       "    <tr>\n",
       "      <th>China</th>\n",
       "      <td>1</td>\n",
       "      <td>CHN</td>\n",
       "    </tr>\n",
       "    <tr>\n",
       "      <th>Morocco</th>\n",
       "      <td>1</td>\n",
       "      <td>MAR</td>\n",
       "    </tr>\n",
       "  </tbody>\n",
       "</table>\n",
       "</div>"
      ],
      "text/plain": [
       "                    events country\n",
       "Brazil               70935     BRA\n",
       "United States          407     USA\n",
       "Argentina               86     ARG\n",
       "Canada                  31     CAN\n",
       "Japan                   11     JPN\n",
       "United Kingdom          10     GBR\n",
       "Poland                   9     POL\n",
       "Netherlands              9     NLD\n",
       "Mozambique               8     MOZ\n",
       "Portugal                 7     PRT\n",
       "Romania                  7     ROU\n",
       "Dominican Republic       6     DOM\n",
       "French Guiana            6     GUF\n",
       "Italy                    4     ITA\n",
       "Switzerland              3     CHE\n",
       "France                   3     FRA\n",
       "Paraguay                 2     PRY\n",
       "India                    2     IND\n",
       "Germany                  2     DEU\n",
       "Sri Lanka                1     LKA\n",
       "Bangladesh               1     BGD\n",
       "Uruguay                  1     URY\n",
       "Mexico                   1     MEX\n",
       "Turkey                   1     TUR\n",
       "South Africa             1     ZAF\n",
       "China                    1     CHN\n",
       "Morocco                  1     MAR"
      ]
     },
     "execution_count": 2,
     "metadata": {},
     "output_type": "execute_result"
    }
   ],
   "source": [
    "df = pd.read_csv('events.csv', low_memory=False)\n",
    "\n",
    "df = df.dropna(subset=['city'])\n",
    "df = df[df.city != 'Unknown']\n",
    "df = df['country'].value_counts().to_frame()\n",
    "df['months'] = df.index\n",
    "df = df.rename(columns={'country': 'events', 'months': 'country'})\n",
    "\n",
    "countries = {}\n",
    "for country in pycountry.countries:\n",
    "    countries[country.name] = country.alpha_3\n",
    "    \n",
    "df['country'] = df['country'].replace(countries)\n",
    "df = df[df.country != 'Venezuela']\n",
    "df = df[df.country != 'Russia']\n",
    "df"
   ]
  },
  {
   "cell_type": "code",
   "execution_count": 3,
   "metadata": {},
   "outputs": [
    {
     "name": "stdout",
     "output_type": "stream",
     "text": [
      "High five! You successfully sent some data to your account on plotly. View your plot in your browser at https://plot.ly/~Florencia-97/0 or inside your plot.ly account where it is named 'd3-world-map'\n"
     ]
    },
    {
     "data": {
      "text/html": [
       "<iframe id=\"igraph\" scrolling=\"no\" style=\"border:none;\" seamless=\"seamless\" src=\"https://plot.ly/~Florencia-97/0.embed\" height=\"800px\" width=\"800px\"></iframe>"
      ],
      "text/plain": [
       "<plotly.tools.PlotlyDisplay object>"
      ]
     },
     "execution_count": 3,
     "metadata": {},
     "output_type": "execute_result"
    }
   ],
   "source": [
    "plotly.tools.set_credentials_file(username='Florencia-97', api_key='VQgR2XhfedXEFIdPr9TT')\n",
    "\n",
    "df.head()\n",
    "\n",
    "data = [dict(\n",
    "        type = 'choropleth',\n",
    "        locations = df['country'],\n",
    "        z = df['events'],\n",
    "        text = df['country'],\n",
    "        colorscale = 'Viridis',\n",
    "        autocolorscale = False,\n",
    "        reversescale = True,\n",
    "        marker = dict(\n",
    "            line = dict (\n",
    "                color = 'rgb(180,180,180)',\n",
    "                width = 0.5\n",
    "            ) ),\n",
    "        colorbar = {'title':'Frecuencia'},\n",
    "      ) ]\n",
    "\n",
    "layout = dict(\n",
    "    title = 'Eventos por País',\n",
    "    width=800,\n",
    "    height=800,\n",
    "    geo = dict(\n",
    "        showframe = True,\n",
    "        showcoastlines = True,\n",
    "        projection = dict(\n",
    "            type = 'mercator'\n",
    "        )\n",
    "    )\n",
    ")\n",
    "\n",
    "fig = dict( data=data, layout=layout )\n",
    "py.iplot(fig, filename='d3-world-map')\n"
   ]
  },
  {
   "cell_type": "markdown",
   "metadata": {},
   "source": [
    "## Dado que obtuvimos que la mayor cantidad de trafico proviene de Brasil, veremos las regiones:"
   ]
  },
  {
   "cell_type": "code",
   "execution_count": 4,
   "metadata": {},
   "outputs": [],
   "source": [
    "import pandas as pd\n",
    "import numpy as np\n",
    "import matplotlib.pyplot as plt\n",
    "import seaborn as sns\n",
    "import geopandas as gpd"
   ]
  },
  {
   "cell_type": "code",
   "execution_count": null,
   "metadata": {},
   "outputs": [],
   "source": [
    "fp = \"data/BRA_adm/BRA_adm1.shp\"\n",
    "map_df = gpd.read_file(fp)\n",
    "map_df.head(260)"
   ]
  },
  {
   "cell_type": "code",
   "execution_count": null,
   "metadata": {},
   "outputs": [],
   "source": [
    "\n",
    "f, ax = plt.subplots(1, figsize=(15, 15))\n",
    "ax = map_df.plot(ax=ax)\n",
    "ax.set_axis_off()\n",
    "plt.show()\n",
    "\n",
    "#map_df.plot()"
   ]
  },
  {
   "cell_type": "code",
   "execution_count": null,
   "metadata": {},
   "outputs": [],
   "source": [
    "df = pd.read_csv('events.csv', low_memory=False)"
   ]
  },
  {
   "cell_type": "code",
   "execution_count": null,
   "metadata": {},
   "outputs": [],
   "source": [
    "filter = df[df[\"country\"]==\"Brazil\"]"
   ]
  },
  {
   "cell_type": "code",
   "execution_count": null,
   "metadata": {},
   "outputs": [],
   "source": [
    "filter2 = filter[filter[\"region\"]!=\"Unknown\"][\"region\"].value_counts().to_frame()\n",
    "filter2.reset_index(inplace=True)"
   ]
  },
  {
   "cell_type": "code",
   "execution_count": null,
   "metadata": {},
   "outputs": [],
   "source": [
    "filter2"
   ]
  },
  {
   "cell_type": "code",
   "execution_count": null,
   "metadata": {},
   "outputs": [],
   "source": [
    "filter2[\"index\"]= filter2[\"index\"].replace(to_replace=\"Sao Paulo\",value=\"São Paulo\")\n",
    "filter2[\"index\"]= filter2[\"index\"].replace(to_replace=\"Federal District\",value=\"Distrito Federal\")\n",
    "filter2[\"index\"]= filter2[\"index\"].replace(to_replace=\"Ceara\",value=\"Ceará\")\n",
    "filter2[\"index\"]= filter2[\"index\"].replace(to_replace=\"Parana\",value=\"Paraná\")\n",
    "filter2[\"index\"]= filter2[\"index\"].replace(to_replace=\"Amapa\",value=\"Amapá\")\n",
    "filter2[\"index\"]= filter2[\"index\"].replace(to_replace=\"Espirito Santo\",value=\"Espírito Santo\")\n",
    "filter2[\"index\"]= filter2[\"index\"].replace(to_replace=\"Goias\",value=\"Goiás\")\n",
    "filter2[\"index\"]= filter2[\"index\"].replace(to_replace=\"Maranhao\",value=\"Maranhão\")\n",
    "filter2[\"index\"]= filter2[\"index\"].replace(to_replace=\"Para\",value=\"Pará\")\n",
    "filter2[\"index\"]= filter2[\"index\"].replace(to_replace=\"Piaui\",value=\"Piauí\")\n",
    "filter2[\"index\"]= filter2[\"index\"].replace(to_replace=\"Rondonia\",value=\"Rondônia\")\n"
   ]
  },
  {
   "cell_type": "code",
   "execution_count": null,
   "metadata": {},
   "outputs": [],
   "source": [
    "merged = map_df.set_index('NAME_1').join(filter2.set_index('index'))\n",
    "merged[\"region\"] = merged[\"region\"].fillna(0)\n",
    "\n",
    "as_list = merged.index.tolist()\n",
    "idx = as_list.index('Distrito Federal')\n",
    "as_list[idx] = 'D.F.'\n",
    "merged.index = as_list\n",
    "merged.head(555)"
   ]
  },
  {
   "cell_type": "code",
   "execution_count": null,
   "metadata": {},
   "outputs": [],
   "source": [
    "ax = merged.plot(column=\"region\", cmap='Wistia', figsize=(16, 10),edgecolor=\"white\",legend=True)\n",
    "ax.set_title(\"Mapa coroplético  de las regiones de Brasil con mayor actividad\",fontsize=20)\n",
    "ax.text(-16, -15, 'Cantidad',\n",
    "        rotation='vertical',fontsize=15)\n",
    "\n",
    "ax.set_xlabel(\"Latitud\",fontsize=15)\n",
    "ax.set_ylabel(\"Latitud\",fontsize=15)\n",
    "merged.apply(lambda x: ax.annotate(s=x.name, xy=x.geometry.centroid.coords[0], ha='center'),axis=1);\n"
   ]
  },
  {
   "cell_type": "code",
   "execution_count": null,
   "metadata": {},
   "outputs": [],
   "source": []
  },
  {
   "cell_type": "code",
   "execution_count": null,
   "metadata": {},
   "outputs": [],
   "source": []
  }
 ],
 "metadata": {
  "kernelspec": {
   "display_name": "Python 3",
   "language": "python",
   "name": "python3"
  },
  "language_info": {
   "codemirror_mode": {
    "name": "ipython",
    "version": 3
   },
   "file_extension": ".py",
   "mimetype": "text/x-python",
   "name": "python",
   "nbconvert_exporter": "python",
   "pygments_lexer": "ipython3",
   "version": "3.6.5"
  }
 },
 "nbformat": 4,
 "nbformat_minor": 2
}
