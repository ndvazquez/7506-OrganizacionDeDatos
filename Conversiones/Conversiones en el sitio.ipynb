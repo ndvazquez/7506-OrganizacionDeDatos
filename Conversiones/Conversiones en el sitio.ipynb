{
 "cells": [
  {
   "cell_type": "code",
   "execution_count": 1,
   "metadata": {},
   "outputs": [],
   "source": [
    "import pandas as pd\n",
    "import numpy as np\n",
    "import matplotlib.pyplot as plt\n",
    "import seaborn as sns\n",
    "import plotly.plotly as py\n",
    "from plotly import graph_objs as go\n",
    "from __future__ import division\n",
    "\n",
    "%matplotlib inline\n",
    "\n",
    "plt.style.use('default')\n",
    "\n",
    "sns.set(style='whitegrid')"
   ]
  },
  {
   "cell_type": "markdown",
   "metadata": {},
   "source": [
    "# Análisis de Eventos basado en usuarios que visitan el sitio y realizan una conversion en el mismo.\n",
    "\n",
    "La idea de este notebook es investigar un poco sobre el rendimiento de la página de la empresa.\n",
    "\n",
    "Lo que nos interesa ver es:\n",
    "\n",
    "1. De los usuarios que llegan a la instancia de check-out, ¿Cuántos realizan una conversion?\n",
    "\n",
    "2. ¿Cómo evolucionan en el tiempo las compras, checkouts y vistas de producto?\n",
    "\n",
    "3. Considerando los usuarios que llegan al sitio a través de una publicidad, ¿Cuántos realizan conversiones?"
   ]
  },
  {
   "cell_type": "code",
   "execution_count": 2,
   "metadata": {},
   "outputs": [],
   "source": [
    "df = pd.read_csv('events.csv', low_memory=False)"
   ]
  },
  {
   "cell_type": "code",
   "execution_count": 3,
   "metadata": {},
   "outputs": [],
   "source": [
    "# TODO: Cargar usuarios con conversion y checkout, mostrar que el top tiene conversions sin checkouts\n",
    "# y plantear la razón posible para esto (compras fuera del sitio),\n",
    "# a modo de introducción al análisis y filtro que haremos para el mismo."
   ]
  },
  {
   "cell_type": "markdown",
   "metadata": {},
   "source": [
    "## De los usuarios que llegan a la instancia de check-out, ¿Cuántos realizan una conversion?"
   ]
  },
  {
   "cell_type": "markdown",
   "metadata": {},
   "source": [
    "Vamos a obtener a todos los usuarios que tienen conversiones, para luego obtener a aquellos que también\n",
    "tienen check-outs."
   ]
  },
  {
   "cell_type": "code",
   "execution_count": 4,
   "metadata": {},
   "outputs": [
    {
     "data": {
      "text/plain": [
       "716"
      ]
     },
     "execution_count": 4,
     "metadata": {},
     "output_type": "execute_result"
    }
   ],
   "source": [
    "conversiones = df.loc[df['event'] == 'conversion', ['event', 'person', 'sku', 'model']].copy()\n",
    "conversiones_sin_us_dup = conversiones.drop_duplicates(subset='person')\n",
    "usuarios_con_conversiones = set(conversiones_sin_us_dup['person'])\n",
    "len(usuarios_con_conversiones)"
   ]
  },
  {
   "cell_type": "markdown",
   "metadata": {},
   "source": [
    "Ahora obtenemos los que también tienen check-outs."
   ]
  },
  {
   "cell_type": "code",
   "execution_count": 5,
   "metadata": {},
   "outputs": [],
   "source": [
    "usuarios_con_checkout_conversion = df.loc[(df['event'] == 'checkout') &\n",
    "                                          df['person'].isin(usuarios_con_conversiones), ['person']]\n",
    "usuarios_con_checkout_conversion.drop_duplicates(subset='person', inplace=True)\n",
    "usuarios_con_checkout_conversion = set(usuarios_con_checkout_conversion['person'])"
   ]
  },
  {
   "cell_type": "markdown",
   "metadata": {},
   "source": [
    "Procedemos a quedarnos con aquellos que compraron en el sitio de la empresa, nos basamos en que\n",
    "exista un check-out previo a una conversion, sobre el mismo SKU."
   ]
  },
  {
   "cell_type": "code",
   "execution_count": 6,
   "metadata": {},
   "outputs": [
    {
     "data": {
      "text/html": [
       "<div>\n",
       "<style scoped>\n",
       "    .dataframe tbody tr th:only-of-type {\n",
       "        vertical-align: middle;\n",
       "    }\n",
       "\n",
       "    .dataframe tbody tr th {\n",
       "        vertical-align: top;\n",
       "    }\n",
       "\n",
       "    .dataframe thead th {\n",
       "        text-align: right;\n",
       "    }\n",
       "</style>\n",
       "<table border=\"1\" class=\"dataframe\">\n",
       "  <thead>\n",
       "    <tr style=\"text-align: right;\">\n",
       "      <th></th>\n",
       "      <th>count</th>\n",
       "      <th>unique</th>\n",
       "      <th>top</th>\n",
       "      <th>freq</th>\n",
       "    </tr>\n",
       "  </thead>\n",
       "  <tbody>\n",
       "    <tr>\n",
       "      <th>timestamp</th>\n",
       "      <td>762</td>\n",
       "      <td>762</td>\n",
       "      <td>2018-03-15 04:18:12</td>\n",
       "      <td>1</td>\n",
       "    </tr>\n",
       "    <tr>\n",
       "      <th>event</th>\n",
       "      <td>762</td>\n",
       "      <td>2</td>\n",
       "      <td>checkout</td>\n",
       "      <td>381</td>\n",
       "    </tr>\n",
       "    <tr>\n",
       "      <th>person</th>\n",
       "      <td>762</td>\n",
       "      <td>381</td>\n",
       "      <td>5ec517f6</td>\n",
       "      <td>2</td>\n",
       "    </tr>\n",
       "    <tr>\n",
       "      <th>sku</th>\n",
       "      <td>762</td>\n",
       "      <td>271</td>\n",
       "      <td>6371.0</td>\n",
       "      <td>14</td>\n",
       "    </tr>\n",
       "    <tr>\n",
       "      <th>model</th>\n",
       "      <td>762</td>\n",
       "      <td>87</td>\n",
       "      <td>iPhone 5s</td>\n",
       "      <td>60</td>\n",
       "    </tr>\n",
       "  </tbody>\n",
       "</table>\n",
       "</div>"
      ],
      "text/plain": [
       "          count unique                  top freq\n",
       "timestamp   762    762  2018-03-15 04:18:12    1\n",
       "event       762      2             checkout  381\n",
       "person      762    381             5ec517f6    2\n",
       "sku         762    271               6371.0   14\n",
       "model       762     87            iPhone 5s   60"
      ]
     },
     "execution_count": 6,
     "metadata": {},
     "output_type": "execute_result"
    }
   ],
   "source": [
    "usuarios_filtrados = df.loc[(df['person'].isin(usuarios_con_checkout_conversion)) &\n",
    "            (df['event'].isin(['checkout', 'conversion'])), ['timestamp', 'event', 'person', 'sku', 'model']]\n",
    "usuarios_filtrados.drop_duplicates(subset=['event','person'], inplace=True)\n",
    "usuarios_filtrados = usuarios_filtrados[usuarios_filtrados.duplicated(subset=['person', 'sku'], keep=False)]\n",
    "usuarios_filtrados.describe().T"
   ]
  },
  {
   "cell_type": "markdown",
   "metadata": {},
   "source": [
    "Notemos que algunos usuarios tienen invertido el orden check-out/conversion. Por lo que no sabemos si\n",
    "la conversion fue realizada en el sitio o fuera del mismo (y presentan una diferencia de tiempo importante\n",
    "entre ambos eventos)"
   ]
  },
  {
   "cell_type": "code",
   "execution_count": 7,
   "metadata": {},
   "outputs": [
    {
     "data": {
      "text/html": [
       "<div>\n",
       "<style scoped>\n",
       "    .dataframe tbody tr th:only-of-type {\n",
       "        vertical-align: middle;\n",
       "    }\n",
       "\n",
       "    .dataframe tbody tr th {\n",
       "        vertical-align: top;\n",
       "    }\n",
       "\n",
       "    .dataframe thead th {\n",
       "        text-align: right;\n",
       "    }\n",
       "</style>\n",
       "<table border=\"1\" class=\"dataframe\">\n",
       "  <thead>\n",
       "    <tr style=\"text-align: right;\">\n",
       "      <th></th>\n",
       "      <th>timestamp</th>\n",
       "      <th>event</th>\n",
       "      <th>person</th>\n",
       "      <th>sku</th>\n",
       "      <th>model</th>\n",
       "    </tr>\n",
       "  </thead>\n",
       "  <tbody>\n",
       "    <tr>\n",
       "      <th>2547</th>\n",
       "      <td>2018-06-10 14:37:50</td>\n",
       "      <td>conversion</td>\n",
       "      <td>00fdbb4b</td>\n",
       "      <td>3348.0</td>\n",
       "      <td>Samsung Galaxy S6 Flat</td>\n",
       "    </tr>\n",
       "    <tr>\n",
       "      <th>2555</th>\n",
       "      <td>2018-06-11 01:47:34</td>\n",
       "      <td>checkout</td>\n",
       "      <td>00fdbb4b</td>\n",
       "      <td>3348.0</td>\n",
       "      <td>Samsung Galaxy S6 Flat</td>\n",
       "    </tr>\n",
       "    <tr>\n",
       "      <th>4244</th>\n",
       "      <td>2018-03-16 13:41:36</td>\n",
       "      <td>checkout</td>\n",
       "      <td>0146a9df</td>\n",
       "      <td>2694.0</td>\n",
       "      <td>iPhone 5s</td>\n",
       "    </tr>\n",
       "    <tr>\n",
       "      <th>4245</th>\n",
       "      <td>2018-03-16 13:50:25</td>\n",
       "      <td>conversion</td>\n",
       "      <td>0146a9df</td>\n",
       "      <td>2694.0</td>\n",
       "      <td>iPhone 5s</td>\n",
       "    </tr>\n",
       "    <tr>\n",
       "      <th>6984</th>\n",
       "      <td>2018-02-09 21:54:43</td>\n",
       "      <td>checkout</td>\n",
       "      <td>01db2fe6</td>\n",
       "      <td>6357.0</td>\n",
       "      <td>Samsung Galaxy J5</td>\n",
       "    </tr>\n",
       "  </tbody>\n",
       "</table>\n",
       "</div>"
      ],
      "text/plain": [
       "                timestamp       event    person     sku  \\\n",
       "2547  2018-06-10 14:37:50  conversion  00fdbb4b  3348.0   \n",
       "2555  2018-06-11 01:47:34    checkout  00fdbb4b  3348.0   \n",
       "4244  2018-03-16 13:41:36    checkout  0146a9df  2694.0   \n",
       "4245  2018-03-16 13:50:25  conversion  0146a9df  2694.0   \n",
       "6984  2018-02-09 21:54:43    checkout  01db2fe6  6357.0   \n",
       "\n",
       "                       model  \n",
       "2547  Samsung Galaxy S6 Flat  \n",
       "2555  Samsung Galaxy S6 Flat  \n",
       "4244               iPhone 5s  \n",
       "4245               iPhone 5s  \n",
       "6984       Samsung Galaxy J5  "
      ]
     },
     "execution_count": 7,
     "metadata": {},
     "output_type": "execute_result"
    }
   ],
   "source": [
    "usuarios_filtrados.head()"
   ]
  },
  {
   "cell_type": "markdown",
   "metadata": {},
   "source": [
    "Obtenemos una lista de usuarios sin duplicados."
   ]
  },
  {
   "cell_type": "code",
   "execution_count": 8,
   "metadata": {},
   "outputs": [
    {
     "data": {
      "text/plain": [
       "381"
      ]
     },
     "execution_count": 8,
     "metadata": {},
     "output_type": "execute_result"
    }
   ],
   "source": [
    "usuarios = set(usuarios_filtrados.drop_duplicates(subset='person')['person'])\n",
    "len(usuarios)"
   ]
  },
  {
   "cell_type": "markdown",
   "metadata": {},
   "source": [
    "Ahora nos quedamos con aquellos que tienen conversions pero no tienen check-outs relacionados a estas."
   ]
  },
  {
   "cell_type": "code",
   "execution_count": 9,
   "metadata": {},
   "outputs": [
    {
     "data": {
      "text/plain": [
       "335"
      ]
     },
     "execution_count": 9,
     "metadata": {},
     "output_type": "execute_result"
    }
   ],
   "source": [
    "us_conversion_sin_checkout = set([x for x in usuarios_con_conversiones if x not in usuarios])\n",
    "len(us_conversion_sin_checkout)"
   ]
  },
  {
   "cell_type": "markdown",
   "metadata": {},
   "source": [
    "Nos quedaría quitar a aquellos usuarios que tienen invertido el orden en el que se realiza una conversion\n",
    "desde el sitio de la empresa. Es decir, aquellos que primero presenten una conversion y luego un check-out."
   ]
  },
  {
   "cell_type": "code",
   "execution_count": 10,
   "metadata": {},
   "outputs": [],
   "source": [
    "usuarios_conflictivos = set()\n",
    "row_iterator = usuarios_filtrados.iterrows()\n",
    "for i, row in row_iterator:\n",
    "    next_row = next(row_iterator)[1]\n",
    "    if (row['event'] + next_row['event']) == \"conversioncheckout\":\n",
    "        usuarios_conflictivos.add(row['person'])\n",
    "        continue\n",
    "    if ((pd.to_datetime(next_row['timestamp']) - pd.to_datetime(row['timestamp'])).seconds / 3600.0 > 1):\n",
    "        usuarios_conflictivos.add(row['person'])\n",
    "us_conversion_sin_checkout = us_conversion_sin_checkout.union(usuarios_conflictivos)"
   ]
  },
  {
   "cell_type": "code",
   "execution_count": 11,
   "metadata": {},
   "outputs": [],
   "source": [
    "df_filtrado = df.loc[(~df['person'].isin(us_conversion_sin_checkout))].copy()"
   ]
  },
  {
   "cell_type": "code",
   "execution_count": 12,
   "metadata": {},
   "outputs": [],
   "source": [
    "funnel = df_filtrado.loc[df['event'].isin(['visited site', 'checkout', 'conversion']), ['person','event']]"
   ]
  },
  {
   "cell_type": "code",
   "execution_count": 13,
   "metadata": {},
   "outputs": [
    {
     "data": {
      "text/plain": [
       "visited site    79239\n",
       "checkout        31621\n",
       "conversion        393\n",
       "Name: event, dtype: int64"
      ]
     },
     "execution_count": 13,
     "metadata": {},
     "output_type": "execute_result"
    }
   ],
   "source": [
    "funnel_vc = funnel['event'].value_counts()\n",
    "funnel_vc"
   ]
  },
  {
   "cell_type": "markdown",
   "metadata": {},
   "source": [
    "Finalmente tenemos los datos filtrados para realizar un diagrama de Sankey, mostrando el flujo de conversiones del sitio."
   ]
  },
  {
   "cell_type": "code",
   "execution_count": 14,
   "metadata": {},
   "outputs": [
    {
     "data": {
      "text/html": [
       "<script>requirejs.config({paths: { 'plotly': ['https://cdn.plot.ly/plotly-latest.min']},});if(!window.Plotly) {{require(['plotly'],function(plotly) {window.Plotly=plotly;});}}</script>"
      ],
      "text/vnd.plotly.v1+html": [
       "<script>requirejs.config({paths: { 'plotly': ['https://cdn.plot.ly/plotly-latest.min']},});if(!window.Plotly) {{require(['plotly'],function(plotly) {window.Plotly=plotly;});}}</script>"
      ]
     },
     "metadata": {},
     "output_type": "display_data"
    },
    {
     "data": {
      "application/vnd.plotly.v1+json": {
       "data": [
        {
         "arrangement": "freeform",
         "link": {
          "source": [
           0,
           0,
           1,
           1
          ],
          "target": [
           3,
           1,
           2,
           4
          ],
          "value": [
           47618,
           31621,
           393,
           31228
          ]
         },
         "node": {
          "color": [
           "blue",
           "blue",
           "blue",
           "red",
           "red"
          ],
          "label": [
           "visited site",
           "checkout",
           "conversion",
           "no hacen checkout",
           "no hacen conversion"
          ],
          "line": {
           "color": "black",
           "width": 0.5
          },
          "pad": 15,
          "thickness": 20
         },
         "type": "sankey",
         "uid": "4a9f6680-bfaa-11e8-8980-60a44ca73d10"
        }
       ],
       "layout": {
        "font": {
         "size": 10
        },
        "title": "Diagrama sankey del funnel"
       }
      },
      "text/html": [
       "<div id=\"5bf16311-873b-42bd-9dfc-c97ec9f3cc73\" style=\"height: 525px; width: 100%;\" class=\"plotly-graph-div\"></div><script type=\"text/javascript\">require([\"plotly\"], function(Plotly) { window.PLOTLYENV=window.PLOTLYENV || {};window.PLOTLYENV.BASE_URL=\"https://plot.ly\";Plotly.newPlot(\"5bf16311-873b-42bd-9dfc-c97ec9f3cc73\", [{\"arrangement\": \"freeform\", \"link\": {\"source\": [0, 0, 1, 1], \"target\": [3, 1, 2, 4], \"value\": [47618, 31621, 393, 31228]}, \"node\": {\"color\": [\"blue\", \"blue\", \"blue\", \"red\", \"red\"], \"label\": [\"visited site\", \"checkout\", \"conversion\", \"no hacen checkout\", \"no hacen conversion\"], \"line\": {\"color\": \"black\", \"width\": 0.5}, \"pad\": 15, \"thickness\": 20}, \"type\": \"sankey\", \"uid\": \"4aec9758-bfaa-11e8-ac37-60a44ca73d10\"}], {\"font\": {\"size\": 10}, \"title\": \"Diagrama sankey del funnel\"}, {\"showLink\": true, \"linkText\": \"Export to plot.ly\"})});</script>"
      ],
      "text/vnd.plotly.v1+html": [
       "<div id=\"5bf16311-873b-42bd-9dfc-c97ec9f3cc73\" style=\"height: 525px; width: 100%;\" class=\"plotly-graph-div\"></div><script type=\"text/javascript\">require([\"plotly\"], function(Plotly) { window.PLOTLYENV=window.PLOTLYENV || {};window.PLOTLYENV.BASE_URL=\"https://plot.ly\";Plotly.newPlot(\"5bf16311-873b-42bd-9dfc-c97ec9f3cc73\", [{\"arrangement\": \"freeform\", \"link\": {\"source\": [0, 0, 1, 1], \"target\": [3, 1, 2, 4], \"value\": [47618, 31621, 393, 31228]}, \"node\": {\"color\": [\"blue\", \"blue\", \"blue\", \"red\", \"red\"], \"label\": [\"visited site\", \"checkout\", \"conversion\", \"no hacen checkout\", \"no hacen conversion\"], \"line\": {\"color\": \"black\", \"width\": 0.5}, \"pad\": 15, \"thickness\": 20}, \"type\": \"sankey\", \"uid\": \"4aec9758-bfaa-11e8-ac37-60a44ca73d10\"}], {\"font\": {\"size\": 10}, \"title\": \"Diagrama sankey del funnel\"}, {\"showLink\": true, \"linkText\": \"Export to plot.ly\"})});</script>"
      ]
     },
     "metadata": {},
     "output_type": "display_data"
    }
   ],
   "source": [
    "import plotly.plotly as py\n",
    "import plotly\n",
    "\n",
    "data = dict(\n",
    "    type='sankey',\n",
    "    arrangement=\"freeform\",\n",
    "    node = dict(\n",
    "      pad = 15,\n",
    "      thickness = 20,\n",
    "      line = dict(\n",
    "        color = \"black\",\n",
    "        width = 0.5\n",
    "      ),\n",
    "      label = [\"visited site\", \"checkout\", \"conversion\",\"no hacen checkout\",\"no hacen conversion\"],\n",
    "      color = [\"blue\", \"blue\", \"blue\",\"red\",\"red\"]\n",
    "    ),\n",
    "    link = dict(\n",
    "      source = [0,0,1,1],\n",
    "      target = [3,1,2,4],\n",
    "      value = [(79239-31621),31621,393,(31621-393)] #alterar aca los valores\n",
    "  ))\n",
    "\n",
    "layout =  dict(\n",
    "    title = \"Diagrama sankey del funnel\",\n",
    "    font = dict(\n",
    "      size = 10\n",
    "    )\n",
    ")\n",
    "\n",
    "plotly.offline.init_notebook_mode(connected=True)\n",
    "fig = dict(data=[data], layout=layout)\n",
    "plotly.offline.iplot(fig)"
   ]
  },
  {
   "cell_type": "markdown",
   "metadata": {},
   "source": [
    "## Observaciones\n",
    "\n",
    "Finalmente podemos ver que un ~1,38% de los usuarios que llegan a la etapa de checkout, confirman un pago realizando una conversion (el goal de la empresa)"
   ]
  },
  {
   "cell_type": "markdown",
   "metadata": {},
   "source": [
    "# Evolución en el tiempo de checkouts, compras y vistas de productos, en el sitio.\n",
    "\n",
    "Aprovechando que filtramos a los usuarios que no realizan sus compras en el sitio de Trocafone, vamos a revisar cómo fue la evolución en el tiempo de compras, checkouts y vistas de productos en el sitio.\n",
    "\n",
    "En particular nos interesaría encontrar picos importantes de tráfico, o bien ver si se mantuvieron estables estas tres categorías."
   ]
  },
  {
   "cell_type": "code",
   "execution_count": null,
   "metadata": {},
   "outputs": [],
   "source": [
    "def graficar_lineplot(titulo, data):\n",
    "    g = sns.lineplot(x=data.index, y=data.values)\n",
    "    g.set(xticklabels=['Enero', 'Febrero', 'Marzo', 'Abril', 'Mayo', 'Junio'])\n",
    "    g.set_title(titulo, fontsize=18)\n",
    "    g.set_xlabel('Mes', fontsize=16)\n",
    "    g.set_ylabel('Frecuencia', fontsize=16)\n",
    "    return g"
   ]
  },
  {
   "cell_type": "code",
   "execution_count": null,
   "metadata": {},
   "outputs": [],
   "source": [
    "df_filtrado['timestamp'] = pd.to_datetime(df_filtrado['timestamp']).dt.date"
   ]
  },
  {
   "cell_type": "code",
   "execution_count": null,
   "metadata": {},
   "outputs": [],
   "source": [
    "ts_conversion = df_filtrado.loc[df_filtrado['event'] == 'conversion'].sort_values(by='timestamp')\n",
    "ts_vc = ts_conversion['timestamp'].value_counts()\n",
    "plt.figure(figsize=(14,8))\n",
    "g = graficar_lineplot('Conversiones por día, en el periodo Enero-Junio', ts_vc)\n",
    "plt.show()"
   ]
  },
  {
   "cell_type": "code",
   "execution_count": null,
   "metadata": {},
   "outputs": [],
   "source": [
    "ts_checkout = df_filtrado.loc[df_filtrado['event'] == 'checkout'].sort_values(by='timestamp')\n",
    "ts_vc = ts_checkout['timestamp'].value_counts()\n",
    "plt.figure(figsize=(14,8))\n",
    "g = graficar_lineplot('Check-outs por día, en el periodo Enero-Junio', ts_vc)\n",
    "plt.show()"
   ]
  },
  {
   "cell_type": "code",
   "execution_count": null,
   "metadata": {},
   "outputs": [],
   "source": [
    "ts_viewed_product = df_filtrado.loc[df_filtrado['event'] == 'viewed product'].sort_values(by='timestamp')\n",
    "ts_vc = ts_viewed_product['timestamp'].value_counts()\n",
    "plt.figure(figsize=(14,8))\n",
    "g = graficar_lineplot('Productos vistos por día, en el periodo Enero-Junio', ts_vc)\n",
    "plt.show()"
   ]
  },
  {
   "cell_type": "code",
   "execution_count": null,
   "metadata": {},
   "outputs": [],
   "source": [
    "ts_viewed_product = df_filtrado.loc[df_filtrado['event'] == 'visited site'].sort_values(by='timestamp')\n",
    "ts_vc = ts_viewed_product['timestamp'].value_counts()\n",
    "plt.figure(figsize=(14,8))\n",
    "g = graficar_lineplot('Entradas al sitio  por día, en el periodo Enero-Junio', ts_vc)\n",
    "plt.show()"
   ]
  },
  {
   "cell_type": "markdown",
   "metadata": {},
   "source": [
    "# Observaciones\n",
    "\n",
    "Podemos notar un fuerte incremento en la actividad del sitio a partir de la mitad de Mayo hasta el final de los datos que poseemos (Junio). Curiosamente, el movimiento de checkouts y productos vistos es similar, aunque en distinta escala.\n",
    "Esto podría deberse a algún tipo de _sale event_ o campaña de ads. Analizareoms esta posibilidad a continuación.\n",
    "\n",
    "En cuanto a las conversiones, también notamos mayor actividad durante el mes de Mayo, en particular tenemos tres picos importantes a comparación del resto de los meses."
   ]
  },
  {
   "cell_type": "code",
   "execution_count": null,
   "metadata": {},
   "outputs": [],
   "source": []
  }
 ],
 "metadata": {
  "kernelspec": {
   "display_name": "Python 3",
   "language": "python",
   "name": "python3"
  },
  "language_info": {
   "codemirror_mode": {
    "name": "ipython",
    "version": 3
   },
   "file_extension": ".py",
   "mimetype": "text/x-python",
   "name": "python",
   "nbconvert_exporter": "python",
   "pygments_lexer": "ipython3",
   "version": "3.6.5"
  }
 },
 "nbformat": 4,
 "nbformat_minor": 2
}
