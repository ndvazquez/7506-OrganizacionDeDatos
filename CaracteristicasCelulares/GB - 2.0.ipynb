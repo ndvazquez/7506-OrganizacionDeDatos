{
 "cells": [
  {
   "cell_type": "code",
   "execution_count": null,
   "metadata": {},
   "outputs": [],
   "source": [
    "\n",
    "import pandas as pd\n",
    "import numpy as np\n",
    "import matplotlib.pyplot as plt\n",
    "import seaborn as sns\n",
    "import plotly as plotly\n",
    "\n",
    "%matplotlib inline\n",
    "\n",
    "plt.style.use('default')\n",
    "\n",
    "sns.set(style='whitegrid')\n",
    "pd.options.mode.chained_assignment = None  # default='warn'"
   ]
  },
  {
   "cell_type": "code",
   "execution_count": null,
   "metadata": {},
   "outputs": [],
   "source": [
    "df = pd.read_csv(\"events.csv\",low_memory=False)"
   ]
  },
  {
   "cell_type": "markdown",
   "metadata": {},
   "source": [
    "# Creación de tabla para luego poder graficar y comparar"
   ]
  },
  {
   "cell_type": "code",
   "execution_count": null,
   "metadata": {},
   "outputs": [],
   "source": [
    "cantidad_gb = df[['sku','model','storage']]\n",
    "cantidad_gb.drop_duplicates(inplace = True)\n",
    "cantidad_gb.dropna(inplace = True)\n",
    "cantidad_gb = cantidad_gb['storage'].value_counts().to_frame()\n",
    "cantidad_gb.columns = ['cant_stock']\n"
   ]
  },
  {
   "cell_type": "code",
   "execution_count": null,
   "metadata": {},
   "outputs": [],
   "source": [
    "vendidos_gb = df.loc[df['event']=='conversion', 'storage'].to_frame()\n",
    "vendidos_gb = vendidos_gb['storage'].value_counts().to_frame()\n",
    "vendidos_gb.columns = ['cant_vendidos']"
   ]
  },
  {
   "cell_type": "code",
   "execution_count": null,
   "metadata": {},
   "outputs": [],
   "source": [
    "cant_eventos = df[['event','storage']]\n",
    "cant_eventos.dropna(inplace=True)\n",
    "cant_eventos = cant_eventos['storage'].value_counts().to_frame()\n",
    "cant_eventos.columns = ['cant_eventos']"
   ]
  },
  {
   "cell_type": "code",
   "execution_count": null,
   "metadata": {},
   "outputs": [],
   "source": [
    "join_df = cantidad_gb.join(vendidos_gb)\n",
    "join_df = join_df.join(cant_eventos)"
   ]
  },
  {
   "cell_type": "code",
   "execution_count": null,
   "metadata": {},
   "outputs": [],
   "source": [
    "join_df['porcentaje ventas'] = join_df['cant_vendidos'] * 100 / join_df['cant_stock'] #Agrego porcentaje\n",
    "join_df"
   ]
  },
  {
   "cell_type": "markdown",
   "metadata": {},
   "source": [
    "# Ahora sí ploteo"
   ]
  },
  {
   "cell_type": "code",
   "execution_count": null,
   "metadata": {},
   "outputs": [],
   "source": [
    "g = sns.barplot(x = join_df.cant_stock, y = join_df.index)\n",
    "g.set_title(\"Cantidad de celulares con distintos GB\", fontsize = 18)\n",
    "g.set_xlabel(\"Cantidad\", fontsize = 18) #CAMBIAR NOMBRE!\n",
    "g.set_ylabel(\"GB\", fontsize = 18)"
   ]
  },
  {
   "cell_type": "code",
   "execution_count": null,
   "metadata": {},
   "outputs": [],
   "source": [
    "g = sns.barplot(x = join_df.cant_vendidos, y = join_df.index)\n",
    "g.set_title(\"Cantidad de celulares vendidos\", fontsize = 18)\n",
    "g.set_xlabel(\"Cantidad\", fontsize = 18) #CAMBIAR NOMBRE!\n",
    "g.set_ylabel(\"Eventos\", fontsize = 18)"
   ]
  },
  {
   "cell_type": "markdown",
   "metadata": {},
   "source": [
    "Pero no puede notarse claramente, pese que a primera vista son los celulares con 16 GB los cuales hay, y se venden más, seguidos por los de 32GB. Creemos interesante por último visualizar el porcentaje de celulares vendidos, para podes ver de una forma más clara lo antes mencionado."
   ]
  },
  {
   "cell_type": "code",
   "execution_count": null,
   "metadata": {},
   "outputs": [],
   "source": [
    "g = sns.barplot(x = join_df['porcentaje ventas'], y = join_df.index)\n",
    "g.set_title(\"Porcentaje de celulares vendidos\", fontsize = 18)\n",
    "g.set_xlabel(\"Porcentaje\", fontsize = 18) #CAMBIAR NOMBRE!\n",
    "g.set_ylabel(\"GB\", fontsize = 18)"
   ]
  },
  {
   "cell_type": "markdown",
   "metadata": {},
   "source": [
    "Aquí sucede algo interesante, celulares con memoria de 8GB y 4GB crecieron significativamente. Queremos hacer notar que esto no se debe a la menor cantidad de celulares de esta característica, ni a las pocas ventas que posee, ya que este gráfico muestra los porcentajes, por lo que no entramos en el peligroso campo de acrementar incorrectamente los valores pequeños.\n",
    "Con esto dicho, podemos observar ahora, a nivel negocio, el tipo de celulares a los que nos podemos enfocar más. Simplemente leyendo la visualización para poner un ejemplo claro, ahora sabemos que alrededor de un 43% de los celulares de 16 GB fueron vendidos, mientras que solamente el 1% de los celulares con 256GB tuvieron salida en el mercado.\n",
    "Finalmente queremos hacer un análisis final sobre esto, a partir de un última inquietud. A que se deben este porcentaje de compras en los clientes? Es que celulares, como por ejemplo de 16 GB son realmente los preferidos y más buscados? O pueden mostrarnos las busquedas de los clientes interés en otros que no tiene tal vez tanta salida?"
   ]
  },
  {
   "cell_type": "code",
   "execution_count": null,
   "metadata": {},
   "outputs": [],
   "source": [
    "g = sns.barplot(x = join_df.cant_eventos, y = join_df.index)\n",
    "g.set_title(\"Porcentaje de celulares vendidos\", fontsize = 18)\n",
    "g.set_xlabel(\"Porcentaje\", fontsize = 18) #CAMBIAR NOMBRE!\n",
    "g.set_ylabel(\"GB\", fontsize = 18)"
   ]
  },
  {
   "cell_type": "markdown",
   "metadata": {},
   "source": [
    "Esta nueva visualización puede respondernos nuestra pregunta, si contabilizamos la cantidad de eventos de cada tipo, vemos ahora que hay un interes importante en los celulares con 32GB, y como más notorio, casi la misma cantidad que los celulares de 16 GB (los cuales según visualizaciones anteriores tiene mayor porcentaje de venta). Las razones de este cambio no pueden ser supuestas facilmente con los datos que poseemos. Un primer análisis podría ser pensar que la diferencia de precios genera esta discrepacia, aunque por otra parte eso indicaría asumir que la memoría es lo que rige la venta de los celulares, y sabemos claramente que no es cierto.\n",
    "Sin embargo si nos pareció importante agregar estos análisis, ya que los Gb que posee un celular si son un parte importante de este."
   ]
  },
  {
   "cell_type": "code",
   "execution_count": null,
   "metadata": {},
   "outputs": [],
   "source": []
  }
 ],
 "metadata": {
  "kernelspec": {
   "display_name": "Python 3",
   "language": "python",
   "name": "python3"
  },
  "language_info": {
   "codemirror_mode": {
    "name": "ipython",
    "version": 3
   },
   "file_extension": ".py",
   "mimetype": "text/x-python",
   "name": "python",
   "nbconvert_exporter": "python",
   "pygments_lexer": "ipython3",
   "version": "3.5.2"
  }
 },
 "nbformat": 4,
 "nbformat_minor": 2
}
