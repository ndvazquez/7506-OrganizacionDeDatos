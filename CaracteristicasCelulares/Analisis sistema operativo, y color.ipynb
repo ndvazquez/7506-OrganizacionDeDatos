{
 "cells": [
  {
   "cell_type": "code",
   "execution_count": 1,
   "metadata": {},
   "outputs": [],
   "source": [
    "import pandas as pd\n",
    "import numpy as np\n",
    "import matplotlib.pyplot as plt\n",
    "import seaborn as sns\n",
    "import plotly as plotly\n",
    "\n",
    "%matplotlib inline\n",
    "\n",
    "plt.style.use('default')\n",
    "\n",
    "sns.set(style='whitegrid')\n",
    "pd.options.mode.chained_assignment = None  # default='warn'"
   ]
  },
  {
   "cell_type": "code",
   "execution_count": 2,
   "metadata": {},
   "outputs": [],
   "source": [
    "df = pd.read_csv(\"../data/events.csv\",low_memory=False)"
   ]
  },
  {
   "cell_type": "markdown",
   "metadata": {},
   "source": [
    "# Equipos utilizados"
   ]
  },
  {
   "cell_type": "code",
   "execution_count": 3,
   "metadata": {},
   "outputs": [],
   "source": [
    "device = df['device_type'].value_counts().to_frame().reset_index()\n",
    "device.columns = ['Equipo', 'Cant']"
   ]
  },
  {
   "cell_type": "code",
   "execution_count": 4,
   "metadata": {},
   "outputs": [
    {
     "data": {
      "text/plain": [
       "<matplotlib.axes._subplots.AxesSubplot at 0x7fb26ecb5748>"
      ]
     },
     "execution_count": 4,
     "metadata": {},
     "output_type": "execute_result"
    },
    {
     "data": {
      "image/png": "[encoded data removed]",
      "text/plain": [
       "<Figure size 432x288 with 1 Axes>"
      ]
     },
     "metadata": {},
     "output_type": "display_data"
    }
   ],
   "source": [
    "ax = sns.barplot(x=device['Equipo'], y=device['Cant'])\n",
    "ax"
   ]
  },
  {
   "cell_type": "code",
   "execution_count": 5,
   "metadata": {},
   "outputs": [
    {
     "data": {
      "text/plain": [
       "Google    50240\n",
       "Bing        424\n",
       "Yahoo       287\n",
       "Ask           6\n",
       "Name: search_engine, dtype: int64"
      ]
     },
     "execution_count": 5,
     "metadata": {},
     "output_type": "execute_result"
    }
   ],
   "source": [
    "df['search_engine'].value_counts()"
   ]
  },
  {
   "cell_type": "code",
   "execution_count": 6,
   "metadata": {},
   "outputs": [
    {
     "data": {
      "text/plain": [
       "Paid        44193\n",
       "Direct      18522\n",
       "Organic     12348\n",
       "Referral    11384\n",
       "Social        846\n",
       "Email          76\n",
       "Unknown         9\n",
       "Name: channel, dtype: int64"
      ]
     },
     "execution_count": 6,
     "metadata": {},
     "output_type": "execute_result"
    }
   ],
   "source": [
    "df['channel'].value_counts()"
   ]
  },
  {
   "cell_type": "markdown",
   "metadata": {},
   "source": [
    "# Que sistema utilizan al entrar con un Smartphone"
   ]
  },
  {
   "cell_type": "code",
   "execution_count": 7,
   "metadata": {},
   "outputs": [],
   "source": [
    "df = df[pd.notnull(df['operating_system_version'])] #Saco los null sistema\n",
    "df = df[pd.notnull(df['device_type'])] #Saco los null tipo de equipo\n",
    "df['operating_system_version'] = df['operating_system_version'].map(lambda x: str(x).split()[0])"
   ]
  },
  {
   "cell_type": "code",
   "execution_count": 8,
   "metadata": {},
   "outputs": [
    {
     "data": {
      "text/html": [
       "<div>\n",
       "<style scoped>\n",
       "    .dataframe tbody tr th:only-of-type {\n",
       "        vertical-align: middle;\n",
       "    }\n",
       "\n",
       "    .dataframe tbody tr th {\n",
       "        vertical-align: top;\n",
       "    }\n",
       "\n",
       "    .dataframe thead th {\n",
       "        text-align: right;\n",
       "    }\n",
       "</style>\n",
       "<table border=\"1\" class=\"dataframe\">\n",
       "  <thead>\n",
       "    <tr style=\"text-align: right;\">\n",
       "      <th></th>\n",
       "      <th>Sistema</th>\n",
       "      <th>Cant</th>\n",
       "    </tr>\n",
       "  </thead>\n",
       "  <tbody>\n",
       "    <tr>\n",
       "      <th>0</th>\n",
       "      <td>Android</td>\n",
       "      <td>40412</td>\n",
       "    </tr>\n",
       "    <tr>\n",
       "      <th>1</th>\n",
       "      <td>iOS</td>\n",
       "      <td>3303</td>\n",
       "    </tr>\n",
       "    <tr>\n",
       "      <th>2</th>\n",
       "      <td>Windows</td>\n",
       "      <td>497</td>\n",
       "    </tr>\n",
       "    <tr>\n",
       "      <th>3</th>\n",
       "      <td>Other</td>\n",
       "      <td>27</td>\n",
       "    </tr>\n",
       "  </tbody>\n",
       "</table>\n",
       "</div>"
      ],
      "text/plain": [
       "   Sistema   Cant\n",
       "0  Android  40412\n",
       "1      iOS   3303\n",
       "2  Windows    497\n",
       "3    Other     27"
      ]
     },
     "execution_count": 8,
     "metadata": {},
     "output_type": "execute_result"
    }
   ],
   "source": [
    "df_types_op_smart = df.loc[df['device_type'] == 'Smartphone', 'operating_system_version'].to_frame()\n",
    "df_types_op_smart = df_types_op_smart['operating_system_version'].value_counts().to_frame().reset_index()\n",
    "df_types_op_smart.columns = ['Sistema','Cant']\n",
    "df_types_op_smart"
   ]
  },
  {
   "cell_type": "code",
   "execution_count": 9,
   "metadata": {},
   "outputs": [
    {
     "data": {
      "text/plain": [
       "Text(0.5,1,'Sistema utilizado al entrar con un Smartphone al sitio')"
      ]
     },
     "execution_count": 9,
     "metadata": {},
     "output_type": "execute_result"
    },
    {
     "data": {
      "image/png": "[encoded data removed]",
      "text/plain": [
       "<Figure size 432x288 with 1 Axes>"
      ]
     },
     "metadata": {},
     "output_type": "display_data"
    }
   ],
   "source": [
    "clrs = ['green','grey','blue','red']\n",
    "ax = sns.barplot(x=df_types_op_smart.Sistema, y=df_types_op_smart.Cant, palette=clrs)\n",
    "ax.set_title('Sistema utilizado al entrar con un Smartphone al sitio')"
   ]
  },
  {
   "cell_type": "markdown",
   "metadata": {},
   "source": [
    "Como podíamos suponer , la gran mayoría de la gente entra con celulares que poseen un sistema operativo Android. Teniendo los celulares iphone una gran cantidad de ventas , nos preguntamos si la gente que miraba o compraba celulares de esta marca entraba usando un sistema operativo 'Andorid' o 'IOS'.\n",
    "Esto nos parecia interesante ya que podíamos buscar una conformidad con el sistema de parte de los compradores. Si las mayoría de las visitas con un sistema IOS eran dirijidas a celulares como los Iphone podríamos pensar que los clientes se querían mantener con esta tecnólogia. Por otra parte, si la mayoría mirara Android, algo diferente sería conluído, y es que los usuarios estaban pensando en cambiar de sistema.\n",
    "El siguiente análisis tenía además un sentido a futuro, la gente está mirando cada vez más celulares Android o IOS, a que debemos darle más importancia en la empresa?\n",
    "Lamentablemente los datos no nos posibilitaron realizar este análisis, ya que toda persona que compró en el sitio no poseía los datos de sistema ingresado.\n",
    "Nos pareció de todos modos algo interesante para remarcar, ya que de poseer un set de datos más completo podrí ser posible realizarlo."
   ]
  },
  {
   "cell_type": "markdown",
   "metadata": {},
   "source": [
    "# Estado de los top tres tipos de celulares más vendidos"
   ]
  },
  {
   "cell_type": "code",
   "execution_count": 10,
   "metadata": {},
   "outputs": [
    {
     "data": {
      "text/plain": [
       "Samsung     641\n",
       "iPhone      323\n",
       "Motorola    149\n",
       "Sony         23\n",
       "LG           20\n",
       "Lenovo       14\n",
       "Asus          2\n",
       "Name: model, dtype: int64"
      ]
     },
     "execution_count": 10,
     "metadata": {},
     "output_type": "execute_result"
    }
   ],
   "source": [
    "df = pd.read_csv(\"../data/events.csv\",low_memory=False)\n",
    "df = df[pd.notnull(df['model'])] #Saco los null sistema\n",
    "df['model'] = df['model'].map(lambda x: str(x).split()[0])\n",
    "# df.loc[df['device_type'] == 'Computer', :]['model'].value_counts()\n",
    "df = df.loc[df['event'] == 'conversion', :]\n",
    "df['model'].value_counts()"
   ]
  },
  {
   "cell_type": "code",
   "execution_count": 11,
   "metadata": {},
   "outputs": [],
   "source": [
    "df = df.loc[(df['model'] == 'iPhone') | (df['model'] == 'Samsung') | (df['model'] == 'Motorola'), ['model','condition']]"
   ]
  },
  {
   "cell_type": "code",
   "execution_count": 12,
   "metadata": {},
   "outputs": [
    {
     "data": {
      "text/html": [
       "<div>\n",
       "<style scoped>\n",
       "    .dataframe tbody tr th:only-of-type {\n",
       "        vertical-align: middle;\n",
       "    }\n",
       "\n",
       "    .dataframe tbody tr th {\n",
       "        vertical-align: top;\n",
       "    }\n",
       "\n",
       "    .dataframe thead th {\n",
       "        text-align: right;\n",
       "    }\n",
       "</style>\n",
       "<table border=\"1\" class=\"dataframe\">\n",
       "  <thead>\n",
       "    <tr style=\"text-align: right;\">\n",
       "      <th></th>\n",
       "      <th>Modelo</th>\n",
       "      <th>Condición</th>\n",
       "      <th>Cant</th>\n",
       "    </tr>\n",
       "  </thead>\n",
       "  <tbody>\n",
       "    <tr>\n",
       "      <th>0</th>\n",
       "      <td>Motorola</td>\n",
       "      <td>Bom</td>\n",
       "      <td>61</td>\n",
       "    </tr>\n",
       "    <tr>\n",
       "      <th>1</th>\n",
       "      <td>Motorola</td>\n",
       "      <td>Excelente</td>\n",
       "      <td>39</td>\n",
       "    </tr>\n",
       "    <tr>\n",
       "      <th>2</th>\n",
       "      <td>Motorola</td>\n",
       "      <td>Muito Bom</td>\n",
       "      <td>49</td>\n",
       "    </tr>\n",
       "    <tr>\n",
       "      <th>3</th>\n",
       "      <td>Samsung</td>\n",
       "      <td>Bom</td>\n",
       "      <td>324</td>\n",
       "    </tr>\n",
       "    <tr>\n",
       "      <th>4</th>\n",
       "      <td>Samsung</td>\n",
       "      <td>Excelente</td>\n",
       "      <td>126</td>\n",
       "    </tr>\n",
       "    <tr>\n",
       "      <th>5</th>\n",
       "      <td>Samsung</td>\n",
       "      <td>Muito Bom</td>\n",
       "      <td>189</td>\n",
       "    </tr>\n",
       "    <tr>\n",
       "      <th>6</th>\n",
       "      <td>Samsung</td>\n",
       "      <td>Novo</td>\n",
       "      <td>2</td>\n",
       "    </tr>\n",
       "    <tr>\n",
       "      <th>7</th>\n",
       "      <td>iPhone</td>\n",
       "      <td>Bom</td>\n",
       "      <td>132</td>\n",
       "    </tr>\n",
       "    <tr>\n",
       "      <th>8</th>\n",
       "      <td>iPhone</td>\n",
       "      <td>Bom - Sem Touch ID</td>\n",
       "      <td>22</td>\n",
       "    </tr>\n",
       "    <tr>\n",
       "      <th>9</th>\n",
       "      <td>iPhone</td>\n",
       "      <td>Excelente</td>\n",
       "      <td>77</td>\n",
       "    </tr>\n",
       "    <tr>\n",
       "      <th>10</th>\n",
       "      <td>iPhone</td>\n",
       "      <td>Muito Bom</td>\n",
       "      <td>92</td>\n",
       "    </tr>\n",
       "  </tbody>\n",
       "</table>\n",
       "</div>"
      ],
      "text/plain": [
       "      Modelo           Condición  Cant\n",
       "0   Motorola                 Bom    61\n",
       "1   Motorola           Excelente    39\n",
       "2   Motorola           Muito Bom    49\n",
       "3    Samsung                 Bom   324\n",
       "4    Samsung           Excelente   126\n",
       "5    Samsung           Muito Bom   189\n",
       "6    Samsung                Novo     2\n",
       "7     iPhone                 Bom   132\n",
       "8     iPhone  Bom - Sem Touch ID    22\n",
       "9     iPhone           Excelente    77\n",
       "10    iPhone           Muito Bom    92"
      ]
     },
     "execution_count": 12,
     "metadata": {},
     "output_type": "execute_result"
    }
   ],
   "source": [
    "model_cond = df.groupby(['model', 'condition']).agg('size').reset_index()\n",
    "model_cond.columns = ['Modelo', 'Condición', 'Cant']\n",
    "model_cond"
   ]
  },
  {
   "cell_type": "code",
   "execution_count": 13,
   "metadata": {},
   "outputs": [
    {
     "data": {
      "text/html": [
       "<div>\n",
       "<style scoped>\n",
       "    .dataframe tbody tr th:only-of-type {\n",
       "        vertical-align: middle;\n",
       "    }\n",
       "\n",
       "    .dataframe tbody tr th {\n",
       "        vertical-align: top;\n",
       "    }\n",
       "\n",
       "    .dataframe thead th {\n",
       "        text-align: right;\n",
       "    }\n",
       "</style>\n",
       "<table border=\"1\" class=\"dataframe\">\n",
       "  <thead>\n",
       "    <tr style=\"text-align: right;\">\n",
       "      <th></th>\n",
       "      <th>Modelo</th>\n",
       "      <th>Condición</th>\n",
       "      <th>Cant</th>\n",
       "    </tr>\n",
       "  </thead>\n",
       "  <tbody>\n",
       "    <tr>\n",
       "      <th>0</th>\n",
       "      <td>Motorola</td>\n",
       "      <td>Bueno</td>\n",
       "      <td>61</td>\n",
       "    </tr>\n",
       "    <tr>\n",
       "      <th>1</th>\n",
       "      <td>Motorola</td>\n",
       "      <td>Excelente</td>\n",
       "      <td>39</td>\n",
       "    </tr>\n",
       "    <tr>\n",
       "      <th>2</th>\n",
       "      <td>Motorola</td>\n",
       "      <td>Muy bueno</td>\n",
       "      <td>49</td>\n",
       "    </tr>\n",
       "    <tr>\n",
       "      <th>3</th>\n",
       "      <td>Samsung</td>\n",
       "      <td>Bueno</td>\n",
       "      <td>324</td>\n",
       "    </tr>\n",
       "    <tr>\n",
       "      <th>4</th>\n",
       "      <td>Samsung</td>\n",
       "      <td>Excelente</td>\n",
       "      <td>126</td>\n",
       "    </tr>\n",
       "    <tr>\n",
       "      <th>5</th>\n",
       "      <td>Samsung</td>\n",
       "      <td>Muy bueno</td>\n",
       "      <td>189</td>\n",
       "    </tr>\n",
       "    <tr>\n",
       "      <th>6</th>\n",
       "      <td>Samsung</td>\n",
       "      <td>Nuevo</td>\n",
       "      <td>2</td>\n",
       "    </tr>\n",
       "    <tr>\n",
       "      <th>7</th>\n",
       "      <td>iPhone</td>\n",
       "      <td>Bueno</td>\n",
       "      <td>132</td>\n",
       "    </tr>\n",
       "    <tr>\n",
       "      <th>8</th>\n",
       "      <td>iPhone</td>\n",
       "      <td>Bueno- Sin touch ID</td>\n",
       "      <td>22</td>\n",
       "    </tr>\n",
       "    <tr>\n",
       "      <th>9</th>\n",
       "      <td>iPhone</td>\n",
       "      <td>Excelente</td>\n",
       "      <td>77</td>\n",
       "    </tr>\n",
       "    <tr>\n",
       "      <th>10</th>\n",
       "      <td>iPhone</td>\n",
       "      <td>Muy bueno</td>\n",
       "      <td>92</td>\n",
       "    </tr>\n",
       "  </tbody>\n",
       "</table>\n",
       "</div>"
      ],
      "text/plain": [
       "      Modelo            Condición  Cant\n",
       "0   Motorola                Bueno    61\n",
       "1   Motorola            Excelente    39\n",
       "2   Motorola            Muy bueno    49\n",
       "3    Samsung                Bueno   324\n",
       "4    Samsung            Excelente   126\n",
       "5    Samsung            Muy bueno   189\n",
       "6    Samsung                Nuevo     2\n",
       "7     iPhone                Bueno   132\n",
       "8     iPhone  Bueno- Sin touch ID    22\n",
       "9     iPhone            Excelente    77\n",
       "10    iPhone            Muy bueno    92"
      ]
     },
     "execution_count": 13,
     "metadata": {},
     "output_type": "execute_result"
    }
   ],
   "source": [
    "model_cond['Condición'] = model_cond['Condición'].map(lambda x: 'Bueno' if str(x) == 'Bom' else x)\n",
    "model_cond['Condición'] = model_cond['Condición'].map(lambda x: 'Muy bueno' if str(x) == 'Muito Bom' else x)\n",
    "model_cond['Condición'] = model_cond['Condición'].map(lambda x: 'Nuevo' if str(x) == 'Novo' else x)\n",
    "model_cond['Condición'] = model_cond['Condición'].map(lambda x: 'Bueno- Sin touch ID' if str(x) == 'Bom - Sem Touch ID' else x)\n",
    "model_cond"
   ]
  },
  {
   "cell_type": "code",
   "execution_count": 14,
   "metadata": {},
   "outputs": [
    {
     "data": {
      "image/png": "[encoded data removed]",
      "text/plain": [
       "<Figure size 509.1x360 with 1 Axes>"
      ]
     },
     "metadata": {},
     "output_type": "display_data"
    }
   ],
   "source": [
    "ax = sns.catplot(x='Modelo', y='Cant', hue='Condición', data=model_cond, kind='bar')"
   ]
  },
  {
   "cell_type": "markdown",
   "metadata": {},
   "source": [
    "Aquí se puede observar algo interesante, en las tres marcas de celulares más vendidas Es estado 'Bueno' es el que tiene más ventas, seguido de muy bueno y excelente. Tiene además sentido que el estado Nuevo no tenga aparición, ya que es una compañia que se dedica a comprar celulares usados y restaurarlos para su venta.\n",
    "A nivel empresa, esta información es importante, ya que pueden derivar a análisis del tipo, \n",
    "* Hasta que punto es necesario restaurar el celular que compramos?\n",
    "* Es lo mismo el estado para cada modelo?\n",
    "\n",
    "Estas preguntas, de todos modos, también pueden ser respondidas de una manera más certera teniendo además un conocimiento previo de los precio de los celulares. Ya que si la ganancia entre un celular en buen estado y muy bueno o excelente es lo suficientemente considerable para vender meno y seguir ganando más nuesrto análisis, más allá de interesante, no lograría tal vez el reducir en algunos celulares el trabajo de restauración, ya que no sería un negocio para la empresa."
   ]
  },
  {
   "cell_type": "markdown",
   "metadata": {},
   "source": [
    "# Sistema utilizado al ingresar con un Computadora"
   ]
  },
  {
   "cell_type": "code",
   "execution_count": 15,
   "metadata": {},
   "outputs": [
    {
     "data": {
      "text/html": [
       "<div>\n",
       "<style scoped>\n",
       "    .dataframe tbody tr th:only-of-type {\n",
       "        vertical-align: middle;\n",
       "    }\n",
       "\n",
       "    .dataframe tbody tr th {\n",
       "        vertical-align: top;\n",
       "    }\n",
       "\n",
       "    .dataframe thead th {\n",
       "        text-align: right;\n",
       "    }\n",
       "</style>\n",
       "<table border=\"1\" class=\"dataframe\">\n",
       "  <thead>\n",
       "    <tr style=\"text-align: right;\">\n",
       "      <th></th>\n",
       "      <th>Sistema</th>\n",
       "      <th>Cant</th>\n",
       "    </tr>\n",
       "  </thead>\n",
       "  <tbody>\n",
       "    <tr>\n",
       "      <th>0</th>\n",
       "      <td>Windows</td>\n",
       "      <td>40998</td>\n",
       "    </tr>\n",
       "    <tr>\n",
       "      <th>1</th>\n",
       "      <td>Mac</td>\n",
       "      <td>406</td>\n",
       "    </tr>\n",
       "    <tr>\n",
       "      <th>2</th>\n",
       "      <td>Linux</td>\n",
       "      <td>386</td>\n",
       "    </tr>\n",
       "  </tbody>\n",
       "</table>\n",
       "</div>"
      ],
      "text/plain": [
       "   Sistema   Cant\n",
       "0  Windows  40998\n",
       "1      Mac    406\n",
       "2    Linux    386"
      ]
     },
     "execution_count": 15,
     "metadata": {},
     "output_type": "execute_result"
    }
   ],
   "source": [
    "df = pd.read_csv(\"../data/events.csv\",low_memory=False)\n",
    "df = df[pd.notnull(df['operating_system_version'])] #Saco los null sistema\n",
    "df = df[pd.notnull(df['device_type'])] #Saco los null tipo de equipo\n",
    "df['operating_system_version'] = df['operating_system_version'].map(lambda x: str(x).split()[0])\n",
    "df_types_op_comp = df.loc[df['device_type'] == 'Computer', 'operating_system_version'].to_frame()\n",
    "df_types_op_comp['operating_system_version'] = df_types_op_comp['operating_system_version'].map(lambda x: 'Linux' if str(x) == 'Ubuntu' else x)\n",
    "df_types_op_comp = df_types_op_comp['operating_system_version'].value_counts().to_frame().reset_index()\n",
    "df_types_op_comp.columns = ['Sistema','Cant']\n",
    "df_types_op_comp"
   ]
  },
  {
   "cell_type": "code",
   "execution_count": 16,
   "metadata": {},
   "outputs": [
    {
     "data": {
      "text/plain": [
       "Text(0.5,1,'Sistema utilizado al entrar con una Computadora al sitio')"
      ]
     },
     "execution_count": 16,
     "metadata": {},
     "output_type": "execute_result"
    },
    {
     "data": {
      "image/png": "[encoded data removed]",
      "text/plain": [
       "<Figure size 432x288 with 1 Axes>"
      ]
     },
     "metadata": {},
     "output_type": "display_data"
    }
   ],
   "source": [
    "clrs = ['blue','grey','violet']\n",
    "ax = sns.barplot(x=df_types_op_comp.Sistema, y=df_types_op_comp.Cant, palette=clrs)\n",
    "ax.set_title('Sistema utilizado al entrar con una Computadora al sitio')"
   ]
  },
  {
   "cell_type": "markdown",
   "metadata": {},
   "source": [
    "Se ve una muy clara preferencia a la distribución Windows al ingresar al sitio utilizando una computadora. "
   ]
  },
  {
   "cell_type": "code",
   "execution_count": 17,
   "metadata": {},
   "outputs": [
    {
     "data": {
      "text/plain": [
       "360x640      30009\n",
       "1366x768     21379\n",
       "320x534       3622\n",
       "1920x1080     3521\n",
       "320x570       2561\n",
       "Name: screen_resolution, dtype: int64"
      ]
     },
     "execution_count": 17,
     "metadata": {},
     "output_type": "execute_result"
    }
   ],
   "source": [
    "df['screen_resolution'].value_counts().head(5)"
   ]
  },
  {
   "cell_type": "markdown",
   "metadata": {},
   "source": [
    "# Que miran los que compran"
   ]
  },
  {
   "cell_type": "code",
   "execution_count": 18,
   "metadata": {},
   "outputs": [],
   "source": [
    "df = pd.read_csv(\"../data/events.csv\",low_memory=False)"
   ]
  },
  {
   "cell_type": "code",
   "execution_count": 19,
   "metadata": {},
   "outputs": [
    {
     "data": {
      "text/html": [
       "<div>\n",
       "<style scoped>\n",
       "    .dataframe tbody tr th:only-of-type {\n",
       "        vertical-align: middle;\n",
       "    }\n",
       "\n",
       "    .dataframe tbody tr th {\n",
       "        vertical-align: top;\n",
       "    }\n",
       "\n",
       "    .dataframe thead th {\n",
       "        text-align: right;\n",
       "    }\n",
       "</style>\n",
       "<table border=\"1\" class=\"dataframe\">\n",
       "  <thead>\n",
       "    <tr style=\"text-align: right;\">\n",
       "      <th></th>\n",
       "      <th>timestamp</th>\n",
       "      <th>event</th>\n",
       "      <th>person</th>\n",
       "      <th>url</th>\n",
       "      <th>sku</th>\n",
       "      <th>model</th>\n",
       "      <th>condition</th>\n",
       "      <th>storage</th>\n",
       "      <th>color</th>\n",
       "      <th>skus</th>\n",
       "      <th>...</th>\n",
       "      <th>search_engine</th>\n",
       "      <th>channel</th>\n",
       "      <th>new_vs_returning</th>\n",
       "      <th>city</th>\n",
       "      <th>region</th>\n",
       "      <th>country</th>\n",
       "      <th>device_type</th>\n",
       "      <th>screen_resolution</th>\n",
       "      <th>operating_system_version</th>\n",
       "      <th>browser_version</th>\n",
       "    </tr>\n",
       "  </thead>\n",
       "  <tbody>\n",
       "    <tr>\n",
       "      <th>220</th>\n",
       "      <td>2018-03-20 17:46:12</td>\n",
       "      <td>conversion</td>\n",
       "      <td>00204059</td>\n",
       "      <td>NaN</td>\n",
       "      <td>3084.0</td>\n",
       "      <td>Motorola</td>\n",
       "      <td>Muito Bom</td>\n",
       "      <td>32GB</td>\n",
       "      <td>Couro Vintage</td>\n",
       "      <td>NaN</td>\n",
       "      <td>...</td>\n",
       "      <td>NaN</td>\n",
       "      <td>NaN</td>\n",
       "      <td>NaN</td>\n",
       "      <td>NaN</td>\n",
       "      <td>NaN</td>\n",
       "      <td>NaN</td>\n",
       "      <td>NaN</td>\n",
       "      <td>NaN</td>\n",
       "      <td>NaN</td>\n",
       "      <td>NaN</td>\n",
       "    </tr>\n",
       "    <tr>\n",
       "      <th>2282</th>\n",
       "      <td>2018-04-26 22:28:53</td>\n",
       "      <td>conversion</td>\n",
       "      <td>00c13dee</td>\n",
       "      <td>NaN</td>\n",
       "      <td>6650.0</td>\n",
       "      <td>Samsung</td>\n",
       "      <td>Muito Bom</td>\n",
       "      <td>4GB</td>\n",
       "      <td>Branco</td>\n",
       "      <td>NaN</td>\n",
       "      <td>...</td>\n",
       "      <td>NaN</td>\n",
       "      <td>NaN</td>\n",
       "      <td>NaN</td>\n",
       "      <td>NaN</td>\n",
       "      <td>NaN</td>\n",
       "      <td>NaN</td>\n",
       "      <td>NaN</td>\n",
       "      <td>NaN</td>\n",
       "      <td>NaN</td>\n",
       "      <td>NaN</td>\n",
       "    </tr>\n",
       "    <tr>\n",
       "      <th>2547</th>\n",
       "      <td>2018-06-10 14:37:50</td>\n",
       "      <td>conversion</td>\n",
       "      <td>00fdbb4b</td>\n",
       "      <td>NaN</td>\n",
       "      <td>3348.0</td>\n",
       "      <td>Samsung</td>\n",
       "      <td>Muito Bom</td>\n",
       "      <td>32GB</td>\n",
       "      <td>Branco</td>\n",
       "      <td>NaN</td>\n",
       "      <td>...</td>\n",
       "      <td>NaN</td>\n",
       "      <td>NaN</td>\n",
       "      <td>NaN</td>\n",
       "      <td>NaN</td>\n",
       "      <td>NaN</td>\n",
       "      <td>NaN</td>\n",
       "      <td>NaN</td>\n",
       "      <td>NaN</td>\n",
       "      <td>NaN</td>\n",
       "      <td>NaN</td>\n",
       "    </tr>\n",
       "    <tr>\n",
       "      <th>4245</th>\n",
       "      <td>2018-03-16 13:50:25</td>\n",
       "      <td>conversion</td>\n",
       "      <td>0146a9df</td>\n",
       "      <td>NaN</td>\n",
       "      <td>2694.0</td>\n",
       "      <td>iPhone</td>\n",
       "      <td>Bom</td>\n",
       "      <td>32GB</td>\n",
       "      <td>Cinza espacial</td>\n",
       "      <td>NaN</td>\n",
       "      <td>...</td>\n",
       "      <td>NaN</td>\n",
       "      <td>NaN</td>\n",
       "      <td>NaN</td>\n",
       "      <td>NaN</td>\n",
       "      <td>NaN</td>\n",
       "      <td>NaN</td>\n",
       "      <td>NaN</td>\n",
       "      <td>NaN</td>\n",
       "      <td>NaN</td>\n",
       "      <td>NaN</td>\n",
       "    </tr>\n",
       "    <tr>\n",
       "      <th>6985</th>\n",
       "      <td>2018-02-09 22:07:07</td>\n",
       "      <td>conversion</td>\n",
       "      <td>01db2fe6</td>\n",
       "      <td>NaN</td>\n",
       "      <td>6357.0</td>\n",
       "      <td>Samsung</td>\n",
       "      <td>Bom</td>\n",
       "      <td>16GB</td>\n",
       "      <td>Preto</td>\n",
       "      <td>NaN</td>\n",
       "      <td>...</td>\n",
       "      <td>NaN</td>\n",
       "      <td>NaN</td>\n",
       "      <td>NaN</td>\n",
       "      <td>NaN</td>\n",
       "      <td>NaN</td>\n",
       "      <td>NaN</td>\n",
       "      <td>NaN</td>\n",
       "      <td>NaN</td>\n",
       "      <td>NaN</td>\n",
       "      <td>NaN</td>\n",
       "    </tr>\n",
       "  </tbody>\n",
       "</table>\n",
       "<p>5 rows × 23 columns</p>\n",
       "</div>"
      ],
      "text/plain": [
       "                timestamp       event    person  url     sku     model  \\\n",
       "220   2018-03-20 17:46:12  conversion  00204059  NaN  3084.0  Motorola   \n",
       "2282  2018-04-26 22:28:53  conversion  00c13dee  NaN  6650.0   Samsung   \n",
       "2547  2018-06-10 14:37:50  conversion  00fdbb4b  NaN  3348.0   Samsung   \n",
       "4245  2018-03-16 13:50:25  conversion  0146a9df  NaN  2694.0    iPhone   \n",
       "6985  2018-02-09 22:07:07  conversion  01db2fe6  NaN  6357.0   Samsung   \n",
       "\n",
       "      condition storage           color skus       ...       search_engine  \\\n",
       "220   Muito Bom    32GB   Couro Vintage  NaN       ...                 NaN   \n",
       "2282  Muito Bom     4GB          Branco  NaN       ...                 NaN   \n",
       "2547  Muito Bom    32GB          Branco  NaN       ...                 NaN   \n",
       "4245        Bom    32GB  Cinza espacial  NaN       ...                 NaN   \n",
       "6985        Bom    16GB           Preto  NaN       ...                 NaN   \n",
       "\n",
       "     channel new_vs_returning city region country device_type  \\\n",
       "220      NaN              NaN  NaN    NaN     NaN         NaN   \n",
       "2282     NaN              NaN  NaN    NaN     NaN         NaN   \n",
       "2547     NaN              NaN  NaN    NaN     NaN         NaN   \n",
       "4245     NaN              NaN  NaN    NaN     NaN         NaN   \n",
       "6985     NaN              NaN  NaN    NaN     NaN         NaN   \n",
       "\n",
       "     screen_resolution operating_system_version browser_version  \n",
       "220                NaN                      NaN             NaN  \n",
       "2282               NaN                      NaN             NaN  \n",
       "2547               NaN                      NaN             NaN  \n",
       "4245               NaN                      NaN             NaN  \n",
       "6985               NaN                      NaN             NaN  \n",
       "\n",
       "[5 rows x 23 columns]"
      ]
     },
     "execution_count": 19,
     "metadata": {},
     "output_type": "execute_result"
    }
   ],
   "source": [
    "# df['operating_system_version'] = df['operating_system_version'].map(lambda x: str(x).split()[0])\n",
    "df = df[pd.notnull(df['model'])] #Saco los null sistema\n",
    "df['model'] = df['model'].map(lambda x: str(x).split()[0])\n",
    "df.loc[df['event'] == 'conversion', :].head()\n"
   ]
  },
  {
   "cell_type": "code",
   "execution_count": 20,
   "metadata": {},
   "outputs": [],
   "source": [
    "frame = df.groupby(['person', 'model']).agg('size').reset_index()\n",
    "frame.columns = ['person', 'model', 'cant']\n",
    "frame = frame.groupby('person', group_keys=False).apply(lambda x: x.loc[x.cant.idxmax()])"
   ]
  },
  {
   "cell_type": "code",
   "execution_count": 21,
   "metadata": {},
   "outputs": [
    {
     "name": "stderr",
     "output_type": "stream",
     "text": [
      "/home/alawichu/.local/lib/python3.6/site-packages/IPython/core/interactiveshell.py:2961: FutureWarning:\n",
      "\n",
      "'person' is both an index level and a column label.\n",
      "Defaulting to column, but this will raise an ambiguity error in a future version\n",
      "\n"
     ]
    },
    {
     "data": {
      "text/html": [
       "<div>\n",
       "<style scoped>\n",
       "    .dataframe tbody tr th:only-of-type {\n",
       "        vertical-align: middle;\n",
       "    }\n",
       "\n",
       "    .dataframe tbody tr th {\n",
       "        vertical-align: top;\n",
       "    }\n",
       "\n",
       "    .dataframe thead th {\n",
       "        text-align: right;\n",
       "    }\n",
       "</style>\n",
       "<table border=\"1\" class=\"dataframe\">\n",
       "  <thead>\n",
       "    <tr style=\"text-align: right;\">\n",
       "      <th></th>\n",
       "      <th>timestamp</th>\n",
       "      <th>event</th>\n",
       "      <th>person</th>\n",
       "      <th>url</th>\n",
       "      <th>sku</th>\n",
       "      <th>model_x</th>\n",
       "      <th>condition</th>\n",
       "      <th>storage</th>\n",
       "      <th>color</th>\n",
       "      <th>skus</th>\n",
       "      <th>...</th>\n",
       "      <th>new_vs_returning</th>\n",
       "      <th>city</th>\n",
       "      <th>region</th>\n",
       "      <th>country</th>\n",
       "      <th>device_type</th>\n",
       "      <th>screen_resolution</th>\n",
       "      <th>operating_system_version</th>\n",
       "      <th>browser_version</th>\n",
       "      <th>model_y</th>\n",
       "      <th>cant</th>\n",
       "    </tr>\n",
       "  </thead>\n",
       "  <tbody>\n",
       "    <tr>\n",
       "      <th>0</th>\n",
       "      <td>2018-05-31 23:38:09</td>\n",
       "      <td>viewed product</td>\n",
       "      <td>0004b0a2</td>\n",
       "      <td>NaN</td>\n",
       "      <td>2694.0</td>\n",
       "      <td>iPhone</td>\n",
       "      <td>Bom</td>\n",
       "      <td>32GB</td>\n",
       "      <td>Cinza espacial</td>\n",
       "      <td>NaN</td>\n",
       "      <td>...</td>\n",
       "      <td>NaN</td>\n",
       "      <td>NaN</td>\n",
       "      <td>NaN</td>\n",
       "      <td>NaN</td>\n",
       "      <td>NaN</td>\n",
       "      <td>NaN</td>\n",
       "      <td>NaN</td>\n",
       "      <td>NaN</td>\n",
       "      <td>iPhone</td>\n",
       "      <td>2</td>\n",
       "    </tr>\n",
       "    <tr>\n",
       "      <th>1</th>\n",
       "      <td>2018-05-31 23:38:40</td>\n",
       "      <td>checkout</td>\n",
       "      <td>0004b0a2</td>\n",
       "      <td>NaN</td>\n",
       "      <td>2694.0</td>\n",
       "      <td>iPhone</td>\n",
       "      <td>Bom</td>\n",
       "      <td>32GB</td>\n",
       "      <td>Cinza espacial</td>\n",
       "      <td>NaN</td>\n",
       "      <td>...</td>\n",
       "      <td>NaN</td>\n",
       "      <td>NaN</td>\n",
       "      <td>NaN</td>\n",
       "      <td>NaN</td>\n",
       "      <td>NaN</td>\n",
       "      <td>NaN</td>\n",
       "      <td>NaN</td>\n",
       "      <td>NaN</td>\n",
       "      <td>iPhone</td>\n",
       "      <td>2</td>\n",
       "    </tr>\n",
       "    <tr>\n",
       "      <th>2</th>\n",
       "      <td>2018-05-29 13:29:25</td>\n",
       "      <td>viewed product</td>\n",
       "      <td>0006a21a</td>\n",
       "      <td>NaN</td>\n",
       "      <td>15338.0</td>\n",
       "      <td>Samsung</td>\n",
       "      <td>Bom</td>\n",
       "      <td>64GB</td>\n",
       "      <td>Dourado</td>\n",
       "      <td>NaN</td>\n",
       "      <td>...</td>\n",
       "      <td>NaN</td>\n",
       "      <td>NaN</td>\n",
       "      <td>NaN</td>\n",
       "      <td>NaN</td>\n",
       "      <td>NaN</td>\n",
       "      <td>NaN</td>\n",
       "      <td>NaN</td>\n",
       "      <td>NaN</td>\n",
       "      <td>Samsung</td>\n",
       "      <td>2</td>\n",
       "    </tr>\n",
       "    <tr>\n",
       "      <th>3</th>\n",
       "      <td>2018-05-29 13:29:35</td>\n",
       "      <td>checkout</td>\n",
       "      <td>0006a21a</td>\n",
       "      <td>NaN</td>\n",
       "      <td>15338.0</td>\n",
       "      <td>Samsung</td>\n",
       "      <td>Bom</td>\n",
       "      <td>64GB</td>\n",
       "      <td>Dourado</td>\n",
       "      <td>NaN</td>\n",
       "      <td>...</td>\n",
       "      <td>NaN</td>\n",
       "      <td>NaN</td>\n",
       "      <td>NaN</td>\n",
       "      <td>NaN</td>\n",
       "      <td>NaN</td>\n",
       "      <td>NaN</td>\n",
       "      <td>NaN</td>\n",
       "      <td>NaN</td>\n",
       "      <td>Samsung</td>\n",
       "      <td>2</td>\n",
       "    </tr>\n",
       "    <tr>\n",
       "      <th>4</th>\n",
       "      <td>2018-04-09 20:13:14</td>\n",
       "      <td>viewed product</td>\n",
       "      <td>000a54b2</td>\n",
       "      <td>NaN</td>\n",
       "      <td>12661.0</td>\n",
       "      <td>Motorola</td>\n",
       "      <td>Muito Bom</td>\n",
       "      <td>32GB</td>\n",
       "      <td>Preto</td>\n",
       "      <td>NaN</td>\n",
       "      <td>...</td>\n",
       "      <td>NaN</td>\n",
       "      <td>NaN</td>\n",
       "      <td>NaN</td>\n",
       "      <td>NaN</td>\n",
       "      <td>NaN</td>\n",
       "      <td>NaN</td>\n",
       "      <td>NaN</td>\n",
       "      <td>NaN</td>\n",
       "      <td>iPhone</td>\n",
       "      <td>17</td>\n",
       "    </tr>\n",
       "  </tbody>\n",
       "</table>\n",
       "<p>5 rows × 25 columns</p>\n",
       "</div>"
      ],
      "text/plain": [
       "             timestamp           event    person  url      sku   model_x  \\\n",
       "0  2018-05-31 23:38:09  viewed product  0004b0a2  NaN   2694.0    iPhone   \n",
       "1  2018-05-31 23:38:40        checkout  0004b0a2  NaN   2694.0    iPhone   \n",
       "2  2018-05-29 13:29:25  viewed product  0006a21a  NaN  15338.0   Samsung   \n",
       "3  2018-05-29 13:29:35        checkout  0006a21a  NaN  15338.0   Samsung   \n",
       "4  2018-04-09 20:13:14  viewed product  000a54b2  NaN  12661.0  Motorola   \n",
       "\n",
       "   condition storage           color skus ...  new_vs_returning city region  \\\n",
       "0        Bom    32GB  Cinza espacial  NaN ...               NaN  NaN    NaN   \n",
       "1        Bom    32GB  Cinza espacial  NaN ...               NaN  NaN    NaN   \n",
       "2        Bom    64GB         Dourado  NaN ...               NaN  NaN    NaN   \n",
       "3        Bom    64GB         Dourado  NaN ...               NaN  NaN    NaN   \n",
       "4  Muito Bom    32GB           Preto  NaN ...               NaN  NaN    NaN   \n",
       "\n",
       "  country device_type screen_resolution operating_system_version  \\\n",
       "0     NaN         NaN               NaN                      NaN   \n",
       "1     NaN         NaN               NaN                      NaN   \n",
       "2     NaN         NaN               NaN                      NaN   \n",
       "3     NaN         NaN               NaN                      NaN   \n",
       "4     NaN         NaN               NaN                      NaN   \n",
       "\n",
       "  browser_version  model_y cant  \n",
       "0             NaN   iPhone    2  \n",
       "1             NaN   iPhone    2  \n",
       "2             NaN  Samsung    2  \n",
       "3             NaN  Samsung    2  \n",
       "4             NaN   iPhone   17  \n",
       "\n",
       "[5 rows x 25 columns]"
      ]
     },
     "execution_count": 21,
     "metadata": {},
     "output_type": "execute_result"
    }
   ],
   "source": [
    "pd.merge(df, frame, on='person').head()"
   ]
  },
  {
   "cell_type": "markdown",
   "metadata": {},
   "source": [
    "Como antes fue mencionado, no se logro ver el tipo de equipo que utilizan las personas que compraron un equipo en el sitio"
   ]
  },
  {
   "cell_type": "markdown",
   "metadata": {},
   "source": [
    "# Colores "
   ]
  },
  {
   "cell_type": "code",
   "execution_count": 22,
   "metadata": {},
   "outputs": [],
   "source": [
    "df = pd.read_csv(\"../data/events.csv\",low_memory=False)"
   ]
  },
  {
   "cell_type": "code",
   "execution_count": 23,
   "metadata": {
    "scrolled": true
   },
   "outputs": [
    {
     "data": {
      "text/html": [
       "<div>\n",
       "<style scoped>\n",
       "    .dataframe tbody tr th:only-of-type {\n",
       "        vertical-align: middle;\n",
       "    }\n",
       "\n",
       "    .dataframe tbody tr th {\n",
       "        vertical-align: top;\n",
       "    }\n",
       "\n",
       "    .dataframe thead th {\n",
       "        text-align: right;\n",
       "    }\n",
       "</style>\n",
       "<table border=\"1\" class=\"dataframe\">\n",
       "  <thead>\n",
       "    <tr style=\"text-align: right;\">\n",
       "      <th></th>\n",
       "      <th>Color</th>\n",
       "      <th>Cant</th>\n",
       "    </tr>\n",
       "  </thead>\n",
       "  <tbody>\n",
       "    <tr>\n",
       "      <th>0</th>\n",
       "      <td>Preto</td>\n",
       "      <td>132960</td>\n",
       "    </tr>\n",
       "    <tr>\n",
       "      <th>1</th>\n",
       "      <td>Dourado</td>\n",
       "      <td>114212</td>\n",
       "    </tr>\n",
       "    <tr>\n",
       "      <th>2</th>\n",
       "      <td>Cinza espacial</td>\n",
       "      <td>65877</td>\n",
       "    </tr>\n",
       "    <tr>\n",
       "      <th>3</th>\n",
       "      <td>Branco</td>\n",
       "      <td>54755</td>\n",
       "    </tr>\n",
       "    <tr>\n",
       "      <th>4</th>\n",
       "      <td>Prateado</td>\n",
       "      <td>50940</td>\n",
       "    </tr>\n",
       "    <tr>\n",
       "      <th>5</th>\n",
       "      <td>Ouro Rosa</td>\n",
       "      <td>33349</td>\n",
       "    </tr>\n",
       "    <tr>\n",
       "      <th>6</th>\n",
       "      <td>Prata</td>\n",
       "      <td>18446</td>\n",
       "    </tr>\n",
       "    <tr>\n",
       "      <th>7</th>\n",
       "      <td>Rosa</td>\n",
       "      <td>16825</td>\n",
       "    </tr>\n",
       "    <tr>\n",
       "      <th>8</th>\n",
       "      <td>Preto Matte</td>\n",
       "      <td>15700</td>\n",
       "    </tr>\n",
       "    <tr>\n",
       "      <th>9</th>\n",
       "      <td>Azul</td>\n",
       "      <td>8751</td>\n",
       "    </tr>\n",
       "  </tbody>\n",
       "</table>\n",
       "</div>"
      ],
      "text/plain": [
       "            Color    Cant\n",
       "0           Preto  132960\n",
       "1         Dourado  114212\n",
       "2  Cinza espacial   65877\n",
       "3          Branco   54755\n",
       "4        Prateado   50940\n",
       "5       Ouro Rosa   33349\n",
       "6           Prata   18446\n",
       "7            Rosa   16825\n",
       "8     Preto Matte   15700\n",
       "9            Azul    8751"
      ]
     },
     "execution_count": 23,
     "metadata": {},
     "output_type": "execute_result"
    }
   ],
   "source": [
    "colors = df['color'].value_counts().head(10).to_frame().reset_index()\n",
    "colors.columns = ['Color','Cant']\n",
    "colors"
   ]
  },
  {
   "cell_type": "code",
   "execution_count": 24,
   "metadata": {},
   "outputs": [
    {
     "data": {
      "text/html": [
       "<div>\n",
       "<style scoped>\n",
       "    .dataframe tbody tr th:only-of-type {\n",
       "        vertical-align: middle;\n",
       "    }\n",
       "\n",
       "    .dataframe tbody tr th {\n",
       "        vertical-align: top;\n",
       "    }\n",
       "\n",
       "    .dataframe thead th {\n",
       "        text-align: right;\n",
       "    }\n",
       "</style>\n",
       "<table border=\"1\" class=\"dataframe\">\n",
       "  <thead>\n",
       "    <tr style=\"text-align: right;\">\n",
       "      <th></th>\n",
       "      <th>Color</th>\n",
       "      <th>Cant</th>\n",
       "    </tr>\n",
       "  </thead>\n",
       "  <tbody>\n",
       "    <tr>\n",
       "      <th>0</th>\n",
       "      <td>Negro</td>\n",
       "      <td>132960</td>\n",
       "    </tr>\n",
       "    <tr>\n",
       "      <th>1</th>\n",
       "      <td>Dorado</td>\n",
       "      <td>114212</td>\n",
       "    </tr>\n",
       "    <tr>\n",
       "      <th>2</th>\n",
       "      <td>Gris</td>\n",
       "      <td>65877</td>\n",
       "    </tr>\n",
       "    <tr>\n",
       "      <th>3</th>\n",
       "      <td>Blanco</td>\n",
       "      <td>54755</td>\n",
       "    </tr>\n",
       "    <tr>\n",
       "      <th>4</th>\n",
       "      <td>Plateado</td>\n",
       "      <td>50940</td>\n",
       "    </tr>\n",
       "    <tr>\n",
       "      <th>5</th>\n",
       "      <td>Rosa Claro</td>\n",
       "      <td>33349</td>\n",
       "    </tr>\n",
       "    <tr>\n",
       "      <th>6</th>\n",
       "      <td>Plata</td>\n",
       "      <td>18446</td>\n",
       "    </tr>\n",
       "    <tr>\n",
       "      <th>7</th>\n",
       "      <td>Rosa</td>\n",
       "      <td>16825</td>\n",
       "    </tr>\n",
       "    <tr>\n",
       "      <th>8</th>\n",
       "      <td>Negro Mate</td>\n",
       "      <td>15700</td>\n",
       "    </tr>\n",
       "    <tr>\n",
       "      <th>9</th>\n",
       "      <td>Azul</td>\n",
       "      <td>8751</td>\n",
       "    </tr>\n",
       "  </tbody>\n",
       "</table>\n",
       "</div>"
      ],
      "text/plain": [
       "        Color    Cant\n",
       "0       Negro  132960\n",
       "1      Dorado  114212\n",
       "2        Gris   65877\n",
       "3      Blanco   54755\n",
       "4    Plateado   50940\n",
       "5  Rosa Claro   33349\n",
       "6       Plata   18446\n",
       "7        Rosa   16825\n",
       "8  Negro Mate   15700\n",
       "9        Azul    8751"
      ]
     },
     "execution_count": 24,
     "metadata": {},
     "output_type": "execute_result"
    }
   ],
   "source": [
    "dic = {\n",
    "    'Preto': 'Negro',\n",
    "    'Dourado': 'Dorado',\n",
    "    'Branco': 'Blanco',\n",
    "    'Prata': 'Plata',\n",
    "    'Preto Matte' : 'Negro Mate',\n",
    "    'Ouro Rosa':'Rosa Claro',\n",
    "    'Cinza espacial': 'Gris',\n",
    "    'Prateado':'Plateado'   \n",
    "}\n",
    "\n",
    "colors['Color'] = colors['Color'].map(lambda x: x if not str(x) in dic else dic[str(x)])\n",
    "colors"
   ]
  },
  {
   "cell_type": "markdown",
   "metadata": {},
   "source": [
    "Se puede observar una clara preferencia por los tipos de colores negro, gris y plateado.  Este tipo de información, como dijimos ya ates, sirve para elegir que tipo de equipo se va  a comprar para posteriormente vender. Tal vez un celular que sabemos que tiene muchas ventas se venderá no importe el color, pero uno de más bajo mercado, si merece posiblemente tener en cuenta estos pequeños detalles, como el color."
   ]
  },
  {
   "cell_type": "code",
   "execution_count": null,
   "metadata": {},
   "outputs": [],
   "source": []
  }
 ],
 "metadata": {
  "kernelspec": {
   "display_name": "Python 3",
   "language": "python",
   "name": "python3"
  },
  "language_info": {
   "codemirror_mode": {
    "name": "ipython",
    "version": 3
   },
   "file_extension": ".py",
   "mimetype": "text/x-python",
   "name": "python",
   "nbconvert_exporter": "python",
   "pygments_lexer": "ipython3",
   "version": "3.6.5"
  }
 },
 "nbformat": 4,
 "nbformat_minor": 2
}
