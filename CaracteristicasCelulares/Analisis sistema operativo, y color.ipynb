{
 "cells": [
  {
   "cell_type": "code",
   "execution_count": null,
   "metadata": {},
   "outputs": [],
   "source": [
    "import pandas as pd\n",
    "import numpy as np\n",
    "import matplotlib.pyplot as plt\n",
    "import seaborn as sns\n",
    "import plotly as plotly\n",
    "\n",
    "%matplotlib inline\n",
    "\n",
    "plt.style.use('default')\n",
    "\n",
    "sns.set(style='whitegrid')\n",
    "pd.options.mode.chained_assignment = None  # default='warn'"
   ]
  },
  {
   "cell_type": "code",
   "execution_count": null,
   "metadata": {},
   "outputs": [],
   "source": [
    "df = pd.read_csv(\"events.csv\",low_memory=False)"
   ]
  },
  {
   "cell_type": "markdown",
   "metadata": {},
   "source": [
    "# Equipos utilizados"
   ]
  },
  {
   "cell_type": "code",
   "execution_count": null,
   "metadata": {},
   "outputs": [],
   "source": [
    "device = df['device_type'].value_counts().to_frame().reset_index()\n",
    "device.columns = ['Equipo', 'Cant']"
   ]
  },
  {
   "cell_type": "code",
   "execution_count": null,
   "metadata": {},
   "outputs": [],
   "source": [
    "ax = sns.barplot(x=device['Equipo'], y=device['Cant'])\n",
    "ax"
   ]
  },
  {
   "cell_type": "code",
   "execution_count": null,
   "metadata": {},
   "outputs": [],
   "source": [
    "df['search_engine'].value_counts()"
   ]
  },
  {
   "cell_type": "code",
   "execution_count": null,
   "metadata": {},
   "outputs": [],
   "source": [
    "df['channel'].value_counts()"
   ]
  },
  {
   "cell_type": "markdown",
   "metadata": {},
   "source": [
    "# Que sistema utilizan al entrar con un Smartphone"
   ]
  },
  {
   "cell_type": "code",
   "execution_count": null,
   "metadata": {},
   "outputs": [],
   "source": [
    "df['operating_system_version']\n",
    "df = df[pd.notnull(df['operating_system_version'])] #Saco los null sistema\n",
    "df = df[pd.notnull(df['device_type'])] #Saco los null tipo de equipo\n",
    "df['operating_system_version'] = df['operating_system_version'].map(lambda x: str(x).split()[0])\n"
   ]
  },
  {
   "cell_type": "code",
   "execution_count": null,
   "metadata": {},
   "outputs": [],
   "source": [
    "df_types_op_smart = df.loc[df['device_type'] == 'Smartphone', 'operating_system_version'].to_frame()\n",
    "df_types_op_smart = df_types_op_smart['operating_system_version'].value_counts().to_frame().reset_index()\n",
    "df_types_op_smart.columns = ['Sistema','Cant']\n",
    "df_types_op_smart"
   ]
  },
  {
   "cell_type": "code",
   "execution_count": null,
   "metadata": {},
   "outputs": [],
   "source": [
    "clrs = ['green','grey','blue','red']\n",
    "ax = sns.barplot(x=df_types_op_smart.Sistema, y=df_types_op_smart.Cant, palette=clrs)\n",
    "ax.set_title('Sistema utilizado al entrar con un Smartphone al sitio')"
   ]
  },
  {
   "cell_type": "markdown",
   "metadata": {},
   "source": [
    "Como podíamos suponer , la gran mayoría de la gente entra con celulares que poseen un sistema operativo Android. Teniendo los celulares iphone una gran cantidad de ventas , nos preguntamos si la gente que miraba o compraba celulares de esta marca entraba usando un sistema operativo 'Andorid' o 'IOS'.\n",
    "Esto nos parecia interesante ya que podíamos buscar una conformidad con el sistema de parte de los compradores. Si las mayoría de las visitas con un sistema IOS eran dirijidas a celulares como los Iphone podríamos pensar que los clientes se querían mantener con esta tecnólogia. Por otra parte, si la mayoría mirara Android, algo diferente sería conluído, y es que los usuarios estaban pensando en cambiar de sistema.\n",
    "El siguiente análisis tenía además un sentido a futuro, la gente está mirando cada vez más celulares Android o IOS, a que debemos darle más importancia en la empresa?\n",
    "Lamentablemente los datos no nos posibilitaron realizar este análisis, ya que toda persona que compró en el sitio no poseía los datos de sistema ingresado.\n",
    "Nos pareció de todos modos algo interesante para remarcar, ya que de poseer un set de datos más completo podrí ser posible realizarlo."
   ]
  },
  {
   "cell_type": "markdown",
   "metadata": {},
   "source": [
    "# Estado de los top tres tipos de celulares más vendidos"
   ]
  },
  {
   "cell_type": "code",
   "execution_count": null,
   "metadata": {},
   "outputs": [],
   "source": [
    "df = pd.read_csv(\"events.csv\",low_memory=False)\n",
    "df = df[pd.notnull(df['model'])] #Saco los null sistema\n",
    "df['model'] = df['model'].map(lambda x: str(x).split()[0])\n",
    "# df.loc[df['device_type'] == 'Computer', :]['model'].value_counts()\n",
    "df = df.loc[df['event'] == 'conversion', :]\n",
    "df['model'].value_counts()"
   ]
  },
  {
   "cell_type": "code",
   "execution_count": null,
   "metadata": {},
   "outputs": [],
   "source": [
    "df = df.loc[(df['model'] == 'iPhone') | (df['model'] == 'Samsung') | (df['model'] == 'Motorola'), ['model','condition']]"
   ]
  },
  {
   "cell_type": "code",
   "execution_count": null,
   "metadata": {},
   "outputs": [],
   "source": [
    "model_cond = df.groupby(['model', 'condition']).agg('size').reset_index()\n",
    "model_cond.columns = ['Modelo', 'Condición', 'Cant']\n",
    "model_cond"
   ]
  },
  {
   "cell_type": "code",
   "execution_count": null,
   "metadata": {},
   "outputs": [],
   "source": [
    "model_cond['Condición'] = model_cond['Condición'].map(lambda x: 'Bueno' if str(x) == 'Bom' else x)\n",
    "model_cond['Condición'] = model_cond['Condición'].map(lambda x: 'Muy bueno' if str(x) == 'Muito Bom' else x)\n",
    "model_cond['Condición'] = model_cond['Condición'].map(lambda x: 'Nuevo' if str(x) == 'Novo' else x)\n",
    "model_cond['Condición'] = model_cond['Condición'].map(lambda x: 'Bueno- Sin touch ID' if str(x) == 'Bom - Sem Touch ID' else x)\n",
    "model_cond"
   ]
  },
  {
   "cell_type": "code",
   "execution_count": null,
   "metadata": {},
   "outputs": [],
   "source": [
    "ax = sns.catplot(x='Modelo', y='Cant', hue='Condición', data=model_cond, kind='bar')"
   ]
  },
  {
   "cell_type": "markdown",
   "metadata": {},
   "source": [
    "Aquí se puede observar algo interesante, en las tres marcas de celulares más vendidas Es estado 'Bueno' es el que tiene más ventas, seguido de muy bueno y excelente. Tiene además sentido que el estado Nuevo no tenga aparición, ya que es una compañia que se dedica a comprar celulares usados y restaurarlos para su venta.\n",
    "A nivel empresa, esta información es importante, ya que pueden derivar a análisis del tipo, \n",
    "* Hasta que punto es necesario restaurar el celular que compramos?\n",
    "* Es lo mismo el estado para cada modelo?\n",
    "\n",
    "Estas preguntas, de todos modos, también pueden ser respondidas de una manera más certera teniendo además un conocimiento previo de los precio de los celulares. Ya que si la ganancia entre un celular en buen estado y muy bueno o excelente es lo suficientemente considerable para vender meno y seguir ganando más nuesrto análisis, más allá de interesante, no lograría tal vez el reducir en algunos celulares el trabajo de restauración, ya que no sería un negocio para la empresa."
   ]
  },
  {
   "cell_type": "markdown",
   "metadata": {},
   "source": [
    "# Sistema utilizado al ingresar con un Computadora"
   ]
  },
  {
   "cell_type": "code",
   "execution_count": null,
   "metadata": {},
   "outputs": [],
   "source": [
    "df = df[pd.notnull(df['operating_system_version'])] #Saco los null sistema\n",
    "df = df[pd.notnull(df['device_type'])] #Saco los null tipo de equipo\n",
    "df['operating_system_version'] = df['operating_system_version'].map(lambda x: str(x).split()[0])\n",
    "df_types_op_comp = df.loc[df['device_type'] == 'Computer', 'operating_system_version'].to_frame()\n",
    "df_types_op_comp['operating_system_version'] = df_types_op_comp['operating_system_version'].map(lambda x: 'Linux' if str(x) == 'Ubuntu' else x)\n",
    "df_types_op_comp = df_types_op_comp['operating_system_version'].value_counts().to_frame().reset_index()\n",
    "df_types_op_comp.columns = ['Sistema','Cant']\n",
    "df_types_op_comp"
   ]
  },
  {
   "cell_type": "code",
   "execution_count": null,
   "metadata": {},
   "outputs": [],
   "source": [
    "clrs = ['blue','grey','violet']\n",
    "ax = sns.barplot(x=df_types_op_comp.Sistema, y=df_types_op_comp.Cant, palette=clrs)\n",
    "ax.set_title('Sistema utilizado al entrar con una Computadora al sitio')"
   ]
  },
  {
   "cell_type": "markdown",
   "metadata": {},
   "source": [
    "Se ve una muy clara preferencia a la distribución Windows al ingresar al sitio utilizando una computadora. "
   ]
  },
  {
   "cell_type": "code",
   "execution_count": null,
   "metadata": {},
   "outputs": [],
   "source": [
    "df['screen_resolution'].value_counts().head(5)"
   ]
  },
  {
   "cell_type": "markdown",
   "metadata": {},
   "source": [
    "# Que miran los que compran"
   ]
  },
  {
   "cell_type": "code",
   "execution_count": null,
   "metadata": {},
   "outputs": [],
   "source": [
    "df = pd.read_csv(\"events.csv\",low_memory=False)"
   ]
  },
  {
   "cell_type": "code",
   "execution_count": null,
   "metadata": {},
   "outputs": [],
   "source": [
    "# df['operating_system_version'] = df['operating_system_version'].map(lambda x: str(x).split()[0])\n",
    "df = df[pd.notnull(df['model'])] #Saco los null sistema\n",
    "df['model'] = df['model'].map(lambda x: str(x).split()[0])\n",
    "df.loc[df['event'] == 'conversion', :]\n"
   ]
  },
  {
   "cell_type": "code",
   "execution_count": null,
   "metadata": {},
   "outputs": [],
   "source": [
    "frame = df.groupby(['person', 'model']).agg('size').reset_index()\n",
    "frame.columns = ['person', 'model', 'cant']\n",
    "frame = frame.groupby('person', group_keys=False).apply(lambda x: x.loc[x.cant.idxmax()])"
   ]
  },
  {
   "cell_type": "code",
   "execution_count": null,
   "metadata": {},
   "outputs": [],
   "source": [
    "pd.merge(df, frame, on='person')"
   ]
  },
  {
   "cell_type": "markdown",
   "metadata": {},
   "source": [
    "Como antes fue mencionado, no se logro ver el tipo de equipo que utilizan las personas que compraron un equipo en el sitio"
   ]
  },
  {
   "cell_type": "markdown",
   "metadata": {},
   "source": [
    "# Colores "
   ]
  },
  {
   "cell_type": "code",
   "execution_count": null,
   "metadata": {},
   "outputs": [],
   "source": [
    "df = pd.read_csv(\"events.csv\",low_memory=False)"
   ]
  },
  {
   "cell_type": "code",
   "execution_count": null,
   "metadata": {
    "scrolled": true
   },
   "outputs": [],
   "source": [
    "colors = df['color'].value_counts().head(10).to_frame().reset_index()\n",
    "colors.columns = ['Color','Cant']\n",
    "colors"
   ]
  },
  {
   "cell_type": "code",
   "execution_count": null,
   "metadata": {},
   "outputs": [],
   "source": [
    "dic = {\n",
    "    'Preto': 'Negro',\n",
    "    'Dourado': 'Dorado',\n",
    "    'Branco': 'Blanco',\n",
    "    'Prata': 'Plata',\n",
    "    'Preto Matte' : 'Negro Mate',\n",
    "    'Ouro Rosa':'Rosa Claro',\n",
    "    'Cinza espacial': 'Gris',\n",
    "    'Prateado':'Plateado'   \n",
    "}\n",
    "\n",
    "colors['Color'] = colors['Color'].map(lambda x: x if not str(x) in dic else dic[str(x)])\n",
    "colors"
   ]
  },
  {
   "cell_type": "markdown",
   "metadata": {},
   "source": [
    "Se puede observar una clara preferencia por los tipos de colores negro, gris y plateado.  Este tipo de información, como dijimos ya ates, sirve para elegir que tipo de equipo se va  a comprar para posteriormente vender. Tal vez un celular que sabemos que tiene muchas ventas se venderá no importe el color, pero uno de más bajo mercado, si merece posiblemente tener en cuenta estos pequeños detalles, como el color."
   ]
  },
  {
   "cell_type": "code",
   "execution_count": null,
   "metadata": {},
   "outputs": [],
   "source": []
  }
 ],
 "metadata": {
  "kernelspec": {
   "display_name": "Python 3",
   "language": "python",
   "name": "python3"
  },
  "language_info": {
   "codemirror_mode": {
    "name": "ipython",
    "version": 3
   },
   "file_extension": ".py",
   "mimetype": "text/x-python",
   "name": "python",
   "nbconvert_exporter": "python",
   "pygments_lexer": "ipython3",
   "version": "3.6.5"
  }
 },
 "nbformat": 4,
 "nbformat_minor": 2
}
