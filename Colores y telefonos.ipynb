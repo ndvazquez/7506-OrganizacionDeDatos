{
 "cells": [
  {
   "cell_type": "code",
   "execution_count": null,
   "metadata": {},
   "outputs": [],
   "source": [
    "import pandas as pd\n",
    "import numpy as np\n",
    "import seaborn\n",
    "import matplotlib.pyplot as plt\n",
    "\n",
    "\n",
    "df_original = pd.read_csv('events.csv', low_memory=False)"
   ]
  },
  {
   "cell_type": "code",
   "execution_count": null,
   "metadata": {},
   "outputs": [],
   "source": [
    "from sklearn.preprocessing import Normalizer\n",
    "\n",
    "colors_and_devices = df_original.loc[df_original['event'] == 'conversion',['model', 'color']]\n",
    "grouped = colors_and_devices.groupby(['model', 'color']).agg(np.size)\n",
    "grouped = pd.DataFrame(grouped)\n",
    "grouped = grouped.reset_index()\n",
    "grouped.columns = list(['model', 'color', 'amount'])\n",
    "grouped = grouped.set_index('model')\n",
    "grouped = grouped.loc[grouped['amount']>20,]"
   ]
  },
  {
   "cell_type": "code",
   "execution_count": null,
   "metadata": {
    "scrolled": false
   },
   "outputs": [],
   "source": [
    "grouped_topn = grouped.sort_values(by='amount', ascending=False)\n",
    "colors_and_devices = grouped_topn.pivot(columns='color', values='amount')\n",
    "colors_and_devices = colors_and_devices.replace(np.nan, 0)\n",
    "grouped_topn = colors_and_devices\n",
    "#display(colors_and_devices)\n",
    "plt.subplots(figsize=(10, 10))\n",
    "seaborn.heatmap(grouped_topn, square=True, cmap='Blues')"
   ]
  },
  {
   "cell_type": "code",
   "execution_count": null,
   "metadata": {},
   "outputs": [],
   "source": []
  }
 ],
 "metadata": {
  "kernelspec": {
   "display_name": "Python 3",
   "language": "python",
   "name": "python3"
  },
  "language_info": {
   "codemirror_mode": {
    "name": "ipython",
    "version": 3
   },
   "file_extension": ".py",
   "mimetype": "text/x-python",
   "name": "python",
   "nbconvert_exporter": "python",
   "pygments_lexer": "ipython3",
   "version": "3.6.5"
  }
 },
 "nbformat": 4,
 "nbformat_minor": 2
}
