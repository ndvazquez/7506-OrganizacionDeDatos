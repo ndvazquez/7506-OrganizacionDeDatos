{
 "cells": [
  {
   "cell_type": "code",
   "execution_count": null,
   "metadata": {},
   "outputs": [],
   "source": [
    "import pandas as pd\n",
    "import numpy as np\n",
    "import matplotlib.pyplot as plt\n",
    "import seaborn as sns\n",
    "import plotly as plotly\n",
    "\n",
    "%matplotlib inline\n",
    "\n",
    "plt.style.use('default')\n",
    "\n",
    "sns.set(style='whitegrid')"
   ]
  },
  {
   "cell_type": "code",
   "execution_count": null,
   "metadata": {},
   "outputs": [],
   "source": [
    "eventos = pd.read_csv(\"events.csv\",low_memory=False)"
   ]
  },
  {
   "cell_type": "markdown",
   "metadata": {},
   "source": [
    "# Cantidad de GB más comprados"
   ]
  },
  {
   "cell_type": "code",
   "execution_count": null,
   "metadata": {},
   "outputs": [],
   "source": [
    "conversion_storage = eventos.loc[eventos['event'] == 'conversion', 'storage'].value_counts()\n",
    "conversion_storage"
   ]
  },
  {
   "cell_type": "code",
   "execution_count": null,
   "metadata": {},
   "outputs": [],
   "source": [
    "g = sns.barplot(x=conversion_storage.values, y=conversion_storage.index)\n",
    "g.set_title(\"Cantidad de GB más comprados.\", fontsize=18)\n",
    "g.set_xlabel(\"Cantidad de celulares comprados\", fontsize=18)\n",
    "g.set_ylabel(\"GB\", fontsize=18)"
   ]
  },
  {
   "cell_type": "markdown",
   "metadata": {},
   "source": [
    "Se puede observar con claridad que la cantidad de GB más comprada es la de 16 GB, ahora, nos preguntamos si la cantidad de\n",
    "GB que tienen los celulares por visitas se comporta de manera similar, por lo que procedemos a visualizar lo antes mencionado."
   ]
  },
  {
   "cell_type": "code",
   "execution_count": null,
   "metadata": {},
   "outputs": [],
   "source": [
    "view_storage = eventos.loc[eventos['event'] == 'viewed product', 'storage'].value_counts()"
   ]
  },
  {
   "cell_type": "code",
   "execution_count": null,
   "metadata": {},
   "outputs": [],
   "source": [
    "g = sns.barplot(x = view_storage.values, y = view_storage.index)\n",
    "g.set_title(\"Cantidad de GB de los celulares vistos por los clientes.\", fontsize = 18)\n",
    "g.set_xlabel(\"celular visitado\", fontsize = 18) #CAMBIAR NOMBRE!\n",
    "g.set_ylabel(\"GB\", fontsize = 18)"
   ]
  },
  {
   "cell_type": "markdown",
   "metadata": {},
   "source": [
    "Aquí sucede algo interesante, pese a que en ventas los celulares 16 GB toman un delantera clara, ya no se puede observar esta misma en la cantidad de acciones realizadas (cualquier tipo de evento). Por una parte, podemos suponer q hay un interes igual o mayor para los de 32GB que para los de 16GB, y que el precio es un limitante a la hora de realizar la compra. Por otra parte, con esta información se puede dar un paso más y considerar nuevas estrategias para motivar la venta de los celulares con más memoria (los cuales vemos generan interés). Logicamente, no poseemos la información suficiente para conocer el porcentaje de ganancia con cada tipo de memoria para llegar a  mayores concluciones."
   ]
  },
  {
   "cell_type": "markdown",
   "metadata": {},
   "source": [
    "# Evolución de compra de celulares con diferente GB durante los meses"
   ]
  },
  {
   "cell_type": "code",
   "execution_count": null,
   "metadata": {},
   "outputs": [],
   "source": [
    "meses_gb = eventos.loc[eventos['event'] == 'conversion', :]\n",
    "meses_gb['timestamp'] = pd.to_datetime(meses_gb['timestamp'])\n",
    "meses_gb['timestamp'] = meses_gb['timestamp'].dt.month\n",
    "meses_gb_reduce = meses_gb[['timestamp','storage']]\n",
    "\n",
    "pd.set_option('max_rows', 10)\n",
    "meses_gb_reduce = meses_gb_reduce.sort_values(by=['storage'])\n",
    "meses_gb_reduce\n",
    "meses_gb_reduce = meses_gb_reduce.groupby(['timestamp', 'storage']).agg('size').reset_index()\n",
    "meses_gb_reduce"
   ]
  },
  {
   "cell_type": "code",
   "execution_count": null,
   "metadata": {},
   "outputs": [],
   "source": [
    "ax = sns.lineplot(x=\"timestamp\", y = 0, hue='storage', data = meses_gb_reduce)\n",
    "ax.set(xlabel='Mes', ylabel='Ventas', title=\"Ventas a lo largo de los meses de celulares por tipo de memoria\")"
   ]
  },
  {
   "cell_type": "markdown",
   "metadata": {},
   "source": [
    "Que porcentaje de la información no posee un tipo de storage?"
   ]
  },
  {
   "cell_type": "code",
   "execution_count": null,
   "metadata": {},
   "outputs": [],
   "source": [
    "sum(pd.isnull(eventos['storage'])) * 100 / len(eventos)"
   ]
  },
  {
   "cell_type": "markdown",
   "metadata": {},
   "source": [
    "Podemos ver entonces que hemos trabajado con un 56% de las filas de nuestro dataset. "
   ]
  }
 ],
 "metadata": {
  "kernelspec": {
   "display_name": "Python 3",
   "language": "python",
   "name": "python3"
  },
  "language_info": {
   "codemirror_mode": {
    "name": "ipython",
    "version": 3
   },
   "file_extension": ".py",
   "mimetype": "text/x-python",
   "name": "python",
   "nbconvert_exporter": "python",
   "pygments_lexer": "ipython3",
   "version": "3.5.2"
  }
 },
 "nbformat": 4,
 "nbformat_minor": 2
}
