{
 "cells": [
  {
   "cell_type": "code",
   "execution_count": null,
   "metadata": {},
   "outputs": [],
   "source": [
    "import pandas as pd\n",
    "import numpy as np\n",
    "import seaborn\n",
    "import matplotlib.pyplot as plt\n",
    "from datetime import datetime\n",
    "\n",
    "\n",
    "df_original = pd.read_csv('events.csv', low_memory=False)\n",
    "display(df_original.head())\n",
    "df_original.timestamp = df_original.timestamp.astype(datetime)"
   ]
  },
  {
   "cell_type": "code",
   "execution_count": null,
   "metadata": {},
   "outputs": [],
   "source": [
    "df_leads = df_original.loc[df_original['event']=='lead',['model', 'person', 'timestamp']]\n",
    "display(df_leads.head())\n",
    "df_bought = df_original.loc[df_original['event']=='conversion', ['model', 'person', 'timestamp']]\n",
    "display(df_bought.head())"
   ]
  },
  {
   "cell_type": "code",
   "execution_count": null,
   "metadata": {},
   "outputs": [],
   "source": [
    "plt.figure(figsize=(10,8))\n",
    "top_10_leads = df_leads['model'].value_counts().head(10)\n",
    "top_10_leads.plot.bar()\n",
    "plt.xlabel('Modelos de telefonos', fontsize=15)\n",
    "plt.ylabel('Cantidad de leads asociados', fontsize=15)\n",
    "plt.title('Cantidad de veces puesto en lead por modelo de telefono', fontsize=20)"
   ]
  },
  {
   "cell_type": "code",
   "execution_count": null,
   "metadata": {},
   "outputs": [],
   "source": [
    "df_bought_from_lead = pd.merge(df_leads, df_bought, how='inner', on=['person', 'model'])\n",
    "display(df_bought_from_lead.head())\n",
    "df_bought_from_lead.columns = list(['model', 'person', 'lead_time', 'bought_time'])\n",
    "display(df_bought_from_lead.describe())\n",
    "display(df_bought_from_lead.head(10))"
   ]
  },
  {
   "cell_type": "code",
   "execution_count": null,
   "metadata": {},
   "outputs": [],
   "source": [
    "df_bought_from_lead['bought_time'] = df_bought_from_lead['bought_time'].astype(datetime)\n",
    "df_bought_from_lead['lead_time'] = df_bought_from_lead['lead_time'].astype(datetime)\n",
    "\n",
    "\n",
    "def time_diff(row):\n",
    "    bought_date = datetime(*map(int, row['bought_time'].split(' ')[0].split('-')))\n",
    "    lead_date = datetime(*map(int, row['lead_time'].split(' ')[0].split('-')))\n",
    "    \n",
    "    delta = bought_date - lead_date\n",
    "    return delta.days\n",
    "\n",
    "\n",
    "df_bought_from_lead['days_elapsed'] = df_bought_from_lead.agg(time_diff, axis=1)"
   ]
  },
  {
   "cell_type": "code",
   "execution_count": null,
   "metadata": {},
   "outputs": [],
   "source": [
    "df_bought_from_lead.head()"
   ]
  },
  {
   "cell_type": "markdown",
   "metadata": {},
   "source": [
    "Como se puede observar, hay personas que hicieron checkouts y luego leads. Para el siguiente análisis vamos a descartar estas situaciones."
   ]
  },
  {
   "cell_type": "code",
   "execution_count": null,
   "metadata": {},
   "outputs": [],
   "source": [
    "df_bought_from_lead = df_bought_from_lead.loc[df_bought_from_lead['days_elapsed'] > 0, :]"
   ]
  },
  {
   "cell_type": "code",
   "execution_count": null,
   "metadata": {},
   "outputs": [],
   "source": [
    "df_bought_from_lead"
   ]
  },
  {
   "cell_type": "code",
   "execution_count": null,
   "metadata": {},
   "outputs": [],
   "source": [
    "df_bought_from_lead.days_elapsed.describe()"
   ]
  },
  {
   "cell_type": "markdown",
   "metadata": {},
   "source": [
    "Se puede observar en estas estadísticas que la mayoría de los que usan la feature de la notificación de stock no tardan mucho en comprar el teléfono que querían. \n",
    "\n",
    "Analizando mas de cerca, el usuario que más tardó en comprar el telefóno que quería (7d4cf95d) vemos que pidió que lo notifiquen 2 veces antes de comprar 2 equipos del mismo modelo. Podríamos asumir que no es que el usuario se olvidó o _colgó_, sino que se tardó en volver a tener stock de ese modelo sabiendo que _Motorola Moto G4 Plus_ no es uno de los modelos mas populares en la página."
   ]
  },
  {
   "cell_type": "code",
   "execution_count": null,
   "metadata": {},
   "outputs": [],
   "source": [
    "plt.figure(figsize=(10,8))\n",
    "top_10_leads = df_bought_from_lead['model'].value_counts().head(10)\n",
    "top_10_leads.plot.bar()\n",
    "plt.xlabel('Modelos de telefonos', fontsize=15)\n",
    "plt.ylabel('Cantidad de equipos comprados', fontsize=15)\n",
    "plt.title('Cantidad telefonos comprados que fueron puestos en lead', fontsize=20)"
   ]
  },
  {
   "cell_type": "code",
   "execution_count": null,
   "metadata": {},
   "outputs": [],
   "source": [
    "persons_buying_leads = df_bought_from_lead.groupby(['person', 'model']).agg({'days_elapsed':'count'})\n",
    "persons_buying_leads = persons_buying_leads.reset_index()\n",
    "persons_buying_leads.columns = ['person', 'model', 'phones_bought']\n",
    "persons_buying_leads.sort_values(by='person', inplace=True)\n",
    "persons_buying_leads"
   ]
  },
  {
   "cell_type": "markdown",
   "metadata": {},
   "source": [
    "Se puede ver algo interesante, que todas las personas que compran varios equipos usando el sistema de lead, siempre compran el mismo modelo de equipo."
   ]
  }
 ],
 "metadata": {
  "kernelspec": {
   "display_name": "Python 3",
   "language": "python",
   "name": "python3"
  },
  "language_info": {
   "codemirror_mode": {
    "name": "ipython",
    "version": 3
   },
   "file_extension": ".py",
   "mimetype": "text/x-python",
   "name": "python",
   "nbconvert_exporter": "python",
   "pygments_lexer": "ipython3",
   "version": "3.6.5"
  }
 },
 "nbformat": 4,
 "nbformat_minor": 2
}
