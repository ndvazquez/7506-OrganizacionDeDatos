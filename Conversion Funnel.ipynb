{
 "cells": [
  {
   "cell_type": "code",
   "execution_count": null,
   "metadata": {},
   "outputs": [],
   "source": [
    "import pandas as pd\n",
    "import numpy as np\n",
    "import matplotlib.pyplot as plt\n",
    "import seaborn as sns\n",
    "\n",
    "%matplotlib inline\n",
    "\n",
    "plt.style.use('default')\n",
    "\n",
    "sns.set(style='whitegrid')"
   ]
  },
  {
   "cell_type": "markdown",
   "metadata": {},
   "source": [
    "# Análisis del Conversion Funnel de usuarios que visitan el sitio y realizan una conversion en el mismo."
   ]
  },
  {
   "cell_type": "code",
   "execution_count": null,
   "metadata": {},
   "outputs": [],
   "source": [
    "df = pd.read_csv('data/events.csv', low_memory=False)"
   ]
  },
  {
   "cell_type": "code",
   "execution_count": null,
   "metadata": {},
   "outputs": [],
   "source": [
    "# TODO: Cargar usuarios con conversion y checkout, mostrar que el top tiene conversions sin checkouts\n",
    "# y plantear la razón posible para esto, a modo de introducción al análisis y filtro que haremos para el mismo."
   ]
  },
  {
   "cell_type": "code",
   "execution_count": null,
   "metadata": {},
   "outputs": [],
   "source": [
    "# Vamos a obtener a todos los usuarios que tienen conversiones, para luego obtener a aquellos que también\n",
    "# tienen check-outs.\n",
    "conversiones = df.loc[df['event'] == 'conversion', ['event', 'person', 'sku', 'model']].copy()\n",
    "#eventos = eventos[['event', 'person']]\n",
    "conversiones_sin_us_dup = conversiones.drop_duplicates(subset='person')\n",
    "usuarios_con_conversiones = set(conversiones_sin_us_dup['person'])"
   ]
  },
  {
   "cell_type": "code",
   "execution_count": null,
   "metadata": {},
   "outputs": [],
   "source": [
    "# Ahora obtenemos los que también tienen check-outs.\n",
    "usuarios_con_checkout_conversion = df.loc[(df['event'] == 'checkout') &\n",
    "                                          df['person'].isin(usuarios_con_conversiones), ['person']]\n",
    "usuarios_con_checkout_conversion.drop_duplicates(subset='person', inplace=True)\n",
    "usuarios_con_checkout_conversion = set(usuarios_con_checkout_conversion['person'])"
   ]
  },
  {
   "cell_type": "code",
   "execution_count": null,
   "metadata": {},
   "outputs": [],
   "source": [
    "# Procedemos a quedarnos con aquellos que compraron en el sitio de la empresa, nos basamos en que\n",
    "# exista un check-out previo a una conversion, sobre el mismo SKU.\n",
    "usuarios_filtrados = df.loc[(df['person'].isin(usuarios_con_checkout_conversion)) &\n",
    "            (df['event'].isin(['checkout', 'conversion'])), ['timestamp', 'event', 'person', 'sku', 'model']]\n",
    "usuarios_filtrados.drop_duplicates(subset=['event','person'], inplace=True)\n",
    "usuarios_filtrados = usuarios_filtrados[usuarios_filtrados.duplicated(subset=['person', 'sku'], keep=False)]\n",
    "usuarios_filtrados.describe().T"
   ]
  },
  {
   "cell_type": "code",
   "execution_count": null,
   "metadata": {},
   "outputs": [],
   "source": [
    "# Notemos que algunos usuarios tienen invertido el orden check-out/conversion. Por lo que no sabemos si\n",
    "# la conversion fue realizada en el sitio o fuera del mismo (y presentan una diferencia de tiempo importante\n",
    "# entre ambos eventos)\n",
    "usuarios_filtrados.head()"
   ]
  },
  {
   "cell_type": "code",
   "execution_count": null,
   "metadata": {},
   "outputs": [],
   "source": [
    "# Obtenemos una lista de usuarios sin duplicados.\n",
    "usuarios = set(usuarios_filtrados.drop_duplicates(subset='person')['person'])\n",
    "len(usuarios)"
   ]
  },
  {
   "cell_type": "code",
   "execution_count": null,
   "metadata": {},
   "outputs": [],
   "source": [
    "# Ahora nos quedamos con aquellos que tienen conversions pero no tienen check-outs relacionados a estas.\n",
    "us_conversion_sin_checkout = set([x for x in usuarios_con_conversiones if x not in usuarios])\n",
    "len(us_conversion_sin_checkout)"
   ]
  },
  {
   "cell_type": "code",
   "execution_count": null,
   "metadata": {},
   "outputs": [],
   "source": [
    "# Nos quedaría quitar a aquellos usuarios que tienen invertido el orden en el que se realiza una conversion\n",
    "# desde el sitio de la empresa. Es decir, aquellos que primero presenten una conversion y luego un check-out.\n",
    "usuarios_conflictivos = set()\n",
    "row_iterator = usuarios_filtrados.iterrows()\n",
    "for i, row in row_iterator:\n",
    "    next_row = next(row_iterator)[1]\n",
    "    if (row['event'] + next_row['event']) == \"conversioncheckout\":\n",
    "        usuarios_conflictivos.add(row['person'])\n",
    "us_conversion_sin_checkout = us_conversion_sin_checkout.union(usuarios_conflictivos)\n",
    "len(us_conversion_sin_checkout)"
   ]
  },
  {
   "cell_type": "code",
   "execution_count": null,
   "metadata": {},
   "outputs": [],
   "source": []
  }
 ],
 "metadata": {
  "kernelspec": {
   "display_name": "Python 3",
   "language": "python",
   "name": "python3"
  },
  "language_info": {
   "codemirror_mode": {
    "name": "ipython",
    "version": 3
   },
   "file_extension": ".py",
   "mimetype": "text/x-python",
   "name": "python",
   "nbconvert_exporter": "python",
   "pygments_lexer": "ipython3",
   "version": "3.6.5"
  }
 },
 "nbformat": 4,
 "nbformat_minor": 2
}
