{
 "cells": [
  {
   "cell_type": "code",
   "execution_count": null,
   "metadata": {},
   "outputs": [],
   "source": [
    "import pandas as pd\n",
    "import numpy as np\n",
    "import matplotlib.pyplot as plt\n",
    "import seaborn as sns\n",
    "\n",
    "\n",
    "df_original = pd.read_csv('events.csv', low_memory=False)\n",
    "df_original.head()\n"
   ]
  },
  {
   "cell_type": "code",
   "execution_count": null,
   "metadata": {},
   "outputs": [],
   "source": [
    "people_and_events = df_original.groupby(['person', 'event']).agg({'timestamp':'count'})\n",
    "people_and_events = people_and_events.reset_index()\n",
    "people_and_events[\"person\"].nunique()"
   ]
  },
  {
   "cell_type": "code",
   "execution_count": null,
   "metadata": {},
   "outputs": [],
   "source": [
    "people_and_events = pd.pivot_table(people_and_events, columns='event', values='timestamp', index='person')"
   ]
  },
  {
   "cell_type": "code",
   "execution_count": null,
   "metadata": {},
   "outputs": [],
   "source": [
    "people_and_events.fillna(0,inplace=True)\n",
    "people_and_events['total'] = people_and_events.sum(axis=1)\n",
    "people_and_events.shape"
   ]
  },
  {
   "cell_type": "code",
   "execution_count": null,
   "metadata": {},
   "outputs": [],
   "source": [
    "people_and_events.describe(include='all')"
   ]
  },
  {
   "cell_type": "code",
   "execution_count": null,
   "metadata": {},
   "outputs": [],
   "source": [
    "people_and_events.sort_values(by=['checkout'],ascending=False)"
   ]
  },
  {
   "cell_type": "code",
   "execution_count": null,
   "metadata": {},
   "outputs": [],
   "source": [
    "plt.figure(figsize=(10,10))\n",
    "plt.scatter(x=\"checkout\", y=\"conversion\", \n",
    "                    data=people_and_events, color=\"orange\")\n",
    "plt.title(\"Relacion checkout y conversion\", fontsize=20)\n",
    "plt.xlabel(\"cantidad de checkout\", fontsize=20)\n",
    "plt.ylabel(\"cantidad de conversion\", fontsize=20)"
   ]
  },
  {
   "cell_type": "code",
   "execution_count": null,
   "metadata": {},
   "outputs": [],
   "source": [
    "plt.figure(figsize=(10,10))\n",
    "plt.scatter(x=\"viewed product\", y=\"conversion\", \n",
    "                    data=people_and_events, color=\"orange\")\n",
    "plt.title(\"Relacion viewed product y conversion\", fontsize=20)\n",
    "plt.xlabel(\"cantidad de viewed product\", fontsize=20)\n",
    "plt.ylabel(\"cantidad de conversion\", fontsize=20)"
   ]
  },
  {
   "cell_type": "code",
   "execution_count": null,
   "metadata": {},
   "outputs": [],
   "source": [
    "plt.figure(figsize=(10,10))\n",
    "plt.scatter(x=\"viewed product\", y=\"checkout\", \n",
    "                    data=people_and_events, color=\"orange\")\n",
    "plt.title(\"Relacion viewed product y checkout\", fontsize=20)\n",
    "plt.xlabel(\"cantidad de viewed product\", fontsize=20)\n",
    "plt.ylabel(\"cantidad de checkout\", fontsize=20)"
   ]
  },
  {
   "cell_type": "code",
   "execution_count": null,
   "metadata": {},
   "outputs": [],
   "source": [
    "plt.figure(figsize=(10,10))\n",
    "plt.scatter(x=\"ad campaign hit\", y=\"conversion\", \n",
    "                    data=people_and_events, color=\"orange\")\n",
    "plt.title(\"Relacion entre ad campaign hit y conversion\", fontsize=20)\n",
    "plt.xlabel(\"cantidad de ad campaign hit\", fontsize=20)\n",
    "plt.ylabel(\"cantidad de conversion\", fontsize=20)\n",
    "\n",
    "#spammear a alguien con anuncios no tiene sentido"
   ]
  },
  {
   "cell_type": "code",
   "execution_count": null,
   "metadata": {},
   "outputs": [],
   "source": [
    "plt.figure(figsize=(10,10))\n",
    "plt.scatter(x=\"ad campaign hit\", y=\"checkout\", \n",
    "                    data=people_and_events, color=\"orange\")\n",
    "plt.title(\"Relacion entre ad campaign hit y checkout\", fontsize=20)\n",
    "plt.xlabel(\"cantidad de ad campaign hit\", fontsize=20)\n",
    "plt.ylabel(\"cantidad de checkout\", fontsize=20)\n",
    "\n",
    "#spammear a alguien con anuncios no tiene sentido"
   ]
  },
  {
   "cell_type": "code",
   "execution_count": null,
   "metadata": {},
   "outputs": [],
   "source": [
    "plt.figure(figsize=(10,10))\n",
    "plt.scatter(x=\"brand listing\", y=\"conversion\", \n",
    "                    data=people_and_events, color=\"orange\")\n",
    "plt.title(\"Relacion entre brand listing y conversion\", fontsize=20)\n",
    "plt.xlabel(\"cantidad de brand listing\", fontsize=20)\n",
    "plt.ylabel(\"cantidad de conversion\", fontsize=20)\n"
   ]
  },
  {
   "cell_type": "code",
   "execution_count": null,
   "metadata": {},
   "outputs": [],
   "source": [
    "plt.figure(figsize=(10,10))\n",
    "plt.scatter(x=\"lead\", y=\"conversion\", \n",
    "                    data=people_and_events, color=\"orange\")\n",
    "plt.title(\"Relacion entre lead y conversion\", fontsize=20)\n",
    "plt.xlabel(\"cantidad de lead\", fontsize=20)\n",
    "plt.ylabel(\"cantidad de conversion\", fontsize=20)\n"
   ]
  },
  {
   "cell_type": "code",
   "execution_count": null,
   "metadata": {},
   "outputs": [],
   "source": [
    "plt.figure(figsize=(10,10))\n",
    "g = sns.regplot(x=\"total\", y=\"ad campaign hit\", \n",
    "                    data=people_and_events, color=\"orange\")\n",
    "g.set_title(\"Relacion entre total de eventos y ad campaign hit\", fontsize=20)\n",
    "g.set_xlabel(\"cantidad de total de eventos\", fontsize=20)\n",
    "g.set_ylabel(\"cantidad de ad campaign hit\", fontsize=20)\n",
    "\n",
    "\n",
    "\"\"\"plt.scatter(x=\"total\", y=\"ad campaign hit\", \n",
    "                    data=people_and_events, color=\"orange\")\n",
    "plt.title(\"Relacion entre total de eventos y ad campaign hit\", fontsize=20)\n",
    "plt.xlabel(\"cantidad de total de eventos\", fontsize=20)\n",
    "plt.ylabel(\"cantidad de ad campaign hit\", fontsize=20)\n",
    "\"\"\""
   ]
  },
  {
   "cell_type": "code",
   "execution_count": null,
   "metadata": {},
   "outputs": [],
   "source": [
    "plt.figure(figsize=(10,10))\n",
    "plt.scatter(x=\"total\", y=\"checkout\", \n",
    "                    data=people_and_events, color=\"orange\")\n",
    "plt.title(\"Relacion entre total de eventos y checkout\", fontsize=20)\n",
    "plt.xlabel(\"cantidad de total de eventos\", fontsize=20)\n",
    "plt.ylabel(\"cantidad de checkout\", fontsize=20)"
   ]
  },
  {
   "cell_type": "code",
   "execution_count": null,
   "metadata": {},
   "outputs": [],
   "source": [
    "plt.figure(figsize=(10,10))\n",
    "plt.scatter(x=\"total\", y=\"conversion\", \n",
    "                    data=people_and_events, color=\"orange\")\n",
    "plt.title(\"Relacion entre total de eventos y conversion\", fontsize=20)\n",
    "plt.xlabel(\"cantidad de total de eventos\", fontsize=20)\n",
    "plt.ylabel(\"cantidad de conversion\", fontsize=20)\n"
   ]
  },
  {
   "cell_type": "code",
   "execution_count": null,
   "metadata": {},
   "outputs": [],
   "source": [
    "plt.figure(figsize=(10,10))\n",
    "g = sns.regplot(x=\"total\", y=\"viewed product\", \n",
    "                    data=people_and_events, color=\"orange\")\n",
    "g.set_title(\"Relacion entre total de eventos y viewed product\", fontsize=20)\n",
    "g.set_xlabel(\"cantidad de total de eventos\", fontsize=20)\n",
    "g.set_ylabel(\"cantidad de viewed product\", fontsize=20)\n",
    "\n",
    "\"\"\"plt.figure(figsize=(10,10))\n",
    "plt.scatter(x=\"total\", y=\"viewed product\", \n",
    "                    data=people_and_events, color=\"orange\")\n",
    "plt.title(\"Relacion entre total de eventos y viewed product\", fontsize=20)\n",
    "plt.xlabel(\"cantidad de total de eventos\", fontsize=20)\n",
    "plt.ylabel(\"cantidad de viewed product\", fontsize=20)\"\"\"\n"
   ]
  },
  {
   "cell_type": "code",
   "execution_count": null,
   "metadata": {},
   "outputs": [],
   "source": [
    "people_and_events[\"tienenConversion\"] = people_and_events[\"conversion\"]>0"
   ]
  },
  {
   "cell_type": "code",
   "execution_count": null,
   "metadata": {},
   "outputs": [],
   "source": [
    "people_and_events[\"tienenConversion\"]= people_and_events[\"tienenConversion\"].replace(to_replace=True,value=\"al menos una conversion\")\n",
    "people_and_events[\"tienenConversion\"]= people_and_events[\"tienenConversion\"].replace(to_replace=False,value=\"no conversion\")\n",
    "conversioncontar = people_and_events[\"tienenConversion\"].value_counts()\n",
    "graficoConversionVsNoConversions = conversioncontar.plot(kind='pie',autopct='%1.1f%%',figsize=(7,7),fontsize=12,colors=['orange','gray'],explode=(0.1, 0))\n",
    "graficoConversionVsNoConversions.set_title(\"Porcentaje de usuarios que realizan conversiones\",fontsize=20)\n",
    "graficoConversionVsNoConversions.set_ylabel(\"\")"
   ]
  },
  {
   "cell_type": "markdown",
   "metadata": {},
   "source": [
    "### Ahora analizo adentro de ese porcentaje que realizo una conversion, cuantos realizaron mas de 2"
   ]
  },
  {
   "cell_type": "code",
   "execution_count": null,
   "metadata": {},
   "outputs": [],
   "source": [
    "PersonasConAlMenosUnaConversion = people_and_events.loc[people_and_events[\"conversion\"]>0,\"conversion\"]"
   ]
  },
  {
   "cell_type": "code",
   "execution_count": null,
   "metadata": {
    "scrolled": false
   },
   "outputs": [],
   "source": [
    "PersonasConAlMenosUnaConversionDF = PersonasConAlMenosUnaConversion.to_frame()\n",
    "PersonasConAlMenosUnaConversionDF[\"tienenConvMayorA1\"] = PersonasConAlMenosUnaConversionDF[\"conversion\"]>1\n",
    "PersonasConAlMenosUnaConversionDF[\"tienenConvMayorA1\"]= PersonasConAlMenosUnaConversionDF[\"tienenConvMayorA1\"].replace(to_replace=True,value=\"Mas de una conversion\")\n",
    "PersonasConAlMenosUnaConversionDF[\"tienenConvMayorA1\"]= PersonasConAlMenosUnaConversionDF[\"tienenConvMayorA1\"].replace(to_replace=False,value=\"Una conversion\")\n",
    "conversioncontar = PersonasConAlMenosUnaConversionDF[\"tienenConvMayorA1\"].value_counts()\n",
    "graficoConversionVsNoConversions = conversioncontar.plot(kind='pie',autopct='%1.1f%%',figsize=(7,7),fontsize=12,colors=['orange','gray'],explode=(0.1, 0))\n",
    "graficoConversionVsNoConversions.set_title(\"Porcentaje de usuarios que al realizar una conversion, realicen mas de dos\",fontsize=20)\n",
    "graficoConversionVsNoConversions.set_ylabel(\"\")"
   ]
  },
  {
   "cell_type": "code",
   "execution_count": null,
   "metadata": {},
   "outputs": [],
   "source": [
    "filtrarPorConversion = people_and_events.loc[people_and_events[\"conversion\"]>0,[\"conversion\",\"checkout\"]]"
   ]
  },
  {
   "cell_type": "code",
   "execution_count": null,
   "metadata": {},
   "outputs": [],
   "source": [
    "filtrarPorConversion.describe(include='all')"
   ]
  },
  {
   "cell_type": "code",
   "execution_count": null,
   "metadata": {},
   "outputs": [],
   "source": []
  }
 ],
 "metadata": {
  "kernelspec": {
   "display_name": "Python 3",
   "language": "python",
   "name": "python3"
  },
  "language_info": {
   "codemirror_mode": {
    "name": "ipython",
    "version": 3
   },
   "file_extension": ".py",
   "mimetype": "text/x-python",
   "name": "python",
   "nbconvert_exporter": "python",
   "pygments_lexer": "ipython3",
   "version": "3.6.5"
  }
 },
 "nbformat": 4,
 "nbformat_minor": 2
}
