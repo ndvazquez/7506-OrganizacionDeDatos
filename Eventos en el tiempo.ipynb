{
 "cells": [
  {
   "cell_type": "code",
   "execution_count": null,
   "metadata": {},
   "outputs": [],
   "source": [
    "import pandas as pd\n",
    "import numpy as np\n",
    "import matplotlib.pyplot as plt\n",
    "import seaborn as sns\n",
    "%matplotlib inline\n",
    "\n",
    "plt.style.use('default')\n",
    "\n",
    "sns.set(style='whitegrid')"
   ]
  },
  {
   "cell_type": "markdown",
   "metadata": {},
   "source": [
    "# Análisis de frecuencia de eventos por hora, por día de la semana\n",
    "\n",
    "En este notebook vamos a analizar la frecuencia que tienen ciertos eventos dependiendo del momento del día en el que se registren. \n",
    "\n",
    "En primer lugar consideraremos aquellos que estén relacionados a **cómo un usuario accede al sitio**, y por otro lado aquellos eventos referidos al **flujo de compra** de un producto.\n",
    "\n",
    "Por lo tanto vamos a iniciar este análisis posando las siguientes preguntas:\n",
    "\n",
    "1. ¿Se puede observar mayor actividad en ciertos días?\n",
    "\n",
    "2. Además del día, ¿Existe una franja horaria en donde se registre una mayor cantidad de eventos? ¿Se mantiene el comportamiento entre los distintos eventos o varía dependiendo del tipo?"
   ]
  },
  {
   "cell_type": "code",
   "execution_count": null,
   "metadata": {},
   "outputs": [],
   "source": [
    "df = pd.read_csv('data/events.csv', low_memory=False)"
   ]
  },
  {
   "cell_type": "code",
   "execution_count": null,
   "metadata": {},
   "outputs": [],
   "source": [
    "df['timestamp'] = pd.to_datetime(df['timestamp'])\n",
    "df['weekday'] = df['timestamp'].dt.weekday_name\n",
    "df['hour'] = df['timestamp'].dt.hour"
   ]
  },
  {
   "cell_type": "markdown",
   "metadata": {},
   "source": [
    "## Cantidad de eventos por hora y por día de la semana\n",
    "Primero revisaremos el tráfico del sitio, sin separar por evento, para darnos una idea general de cómo está repartido la totalidad del tráfico según la franja horaria y día de la semana."
   ]
  },
  {
   "cell_type": "code",
   "execution_count": null,
   "metadata": {},
   "outputs": [],
   "source": [
    "eventos_df = df.loc[:,['timestamp', 'weekday', 'hour', 'event']]\n",
    "eventos_df['weekday'] = pd.Categorical(eventos_df['weekday'],\\\n",
    "               categories=['Monday','Tuesday','Wednesday','Thursday','Friday','Saturday', 'Sunday'], ordered=True)"
   ]
  },
  {
   "cell_type": "code",
   "execution_count": null,
   "metadata": {},
   "outputs": [],
   "source": [
    "# Creamos una tabla pivot para poder mostrar los datos que nos interesan utilizando un Heatmap.\n",
    "_heatmap = eventos_df.pivot_table(index='weekday', columns='hour', values='event', aggfunc='count')\n",
    "_heatmap"
   ]
  },
  {
   "cell_type": "code",
   "execution_count": null,
   "metadata": {},
   "outputs": [],
   "source": [
    "def crear_grafico_heatmap(heatmap, color, titulo):\n",
    "    g = sns.heatmap(heatmap, cmap=color)\n",
    "    g.set_title(titulo, fontsize=16)\n",
    "    g.set_xlabel(\"Hora\", fontsize=14)\n",
    "    g.set_ylabel(\"Día\", fontsize=14)\n",
    "    plt.xticks(rotation=0)\n",
    "    plt.yticks(rotation=0)\n",
    "    return g"
   ]
  },
  {
   "cell_type": "code",
   "execution_count": null,
   "metadata": {},
   "outputs": [],
   "source": [
    "plt.figure(figsize=[10,4])\n",
    "g = crear_grafico_heatmap(_heatmap, 'Blues', 'Eventos registrados por hora, por día')\n",
    "plt.show()"
   ]
  },
  {
   "cell_type": "markdown",
   "metadata": {},
   "source": [
    "## Filtrando según cómo accedió el usuario al sitio\n",
    "\n",
    "Ahora vamos a filtrar los eventos en tres categorías, según cómo accedió el usuario al sitio."
   ]
  },
  {
   "cell_type": "markdown",
   "metadata": {},
   "source": [
    "## Visited Site (visita directa a través de un link)"
   ]
  },
  {
   "cell_type": "code",
   "execution_count": null,
   "metadata": {},
   "outputs": [],
   "source": [
    "visitas_directas = eventos_df.loc[eventos_df['event'] == 'visited site', :]\n",
    "_heatmap = visitas_directas.pivot_table(index='weekday', columns='hour', values='event', aggfunc='count')"
   ]
  },
  {
   "cell_type": "code",
   "execution_count": null,
   "metadata": {},
   "outputs": [],
   "source": [
    "plt.figure(figsize=[10,4])\n",
    "g = crear_grafico_heatmap(_heatmap, 'Reds', 'Visitas directas registradas por hora, por día')\n",
    "plt.show()"
   ]
  },
  {
   "cell_type": "markdown",
   "metadata": {},
   "source": [
    "## Ad Campaign Hit (acceso mediante una publicidad)"
   ]
  },
  {
   "cell_type": "code",
   "execution_count": null,
   "metadata": {},
   "outputs": [],
   "source": [
    "visitas_publicidad = eventos_df.loc[eventos_df['event'] == 'ad campaign hit', :]\n",
    "_heatmap = visitas_publicidad.pivot_table(index='weekday', columns='hour', values='event', aggfunc='count')"
   ]
  },
  {
   "cell_type": "code",
   "execution_count": null,
   "metadata": {},
   "outputs": [],
   "source": [
    "plt.figure(figsize=[10,4])\n",
    "g = crear_grafico_heatmap(_heatmap, 'Purples', 'Visitas desde publicidades registradas por hora, por día')\n",
    "plt.show()"
   ]
  },
  {
   "cell_type": "markdown",
   "metadata": {},
   "source": [
    "## Search Engine Hit (el usuario accede desde un buscador web)"
   ]
  },
  {
   "cell_type": "code",
   "execution_count": null,
   "metadata": {},
   "outputs": [],
   "source": [
    "visitas_buscadores = eventos_df.loc[eventos_df['event'] == 'search engine hit', :]\n",
    "_heatmap = visitas_buscadores.pivot_table(index='weekday', columns='hour', values='event', aggfunc='count')"
   ]
  },
  {
   "cell_type": "code",
   "execution_count": null,
   "metadata": {},
   "outputs": [],
   "source": [
    "plt.figure(figsize=[10,4])\n",
    "g = crear_grafico_heatmap(_heatmap, 'Greens', 'Visitas desde buscadores registradas por hora, por día')\n",
    "plt.show()"
   ]
  },
  {
   "cell_type": "markdown",
   "metadata": {},
   "source": [
    "## Observaciones respecto al tráfico según tipo de acceso al sitio\n",
    "\n",
    "Podemos notar claramente que el comportamiento de los usuarios respecto al acceso al sitio se mantiene independientemente del tipo de evento.\n",
    "\n",
    "En primer lugar, vemos que hay mayor frecuencia de eventos durante los días de semana que durante los fines de semana.\n",
    "\n",
    "Además se puede observar que en los tres casos expuestos, hay más accesos al sitio durante el horario laboral, presentando una pequeña disminución entre las 19 y 21 horas, para luego volver a incrementarse la frecuencia hasta las primeras horas de la madrugada. \n",
    "\n",
    "La franja horaria comprendida entre las 5 y las 9 de la mañana presenta actividad nula.\n",
    "\n",
    "De todas formas por falta de datos demográficos sobre los usuarios del sitio, creo prudente no realizar afirmaciones respecto al motivo del comportamiento de los usuarios."
   ]
  },
  {
   "cell_type": "markdown",
   "metadata": {},
   "source": [
    "# Productos vistos, checkouts y compras\n",
    "\n",
    "Procederemos a realizar heatmaps para estos eventos, ya que nos interesa saber si el comportamiento de los usuarios en estos eventos es similar al que observamos en las visitas al sitio."
   ]
  },
  {
   "cell_type": "code",
   "execution_count": null,
   "metadata": {},
   "outputs": [],
   "source": [
    "checkouts = eventos_df.loc[eventos_df['event'] == 'checkout',['timestamp', 'weekday', 'hour', 'event']]\n",
    "_heatmap = checkouts.pivot_table(index='weekday', columns='hour', values='event', aggfunc='count')"
   ]
  },
  {
   "cell_type": "code",
   "execution_count": null,
   "metadata": {},
   "outputs": [],
   "source": [
    "plt.figure(figsize=[10,4])\n",
    "g = crear_grafico_heatmap(_heatmap, 'Oranges', 'Checkouts registrados por hora, por día')\n",
    "plt.show()"
   ]
  },
  {
   "cell_type": "code",
   "execution_count": null,
   "metadata": {},
   "outputs": [],
   "source": [
    "conversiones = eventos_df.loc[eventos_df['event'] == 'conversion',['timestamp', 'weekday', 'hour', 'event']]\n",
    "_heatmap = conversiones.pivot_table(index='weekday', columns='hour', values='event', aggfunc='count')"
   ]
  },
  {
   "cell_type": "code",
   "execution_count": null,
   "metadata": {},
   "outputs": [],
   "source": [
    "plt.figure(figsize=[10,4])\n",
    "g = crear_grafico_heatmap(_heatmap, 'Greys', 'Conversiones registradas por hora, por día')\n",
    "plt.show()"
   ]
  },
  {
   "cell_type": "code",
   "execution_count": null,
   "metadata": {},
   "outputs": [],
   "source": [
    "productos_vistos = eventos_df.loc[eventos_df['event'] == 'viewed product', ['timestamp', 'weekday', 'hour', 'event']]\n",
    "_heatmap = productos_vistos.pivot_table(index='weekday', columns='hour', values='event', aggfunc='count')"
   ]
  },
  {
   "cell_type": "code",
   "execution_count": null,
   "metadata": {},
   "outputs": [],
   "source": [
    "plt.figure(figsize=[10,4])\n",
    "g = crear_grafico_heatmap(_heatmap, 'Blues', 'Productos vistos por hora, por día')\n",
    "plt.show()"
   ]
  },
  {
   "cell_type": "code",
   "execution_count": null,
   "metadata": {},
   "outputs": [],
   "source": []
  }
 ],
 "metadata": {
  "kernelspec": {
   "display_name": "Python 3",
   "language": "python",
   "name": "python3"
  },
  "language_info": {
   "codemirror_mode": {
    "name": "ipython",
    "version": 3
   },
   "file_extension": ".py",
   "mimetype": "text/x-python",
   "name": "python",
   "nbconvert_exporter": "python",
   "pygments_lexer": "ipython3",
   "version": "3.6.5"
  }
 },
 "nbformat": 4,
 "nbformat_minor": 2
}
