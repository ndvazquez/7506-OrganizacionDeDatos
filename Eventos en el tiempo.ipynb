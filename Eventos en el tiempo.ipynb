{
 "cells": [
  {
   "cell_type": "code",
   "execution_count": null,
   "metadata": {},
   "outputs": [],
   "source": [
    "import pandas as pd\n",
    "import numpy as np\n",
    "import matplotlib.pyplot as plt\n",
    "import seaborn as sns\n",
    "%matplotlib inline\n",
    "\n",
    "plt.style.use('default')\n",
    "\n",
    "sns.set(style='whitegrid')"
   ]
  },
  {
   "cell_type": "markdown",
   "metadata": {},
   "source": [
    "# Análisis de frecuencia de eventos en el tiempo"
   ]
  },
  {
   "cell_type": "code",
   "execution_count": null,
   "metadata": {},
   "outputs": [],
   "source": [
    "df = pd.read_csv('data/events.csv', low_memory=False)"
   ]
  },
  {
   "cell_type": "code",
   "execution_count": null,
   "metadata": {},
   "outputs": [],
   "source": [
    "df['timestamp'] = pd.to_datetime(df['timestamp'])\n",
    "df['weekday'] = df['timestamp'].dt.weekday_name\n",
    "df['hour'] = df['timestamp'].dt.hour"
   ]
  },
  {
   "cell_type": "markdown",
   "metadata": {},
   "source": [
    "# Cantidad de eventos por hora y por día de la semana"
   ]
  },
  {
   "cell_type": "markdown",
   "metadata": {},
   "source": [
    "Bajaremos un nivel más en nuestro análisis, centrándonos en la cantidad de eventos que hubo por hora, en cada día de la semana, teniendo en cuenta la totalidad de los datos que se encuentran disponibles en el dataset."
   ]
  },
  {
   "cell_type": "code",
   "execution_count": null,
   "metadata": {},
   "outputs": [],
   "source": [
    "eventos_df = df.loc[:,['timestamp', 'weekday', 'hour', 'event']]\n",
    "eventos_df['weekday'] = pd.Categorical(eventos_df['weekday'],\\\n",
    "               categories=['Monday','Tuesday','Wednesday','Thursday','Friday','Saturday', 'Sunday'], ordered=True)"
   ]
  },
  {
   "cell_type": "code",
   "execution_count": null,
   "metadata": {},
   "outputs": [],
   "source": [
    "# Creamos una tabla pivot para poder mostrar los datos que nos interesan utilizando un Heatmap.\n",
    "_heatmap = eventos_df.pivot_table(index='weekday', columns='hour', values='event', aggfunc='count')\n",
    "_heatmap"
   ]
  },
  {
   "cell_type": "code",
   "execution_count": null,
   "metadata": {},
   "outputs": [],
   "source": [
    "plt.figure(figsize=[14,8])\n",
    "g = sns.heatmap(_heatmap, cmap='Blues')\n",
    "g.set_title(\"Eventos registrados por hora, por día\", fontsize=20)\n",
    "g.set_xlabel(\"Hora\", fontsize=18)\n",
    "g.set_ylabel(\"Día\", fontsize=18)\n",
    "plt.xticks(rotation=0)\n",
    "plt.yticks(rotation=0)"
   ]
  },
  {
   "cell_type": "markdown",
   "metadata": {},
   "source": [
    "## Observaciones\n",
    "Se puede observar que el tráfico durante los días de semana es mayor que el de los fines de semana, independientemente de la hora en la que se registran los eventos.\n",
    "\n",
    "Además queda claro que en el horario de 5-9 AM se registran muy pocos eventos.\n",
    "\n",
    "Tener en cuenta que el horario de cada evento está dado en EDT."
   ]
  },
  {
   "cell_type": "markdown",
   "metadata": {},
   "source": [
    "## Filtrando por Checkout (event)"
   ]
  },
  {
   "cell_type": "code",
   "execution_count": null,
   "metadata": {},
   "outputs": [],
   "source": [
    "eventos_df = df.loc[df['event'] == 'checkout',['timestamp', 'weekday', 'hour', 'event']]\n",
    "eventos_df['weekday'] = pd.Categorical(eventos_df['weekday'],\\\n",
    "               categories=['Monday','Tuesday','Wednesday','Thursday','Friday','Saturday', 'Sunday'], ordered=True)"
   ]
  },
  {
   "cell_type": "code",
   "execution_count": null,
   "metadata": {},
   "outputs": [],
   "source": [
    "_heatmap = eventos_df.pivot_table(index='weekday', columns='hour', values='event', aggfunc='count')"
   ]
  },
  {
   "cell_type": "code",
   "execution_count": null,
   "metadata": {},
   "outputs": [],
   "source": [
    "plt.figure(figsize=[14,8])\n",
    "g = sns.heatmap(_heatmap, cmap='Oranges')\n",
    "g.set_title(\"Checkouts registrados por hora, por día\", fontsize=20)\n",
    "g.set_xlabel(\"Hora\", fontsize=18)\n",
    "g.set_ylabel(\"Día\", fontsize=18)\n",
    "plt.xticks(rotation=0)\n",
    "plt.yticks(rotation=0)"
   ]
  },
  {
   "cell_type": "markdown",
   "metadata": {},
   "source": [
    "## Observaciones\n",
    "\n",
    "Al parecer se mantiene la tendencia observada anteriormente en los eventos sin filtrar."
   ]
  },
  {
   "cell_type": "markdown",
   "metadata": {},
   "source": [
    "## Filtrando por Conversion (event)"
   ]
  },
  {
   "cell_type": "code",
   "execution_count": null,
   "metadata": {},
   "outputs": [],
   "source": [
    "eventos_df = df.loc[df['event'] == 'conversion',['timestamp', 'weekday', 'hour', 'event']]\n",
    "eventos_df['weekday'] = pd.Categorical(eventos_df['weekday'],\\\n",
    "               categories=['Monday','Tuesday','Wednesday','Thursday','Friday','Saturday', 'Sunday'], ordered=True)"
   ]
  },
  {
   "cell_type": "code",
   "execution_count": null,
   "metadata": {},
   "outputs": [],
   "source": [
    "_heatmap = eventos_df.pivot_table(index='weekday', columns='hour', values='event', aggfunc='count')"
   ]
  },
  {
   "cell_type": "code",
   "execution_count": null,
   "metadata": {},
   "outputs": [],
   "source": [
    "plt.figure(figsize=[14,8])\n",
    "g = sns.heatmap(_heatmap, cmap='Purples')\n",
    "g.set_title(\"Conversiones registrados por hora, por día\", fontsize=20)\n",
    "g.set_xlabel(\"Hora\", fontsize=18)\n",
    "g.set_ylabel(\"Día\", fontsize=18)\n",
    "plt.xticks(rotation=0)\n",
    "plt.yticks(rotation=0)"
   ]
  },
  {
   "cell_type": "markdown",
   "metadata": {},
   "source": [
    "## Observaciones\n",
    "\n",
    "Si bien es notable que hay un volumen mucho menor de registros de este evento, se puede observar un comportamiento similar al del Checkout."
   ]
  }
 ],
 "metadata": {
  "kernelspec": {
   "display_name": "Python 3",
   "language": "python",
   "name": "python3"
  },
  "language_info": {
   "codemirror_mode": {
    "name": "ipython",
    "version": 3
   },
   "file_extension": ".py",
   "mimetype": "text/x-python",
   "name": "python",
   "nbconvert_exporter": "python",
   "pygments_lexer": "ipython3",
   "version": "3.6.5"
  }
 },
 "nbformat": 4,
 "nbformat_minor": 2
}
