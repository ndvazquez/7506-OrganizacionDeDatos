{
 "cells": [
  {
   "cell_type": "code",
   "execution_count": null,
   "metadata": {},
   "outputs": [],
   "source": [
    "import pandas as pd\n",
    "import numpy as np\n",
    "import matplotlib.pyplot as plt\n",
    "import seaborn as sns"
   ]
  },
  {
   "cell_type": "code",
   "execution_count": null,
   "metadata": {},
   "outputs": [],
   "source": [
    "datos = pd.read_csv('events.csv', low_memory=False)"
   ]
  },
  {
   "cell_type": "code",
   "execution_count": null,
   "metadata": {
    "scrolled": true
   },
   "outputs": [],
   "source": [
    "datos.size"
   ]
  },
  {
   "cell_type": "code",
   "execution_count": null,
   "metadata": {},
   "outputs": [],
   "source": [
    "pd.set_option(\"display.max_columns\",80)"
   ]
  },
  {
   "cell_type": "code",
   "execution_count": null,
   "metadata": {
    "scrolled": true
   },
   "outputs": [],
   "source": [
    "pd.get_option(\"display.max_columns\")"
   ]
  },
  {
   "cell_type": "code",
   "execution_count": null,
   "metadata": {
    "scrolled": false
   },
   "outputs": [],
   "source": [
    "datos.head(5)"
   ]
  },
  {
   "cell_type": "code",
   "execution_count": null,
   "metadata": {},
   "outputs": [],
   "source": [
    "datos[\"event\"].value_counts()"
   ]
  },
  {
   "cell_type": "markdown",
   "metadata": {},
   "source": [
    "# ¿Que tipo de campaña de publicidad es mejor? (top 5)"
   ]
  },
  {
   "cell_type": "code",
   "execution_count": null,
   "metadata": {},
   "outputs": [],
   "source": [
    "conteoDeCampania = datos[\"campaign_source\"].value_counts().head(5)"
   ]
  },
  {
   "cell_type": "code",
   "execution_count": null,
   "metadata": {},
   "outputs": [],
   "source": [
    "plt.figure(figsize=[14,8])\n",
    "g = sns.barplot(x=conteoDeCampania.values, y=conteoDeCampania.index,orient='h')\n",
    "g.set_title(\"¿De que campaña de publicidad viene el trafico? (Top 5)\",fontsize=20)\n",
    "g.set_xlabel(\"Frecuencia\",fontsize=15)\n",
    "g.set_ylabel(\"Campaña\",fontsize=15)"
   ]
  },
  {
   "cell_type": "markdown",
   "metadata": {},
   "source": [
    "## Conclusiones: \n",
    "Podemos determinar que el mayor trafico recibido por publicidad es de Google, criteo y rtbhouse. "
   ]
  },
  {
   "cell_type": "code",
   "execution_count": null,
   "metadata": {},
   "outputs": [],
   "source": [
    "datos[(datos['event'] == \"visited site\") | (datos['event']== \"conversion\")].dropna(axis=1, how='all')\n",
    "\n"
   ]
  },
  {
   "cell_type": "code",
   "execution_count": null,
   "metadata": {
    "scrolled": true
   },
   "outputs": [],
   "source": [
    "newsVsReturning = datos[\"new_vs_returning\"].value_counts(normalize=True)"
   ]
  },
  {
   "cell_type": "code",
   "execution_count": null,
   "metadata": {},
   "outputs": [],
   "source": [
    "graficoNewsVsReturnings = newsVsReturning.plot(kind='pie',autopct='%1.1f%%',figsize=(7,7),fontsize=12,colors=['orange','gray'],explode=(0.1, 0))\n",
    "graficoNewsVsReturnings.set_title(\"Porcentaje de nuevos usuarios y que regresan\",fontsize=20)\n",
    "graficoNewsVsReturnings.set_ylabel(\"\")"
   ]
  },
  {
   "cell_type": "markdown",
   "metadata": {},
   "source": [
    "El sitio web atrae a usuarios que ya estuvieron en el."
   ]
  },
  {
   "cell_type": "code",
   "execution_count": null,
   "metadata": {},
   "outputs": [],
   "source": [
    "test = datos[\"url\"].value_counts()"
   ]
  },
  {
   "cell_type": "code",
   "execution_count": null,
   "metadata": {},
   "outputs": [],
   "source": [
    "test2 = test.to_frame()"
   ]
  },
  {
   "cell_type": "code",
   "execution_count": null,
   "metadata": {},
   "outputs": [],
   "source": [
    "test2.reset_index(inplace=True)\n"
   ]
  },
  {
   "cell_type": "code",
   "execution_count": null,
   "metadata": {},
   "outputs": [],
   "source": [
    "test2.columns = ['url', 'frecuencia']"
   ]
  },
  {
   "cell_type": "code",
   "execution_count": null,
   "metadata": {},
   "outputs": [],
   "source": [
    "test2[\"url\"] = test2['url'].apply(lambda x: \"comprar\" if \"comprar\" in x else x)\n",
    "test2[\"url\"] = test2['url'].apply(lambda x: \"vender\" if \"vender\" in x else x)\n",
    "test3 = test2.groupby(\"url\").sum()\n",
    "test3.rename(index={'/':'pagina principal'},inplace=True)\n",
    "test3.sort_values(\"frecuencia\",ascending=False,inplace=True)"
   ]
  },
  {
   "cell_type": "code",
   "execution_count": null,
   "metadata": {},
   "outputs": [],
   "source": [
    "test4 = test3.head(3)"
   ]
  },
  {
   "cell_type": "code",
   "execution_count": null,
   "metadata": {},
   "outputs": [],
   "source": [
    "test4"
   ]
  },
  {
   "cell_type": "code",
   "execution_count": null,
   "metadata": {},
   "outputs": [],
   "source": [
    "test4.reset_index(inplace=True)"
   ]
  },
  {
   "cell_type": "code",
   "execution_count": null,
   "metadata": {},
   "outputs": [],
   "source": [
    "test4[\"frecuencia\"].sum()"
   ]
  },
  {
   "cell_type": "code",
   "execution_count": null,
   "metadata": {},
   "outputs": [],
   "source": [
    "g = sns.barplot(x=test4[\"frecuencia\"], y=test4[\"url\"],orient='h')\n",
    "g.set_title(\"¿Que tipo de URL visita el usuario en los anuncios?\",fontsize=20)\n",
    "g.set_xlabel(\"Frecuencia\",fontsize=15)\n",
    "g.set_ylabel(\"Campaña\",fontsize=15)"
   ]
  },
  {
   "cell_type": "markdown",
   "metadata": {},
   "source": [
    "# Sankey Diagram\n",
    "#### Diagrama de flujo de los hits en las campañas de publicidad\n",
    "Filtraremos para que requiera una cantidad de hits, para poder visualizar mejor los resultados."
   ]
  },
  {
   "cell_type": "code",
   "execution_count": null,
   "metadata": {
    "scrolled": true
   },
   "outputs": [],
   "source": [
    "adcampaigndf = datos.loc[datos['event']=='ad campaign hit', :]\n",
    "adcampaigndf.dropna(axis=1, how='all').head(10)"
   ]
  },
  {
   "cell_type": "code",
   "execution_count": null,
   "metadata": {},
   "outputs": [],
   "source": [
    "valuecountcampaign = adcampaigndf.groupby(\"campaign_source\")[\"url\"].value_counts().to_frame()"
   ]
  },
  {
   "cell_type": "code",
   "execution_count": null,
   "metadata": {},
   "outputs": [],
   "source": [
    "filtercampaign = valuecountcampaign[valuecountcampaign[\"url\"]>300] #FILTRAR ACA"
   ]
  },
  {
   "cell_type": "code",
   "execution_count": null,
   "metadata": {},
   "outputs": [],
   "source": [
    "filtercampaign2= filtercampaign.unstack()"
   ]
  },
  {
   "cell_type": "code",
   "execution_count": null,
   "metadata": {},
   "outputs": [],
   "source": [
    "filtercampaign2.reset_index(inplace=True)"
   ]
  },
  {
   "cell_type": "code",
   "execution_count": null,
   "metadata": {},
   "outputs": [],
   "source": [
    "level1 = filtercampaign2.columns.get_level_values(1)"
   ]
  },
  {
   "cell_type": "code",
   "execution_count": null,
   "metadata": {},
   "outputs": [],
   "source": [
    "filtercampaign2.columns = level1"
   ]
  },
  {
   "cell_type": "code",
   "execution_count": null,
   "metadata": {},
   "outputs": [],
   "source": [
    "filtercampaign2 = filtercampaign2.rename(columns={'': 'campaign', '/': 'pag principal'})"
   ]
  },
  {
   "cell_type": "code",
   "execution_count": null,
   "metadata": {},
   "outputs": [],
   "source": [
    "filtercampaign2 = filtercampaign2.fillna(value=0)"
   ]
  },
  {
   "cell_type": "code",
   "execution_count": null,
   "metadata": {},
   "outputs": [],
   "source": [
    "label = list(filtercampaign2)[1:]"
   ]
  },
  {
   "cell_type": "code",
   "execution_count": null,
   "metadata": {},
   "outputs": [],
   "source": [
    "campaigns = filtercampaign2[\"campaign\"].tolist()"
   ]
  },
  {
   "cell_type": "code",
   "execution_count": null,
   "metadata": {},
   "outputs": [],
   "source": [
    "label=campaigns+label"
   ]
  },
  {
   "cell_type": "code",
   "execution_count": null,
   "metadata": {},
   "outputs": [],
   "source": [
    "import random\n",
    "\n",
    "color = []\n",
    "source = []\n",
    "target = []\n",
    "value = []\n",
    "\n",
    "listaDecolores = [\"blue\",\"red\",\"brown\",\"black\",\"purple\",\"yellow\",\"green\", \"orange\",\"gray\",\"turquoise\", \"pink\",\"maroon\",\"cyan\"]\n",
    "for i in range(len(label)):\n",
    "    color.append(random.choice(listaDecolores))\n",
    "\n",
    "\n",
    "for index, row in filtercampaign2.iterrows():\n",
    "    for columna in list(filtercampaign2):\n",
    "        if columna == \"campaign\":\n",
    "            guardarIndexCampaign =  label.index(row[columna])\n",
    "        elif (int(row[columna])) == 0 :\n",
    "            continue\n",
    "        else:\n",
    "            source = source + [guardarIndexCampaign]\n",
    "            target = target + [label.index(columna)]\n",
    "            value = value + [int(row[columna])]\n"
   ]
  },
  {
   "cell_type": "code",
   "execution_count": null,
   "metadata": {},
   "outputs": [],
   "source": [
    "import plotly.plotly as py\n",
    "import plotly\n",
    "\n",
    "data = dict(\n",
    "    type='sankey',\n",
    "    node = dict(\n",
    "      pad = 15,\n",
    "      thickness = 20,\n",
    "      line = dict(\n",
    "        color = \"black\",\n",
    "        width = 0.5\n",
    "      ),\n",
    "      label = label,\n",
    "      color = color\n",
    "    ),\n",
    "    link = dict(\n",
    "      source = source,\n",
    "      target = target,\n",
    "      value = value\n",
    "  ))\n",
    "\n",
    "layout =  dict(\n",
    "    title = \"Diagrama de flujo de campañas de publicidad\",\n",
    "    width=1000,\n",
    "    height=1000,\n",
    "    font = dict(\n",
    "      size = 10\n",
    "    )\n",
    "\n",
    ")\n",
    "plotly.offline.init_notebook_mode(connected=True)\n",
    "fig = dict(data=[data], layout=layout)\n",
    "plotly.offline.iplot(fig)\n"
   ]
  },
  {
   "cell_type": "markdown",
   "metadata": {},
   "source": [
    "# Conclusiones:\n",
    "Podemos observar que el mayor flujo de trafico por publicidad es por Google, y la mayoria termina en la pagina principal de la tienda.\n",
    "Ademas, rtbhouse no tiene conexiones a pagina principal.\n",
    "Y las campañas: zanox, afilio, bing, emblue, voxus, rakuten solo tienen conexiones a pagina principal.\n",
    "\n"
   ]
  },
  {
   "cell_type": "code",
   "execution_count": null,
   "metadata": {},
   "outputs": [],
   "source": [
    "datos.head(5)"
   ]
  },
  {
   "cell_type": "code",
   "execution_count": null,
   "metadata": {},
   "outputs": [],
   "source": [
    "dfURLConteo = datos[\"url\"].value_counts().to_frame()"
   ]
  },
  {
   "cell_type": "code",
   "execution_count": null,
   "metadata": {},
   "outputs": [],
   "source": [
    "dfURLConteo.reset_index(inplace=True)"
   ]
  },
  {
   "cell_type": "code",
   "execution_count": null,
   "metadata": {},
   "outputs": [],
   "source": [
    "dfURLConteo.columns = ['url', 'frecuencia']"
   ]
  },
  {
   "cell_type": "code",
   "execution_count": null,
   "metadata": {},
   "outputs": [],
   "source": [
    "dfURLConteo[\"url\"] = dfURLConteo['url'].apply(lambda x: \"Apple\" if \"iphone\" in x else x)\n",
    "dfURLConteo[\"url\"] = dfURLConteo['url'].apply(lambda x: \"Apple\" if \"ipad\" in x else x)\n",
    "dfURLConteo[\"url\"] = dfURLConteo['url'].apply(lambda x: \"Samsung\" if \"samsung\" in x else x)\n",
    "dfURLConteo[\"url\"] = dfURLConteo['url'].apply(lambda x: \"Samsung\" if \"galaxy\" in x else x)\n",
    "dfURLConteo[\"url\"] = dfURLConteo['url'].apply(lambda x: \"Motorola\" if \"motorola\" in x else x)\n",
    "dfURLConteo[\"url\"] = dfURLConteo['url'].apply(lambda x: \"ASUS\" if \"asus\" in x else x)\n",
    "dfURLConteo[\"url\"] = dfURLConteo['url'].apply(lambda x: \"Quatum\" if \"quantum\" in x else x)\n",
    "dfURLConteo[\"url\"] = dfURLConteo['url'].apply(lambda x: \"LG\" if \"lg\" in x else x)\n",
    "dfURLConteo[\"url\"] = dfURLConteo['url'].apply(lambda x: \"Sony\" if \"sony\" in x else x)\n",
    "dfURLConteo[\"url\"] = dfURLConteo['url'].apply(lambda x: \"Lenovo\" if \"lenovo\" in x else x)\n",
    "\n",
    "\n",
    "\n",
    "dfURLConteo2 = dfURLConteo.groupby(\"url\").sum()\n",
    "dfURLConteo2.sort_values(\"frecuencia\",ascending=False,inplace=True)\n",
    "dfURLConteo2.reset_index(inplace=True)\n",
    "dfURLConteo2 = dfURLConteo2[~dfURLConteo2[\"url\"].str.contains(\"/\")]"
   ]
  },
  {
   "cell_type": "code",
   "execution_count": null,
   "metadata": {},
   "outputs": [],
   "source": [
    "dfURLConteo2"
   ]
  },
  {
   "cell_type": "code",
   "execution_count": null,
   "metadata": {},
   "outputs": [],
   "source": [
    "plt.figure(figsize=[16,9])\n",
    "g = sns.barplot(x=dfURLConteo2[\"frecuencia\"], y=dfURLConteo2[\"url\"],orient='h')\n",
    "g.set_title(\"¿Que marca visita el usuario en los anuncios?\",fontsize=20)\n",
    "g.set_xlabel(\"Frecuencia\",fontsize=15)\n",
    "g.set_ylabel(\"Marca\",fontsize=15)"
   ]
  },
  {
   "cell_type": "code",
   "execution_count": null,
   "metadata": {},
   "outputs": [],
   "source": []
  },
  {
   "cell_type": "code",
   "execution_count": null,
   "metadata": {},
   "outputs": [],
   "source": []
  }
 ],
 "metadata": {
  "kernelspec": {
   "display_name": "Python 3",
   "language": "python",
   "name": "python3"
  },
  "language_info": {
   "codemirror_mode": {
    "name": "ipython",
    "version": 3
   },
   "file_extension": ".py",
   "mimetype": "text/x-python",
   "name": "python",
   "nbconvert_exporter": "python",
   "pygments_lexer": "ipython3",
   "version": "3.6.5"
  }
 },
 "nbformat": 4,
 "nbformat_minor": 2
}
