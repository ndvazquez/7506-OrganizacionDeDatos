{
 "cells": [
  {
   "cell_type": "code",
   "execution_count": null,
   "metadata": {},
   "outputs": [],
   "source": [
    "import pandas as pd\n",
    "import numpy as np\n",
    "import seaborn\n",
    "import matplotlib.pyplot as plt\n",
    "\n",
    "\n",
    "df_original = pd.read_csv('events.csv', low_memory=False)"
   ]
  },
  {
   "cell_type": "code",
   "execution_count": null,
   "metadata": {},
   "outputs": [],
   "source": [
    "df_visited = df_original.loc[df_original['event']=='visited site',:]\n",
    "df_visited['device_type'].value_counts().plot.bar()\n",
    "plt.xlabel('Tipo de dispositivo', fontsize=15)\n",
    "plt.ylabel('Entradas al sitio', fontsize=15)\n",
    "plt.title('Cantidad de entradas al sitio por tipo de dispositivo', fontsize=20)"
   ]
  },
  {
   "cell_type": "code",
   "execution_count": null,
   "metadata": {},
   "outputs": [],
   "source": [
    "entradas_por_chrome_mobile = df_visited.loc[(df_visited['browser_version'].str.contains('Chrome Mobile')) & (df_visited['device_type']=='Smartphone'),:]\n",
    "entradas_por_chrome_mobile.size"
   ]
  },
  {
   "cell_type": "code",
   "execution_count": null,
   "metadata": {},
   "outputs": [],
   "source": [
    "entradas_por_safari = df_visited.loc[(df_visited['browser_version'].str.contains('Mobile Safari')) & (df_visited['device_type']=='Smartphone'),:]\n",
    "entradas_por_safari.size"
   ]
  },
  {
   "cell_type": "code",
   "execution_count": null,
   "metadata": {},
   "outputs": [],
   "source": [
    "entradas_por_otro_navegador = df_visited.loc[df_visited['device_type']=='Smartphone',:].size\n",
    "entradas_por_otro_navegador -= (entradas_por_safari.size + entradas_por_chrome_mobile.size)"
   ]
  },
  {
   "cell_type": "code",
   "execution_count": null,
   "metadata": {},
   "outputs": [],
   "source": [
    "plt.bar(height=[entradas_por_chrome_mobile.size, entradas_por_safari.size, entradas_por_otro_navegador], x=['Chrome Mobile', 'Safari Mobile', 'Otro'])\n",
    "plt.xlabel('Navegadores', fontsize=15)\n",
    "plt.ylabel('Entradas al sitio', fontsize=15)\n",
    "plt.title('Entradas al sitio por dispositivos móviles separadas por navegador', fontsize=20)"
   ]
  },
  {
   "cell_type": "code",
   "execution_count": null,
   "metadata": {},
   "outputs": [],
   "source": [
    "mobile_entrys_df = df_visited.loc[df_visited['device_type']=='Smartphone',:]\n",
    "\n",
    "\n",
    "android_users = mobile_entrys_df.loc[mobile_entrys_df['operating_system_version'].str.contains('Android'),:]\n",
    "ios_users = mobile_entrys_df.loc[mobile_entrys_df['operating_system_version'].str.contains('iOS'),:]\n",
    "display(android_users.size)\n",
    "display(ios_users.size)"
   ]
  },
  {
   "cell_type": "code",
   "execution_count": null,
   "metadata": {},
   "outputs": [],
   "source": [
    "other_so = df_visited.loc[df_visited['device_type']=='Smartphone',:].size\n",
    "display(other_so)\n",
    "other_so -= (android_users.size + ios_users.size)\n",
    "display(other_so)"
   ]
  },
  {
   "cell_type": "code",
   "execution_count": null,
   "metadata": {},
   "outputs": [],
   "source": [
    "plt.bar(height=[android_users.size, ios_users.size, other_so], x=['Android', 'iOS', 'Otro'])\n",
    "plt.xlabel('Sistemas Operativos', fontsize=15)\n",
    "plt.ylabel('Entradas al sitio', fontsize=15)\n",
    "plt.title('Entradas al sitio por dispositivos móviles separadas por sistema operativos', fontsize=20)"
   ]
  },
  {
   "cell_type": "code",
   "execution_count": null,
   "metadata": {},
   "outputs": [],
   "source": [
    "grouped = df_visited.groupby(['new_vs_returning', 'device_type']).agg({'person':'count'})\n",
    "grouped"
   ]
  },
  {
   "cell_type": "code",
   "execution_count": null,
   "metadata": {},
   "outputs": [],
   "source": [
    "df_visited = df_visited.dropna(how='all', axis=1)\n",
    "df_visited"
   ]
  },
  {
   "cell_type": "code",
   "execution_count": null,
   "metadata": {},
   "outputs": [],
   "source": [
    "grouped = df_visited.groupby(['channel', 'device_type']).agg({'person':'count'})\n",
    "grouped.columns = ['amount']\n",
    "grouped"
   ]
  }
 ],
 "metadata": {
  "kernelspec": {
   "display_name": "Python 3",
   "language": "python",
   "name": "python3"
  },
  "language_info": {
   "codemirror_mode": {
    "name": "ipython",
    "version": 3
   },
   "file_extension": ".py",
   "mimetype": "text/x-python",
   "name": "python",
   "nbconvert_exporter": "python",
   "pygments_lexer": "ipython3",
   "version": "3.6.5"
  }
 },
 "nbformat": 4,
 "nbformat_minor": 2
}
