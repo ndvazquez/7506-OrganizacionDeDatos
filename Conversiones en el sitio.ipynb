{
 "cells": [
  {
   "cell_type": "code",
   "execution_count": null,
   "metadata": {},
   "outputs": [],
   "source": [
    "import pandas as pd\n",
    "import numpy as np\n",
    "import matplotlib.pyplot as plt\n",
    "import seaborn as sns\n",
    "import plotly.plotly as py\n",
    "from plotly import graph_objs as go\n",
    "from __future__ import division\n",
    "\n",
    "%matplotlib inline\n",
    "\n",
    "plt.style.use('default')\n",
    "\n",
    "sns.set(style='whitegrid')"
   ]
  },
  {
   "cell_type": "markdown",
   "metadata": {},
   "source": [
    "# Análisis de Eventos basado en usuarios que visitan el sitio y realizan una conversion en el mismo.\n",
    "\n",
    "La idea de este notebook es investigar un poco sobre el rendimiento de la página de la empresa.\n",
    "\n",
    "Lo que nos interesa ver es:\n",
    "\n",
    "1. De los usuarios que llegan a la instancia de check-out, ¿Cuántos realizan una conversion?\n",
    "\n",
    "2. ¿Cómo evolucionan en el tiempo las compras, checkouts y vistas de producto?\n",
    "\n",
    "3. Considerando los usuarios que llegan al sitio a través de una publicidad, ¿Cuántos realizan conversiones?"
   ]
  },
  {
   "cell_type": "code",
   "execution_count": null,
   "metadata": {},
   "outputs": [],
   "source": [
    "df = pd.read_csv('events.csv', low_memory=False)"
   ]
  },
  {
   "cell_type": "code",
   "execution_count": null,
   "metadata": {},
   "outputs": [],
   "source": [
    "# TODO: Cargar usuarios con conversion y checkout, mostrar que el top tiene conversions sin checkouts\n",
    "# y plantear la razón posible para esto (compras fuera del sitio),\n",
    "# a modo de introducción al análisis y filtro que haremos para el mismo."
   ]
  },
  {
   "cell_type": "markdown",
   "metadata": {},
   "source": [
    "## De los usuarios que llegan a la instancia de check-out, ¿Cuántos realizan una conversion?"
   ]
  },
  {
   "cell_type": "markdown",
   "metadata": {},
   "source": [
    "Vamos a obtener a todos los usuarios que tienen conversiones, para luego obtener a aquellos que también\n",
    "tienen check-outs."
   ]
  },
  {
   "cell_type": "code",
   "execution_count": null,
   "metadata": {},
   "outputs": [],
   "source": [
    "conversiones = df.loc[df['event'] == 'conversion', ['event', 'person', 'sku', 'model']].copy()\n",
    "conversiones_sin_us_dup = conversiones.drop_duplicates(subset='person')\n",
    "usuarios_con_conversiones = set(conversiones_sin_us_dup['person'])\n",
    "len(usuarios_con_conversiones)"
   ]
  },
  {
   "cell_type": "markdown",
   "metadata": {},
   "source": [
    "Ahora obtenemos los que también tienen check-outs."
   ]
  },
  {
   "cell_type": "code",
   "execution_count": null,
   "metadata": {},
   "outputs": [],
   "source": [
    "usuarios_con_checkout_conversion = df.loc[(df['event'] == 'checkout') &\n",
    "                                          df['person'].isin(usuarios_con_conversiones), ['person']]\n",
    "usuarios_con_checkout_conversion.drop_duplicates(subset='person', inplace=True)\n",
    "usuarios_con_checkout_conversion = set(usuarios_con_checkout_conversion['person'])"
   ]
  },
  {
   "cell_type": "markdown",
   "metadata": {},
   "source": [
    "Procedemos a quedarnos con aquellos que compraron en el sitio de la empresa, nos basamos en que\n",
    "exista un check-out previo a una conversion, sobre el mismo SKU."
   ]
  },
  {
   "cell_type": "code",
   "execution_count": null,
   "metadata": {},
   "outputs": [],
   "source": [
    "usuarios_filtrados = df.loc[(df['person'].isin(usuarios_con_checkout_conversion)) &\n",
    "            (df['event'].isin(['checkout', 'conversion'])), ['timestamp', 'event', 'person', 'sku', 'model']]\n",
    "usuarios_filtrados.drop_duplicates(subset=['event','person'], inplace=True)\n",
    "usuarios_filtrados = usuarios_filtrados[usuarios_filtrados.duplicated(subset=['person', 'sku'], keep=False)]\n",
    "usuarios_filtrados.describe().T"
   ]
  },
  {
   "cell_type": "markdown",
   "metadata": {},
   "source": [
    "Notemos que algunos usuarios tienen invertido el orden check-out/conversion. Por lo que no sabemos si\n",
    "la conversion fue realizada en el sitio o fuera del mismo (y presentan una diferencia de tiempo importante\n",
    "entre ambos eventos)"
   ]
  },
  {
   "cell_type": "code",
   "execution_count": null,
   "metadata": {},
   "outputs": [],
   "source": [
    "usuarios_filtrados.head()"
   ]
  },
  {
   "cell_type": "markdown",
   "metadata": {},
   "source": [
    "Obtenemos una lista de usuarios sin duplicados."
   ]
  },
  {
   "cell_type": "code",
   "execution_count": null,
   "metadata": {},
   "outputs": [],
   "source": [
    "usuarios = set(usuarios_filtrados.drop_duplicates(subset='person')['person'])\n",
    "len(usuarios)"
   ]
  },
  {
   "cell_type": "markdown",
   "metadata": {},
   "source": [
    "Ahora nos quedamos con aquellos que tienen conversions pero no tienen check-outs relacionados a estas."
   ]
  },
  {
   "cell_type": "code",
   "execution_count": null,
   "metadata": {},
   "outputs": [],
   "source": [
    "us_conversion_sin_checkout = set([x for x in usuarios_con_conversiones if x not in usuarios])\n",
    "len(us_conversion_sin_checkout)"
   ]
  },
  {
   "cell_type": "markdown",
   "metadata": {},
   "source": [
    "Nos quedaría quitar a aquellos usuarios que tienen invertido el orden en el que se realiza una conversion\n",
    "desde el sitio de la empresa. Es decir, aquellos que primero presenten una conversion y luego un check-out."
   ]
  },
  {
   "cell_type": "code",
   "execution_count": null,
   "metadata": {},
   "outputs": [],
   "source": [
    "usuarios_conflictivos = set()\n",
    "row_iterator = usuarios_filtrados.iterrows()\n",
    "for i, row in row_iterator:\n",
    "    next_row = next(row_iterator)[1]\n",
    "    if (row['event'] + next_row['event']) == \"conversioncheckout\":\n",
    "        usuarios_conflictivos.add(row['person'])\n",
    "        continue\n",
    "    if ((pd.to_datetime(next_row['timestamp']) - pd.to_datetime(row['timestamp'])).seconds / 3600.0 > 1):\n",
    "        usuarios_conflictivos.add(row['person'])\n",
    "us_conversion_sin_checkout = us_conversion_sin_checkout.union(usuarios_conflictivos)"
   ]
  },
  {
   "cell_type": "code",
   "execution_count": null,
   "metadata": {},
   "outputs": [],
   "source": [
    "df_filtrado = df.loc[(~df['person'].isin(us_conversion_sin_checkout))].copy()"
   ]
  },
  {
   "cell_type": "code",
   "execution_count": null,
   "metadata": {},
   "outputs": [],
   "source": [
    "funnel = df_filtrado.loc[df['event'].isin(['visited site', 'checkout', 'conversion']), ['person','event']]"
   ]
  },
  {
   "cell_type": "code",
   "execution_count": null,
   "metadata": {},
   "outputs": [],
   "source": [
    "funnel_vc = funnel['event'].value_counts()\n",
    "funnel_vc"
   ]
  },
  {
   "cell_type": "markdown",
   "metadata": {},
   "source": [
    "Finalmente tenemos los datos filtrados para realizar un diagrama de Sankey, mostrando el flujo de conversiones del sitio."
   ]
  },
  {
   "cell_type": "code",
   "execution_count": null,
   "metadata": {},
   "outputs": [],
   "source": [
    "import plotly.plotly as py\n",
    "import plotly\n",
    "\n",
    "data = dict(\n",
    "    type='sankey',\n",
    "    arrangement=\"freeform\",\n",
    "    node = dict(\n",
    "      pad = 15,\n",
    "      thickness = 20,\n",
    "      line = dict(\n",
    "        color = \"black\",\n",
    "        width = 0.5\n",
    "      ),\n",
    "      label = [\"visited site\", \"checkout\", \"conversion\",\"no hacen checkout\",\"no hacen conversion\"],\n",
    "      color = [\"blue\", \"blue\", \"blue\",\"red\",\"red\"]\n",
    "    ),\n",
    "    link = dict(\n",
    "      source = [0,0,1,1],\n",
    "      target = [3,1,2,4],\n",
    "      value = [(79239-31621),31621,393,(31621-393)] #alterar aca los valores\n",
    "  ))\n",
    "\n",
    "layout =  dict(\n",
    "    title = \"Diagrama sankey del funnel\",\n",
    "    font = dict(\n",
    "      size = 10\n",
    "    )\n",
    ")\n",
    "\n",
    "plotly.offline.init_notebook_mode(connected=True)\n",
    "fig = dict(data=[data], layout=layout)\n",
    "plotly.offline.iplot(fig)"
   ]
  },
  {
   "cell_type": "markdown",
   "metadata": {},
   "source": [
    "## Observaciones\n",
    "\n",
    "Finalmente podemos ver que un ~1,38% de los usuarios que llegan a la etapa de checkout, confirman un pago realizando una conversion (el goal de la empresa)"
   ]
  },
  {
   "cell_type": "markdown",
   "metadata": {},
   "source": [
    "# Evolución en el tiempo de checkouts, compras y vistas de productos, en el sitio.\n",
    "\n",
    "Aprovechando que filtramos a los usuarios que no realizan sus compras en el sitio de Trocafone, vamos a revisar cómo fue la evolución en el tiempo de compras, checkouts y vistas de productos en el sitio.\n",
    "\n",
    "En particular nos interesaría encontrar picos importantes de tráfico, o bien ver si se mantuvieron estables estas tres categorías."
   ]
  },
  {
   "cell_type": "code",
   "execution_count": null,
   "metadata": {},
   "outputs": [],
   "source": [
    "def graficar_lineplot(titulo, data):\n",
    "    g = sns.lineplot(x=data.index, y=data.values)\n",
    "    g.set(xticklabels=['Enero', 'Febrero', 'Marzo', 'Abril', 'Mayo', 'Junio'])\n",
    "    g.set_title(titulo, fontsize=18)\n",
    "    g.set_xlabel('Mes', fontsize=16)\n",
    "    g.set_ylabel('Frecuencia', fontsize=16)\n",
    "    return g"
   ]
  },
  {
   "cell_type": "code",
   "execution_count": null,
   "metadata": {},
   "outputs": [],
   "source": [
    "df_filtrado['timestamp'] = pd.to_datetime(df_filtrado['timestamp']).dt.date"
   ]
  },
  {
   "cell_type": "code",
   "execution_count": null,
   "metadata": {},
   "outputs": [],
   "source": [
    "ts_conversion = df_filtrado.loc[df_filtrado['event'] == 'conversion'].sort_values(by='timestamp')\n",
    "ts_vc = ts_conversion['timestamp'].value_counts()\n",
    "plt.figure(figsize=(12,6))\n",
    "g = graficar_lineplot('Conversiones por día, en el periodo Enero-Junio', ts_vc)\n",
    "plt.show()"
   ]
  },
  {
   "cell_type": "code",
   "execution_count": null,
   "metadata": {},
   "outputs": [],
   "source": [
    "ts_checkout = df_filtrado.loc[df_filtrado['event'] == 'checkout'].sort_values(by='timestamp')\n",
    "ts_vc = ts_checkout['timestamp'].value_counts()\n",
    "plt.figure(figsize=(12,6))\n",
    "g = graficar_lineplot('Check-outs por día, en el periodo Enero-Junio', ts_vc)\n",
    "plt.show()"
   ]
  },
  {
   "cell_type": "code",
   "execution_count": null,
   "metadata": {},
   "outputs": [],
   "source": [
    "ts_viewed_product = df_filtrado.loc[df_filtrado['event'] == 'viewed product'].sort_values(by='timestamp')\n",
    "ts_vc = ts_viewed_product['timestamp'].value_counts()\n",
    "plt.figure(figsize=(12,6))\n",
    "g = graficar_lineplot('Productos vistos por día, en el periodo Enero-Junio', ts_vc)\n",
    "plt.show()"
   ]
  },
  {
   "cell_type": "code",
   "execution_count": null,
   "metadata": {},
   "outputs": [],
   "source": [
    "ts_viewed_product = df_filtrado.loc[df_filtrado['event'] == 'search engine hit'].sort_values(by='timestamp')\n",
    "ts_vc = ts_viewed_product['timestamp'].value_counts()\n",
    "plt.figure(figsize=(12,6))\n",
    "g = graficar_lineplot('Entradas al sitio  por día, en el periodo Enero-Junio', ts_vc)\n",
    "plt.show()"
   ]
  },
  {
   "cell_type": "markdown",
   "metadata": {},
   "source": [
    "# Observaciones\n",
    "\n",
    "Podemos notar un fuerte incremento en la actividad del sitio a partir de la mitad de Mayo hasta el final de los datos que poseemos (Junio). Curiosamente, el movimiento de checkouts y productos vistos es similar, aunque en distinta escala.\n",
    "Esto podría deberse a algún tipo de _sale event_ o campaña de ads. Analizareoms esta posibilidad a continuación.\n",
    "\n",
    "En cuanto a las conversiones, también notamos mayor actividad durante el mes de Mayo, en particular tenemos tres picos importantes a comparación del resto de los meses."
   ]
  },
  {
   "cell_type": "code",
   "execution_count": null,
   "metadata": {},
   "outputs": [],
   "source": []
  }
 ],
 "metadata": {
  "kernelspec": {
   "display_name": "Python 3",
   "language": "python",
   "name": "python3"
  },
  "language_info": {
   "codemirror_mode": {
    "name": "ipython",
    "version": 3
   },
   "file_extension": ".py",
   "mimetype": "text/x-python",
   "name": "python",
   "nbconvert_exporter": "python",
   "pygments_lexer": "ipython3",
   "version": "3.6.5"
  }
 },
 "nbformat": 4,
 "nbformat_minor": 2
}
