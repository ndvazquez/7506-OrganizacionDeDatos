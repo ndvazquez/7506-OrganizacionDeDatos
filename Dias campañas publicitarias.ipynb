{
 "cells": [
  {
   "cell_type": "code",
   "execution_count": null,
   "metadata": {},
   "outputs": [],
   "source": [
    "import pandas as pd\n",
    "import numpy as np\n",
    "import seaborn\n",
    "import matplotlib.pyplot as plt\n",
    "\n",
    "\n",
    "df_original = pd.read_csv('events.csv', low_memory=False, date_parser=pd.datetools.to_datetime)"
   ]
  },
  {
   "cell_type": "code",
   "execution_count": null,
   "metadata": {},
   "outputs": [],
   "source": [
    "ad_campaign_df_2 = df_original.loc[df_original['event']=='ad campaign hit', :].dropna(axis=1, how='all')\n",
    "# display(ad_campaign_df_2.head())\n",
    "# display(ad_campaign_df_2['campaign_source'].value_counts())\n",
    "ad_campaign_df_2 = pd.DataFrame(ad_campaign_df_2['campaign_source'].value_counts())\n",
    "ad_campaign_df_2.reset_index(inplace=True)\n",
    "ad_campaign_df_2.columns = ['campaign_source', 'hits']\n",
    "ad_campaign_df_2.set_index('campaign_source', inplace=True)"
   ]
  },
  {
   "cell_type": "code",
   "execution_count": null,
   "metadata": {},
   "outputs": [],
   "source": [
    "ad_campaign_df = df_original.loc[df_original['event']=='ad campaign hit', :].dropna(axis=1, how='all')\n",
    "\n",
    "def datetime_to_month(str_date):\n",
    "    return int(str(str_date).split('-')[1])\n",
    "\n",
    "def datetime_to_day(str_date):\n",
    "    return int(str(str_date).split('-')[2])\n",
    "\n",
    "ad_campaign_df['month_hit'] = ad_campaign_df['timestamp'].agg(datetime_to_month)\n",
    "grouped = ad_campaign_df.groupby('campaign_source').agg({'month_hit':['min', 'mean', 'std', 'max', 'median']})\n",
    "grouped.columns = ['min_month_hit', 'mean_month_hit','std_month_hit', 'max_month_hit', 'median_hit']\n",
    "grouped.reset_index(inplace=True)\n",
    "grouped.set_index('campaign_source', inplace=True)"
   ]
  },
  {
   "cell_type": "code",
   "execution_count": null,
   "metadata": {},
   "outputs": [],
   "source": [
    "campaigns_and_hits = grouped.join(ad_campaign_df_2)\n",
    "campaigns_and_hits.sort_values(by=['median_hit', 'hits'], inplace=True)\n",
    "campaigns_and_hits"
   ]
  },
  {
   "cell_type": "markdown",
   "metadata": {},
   "source": [
    "Vemos que la mediana de las campañas mas importantes (que mas gente llevaron al citio) ocurre en el mes 5. Lo que nos dice que entre los meses 1,2,3,4 y una parte del 5 tenemos la misma cantidad de hits (por campaña) que en los meses 6 y una parte del 5.\n",
    "\n",
    "Esto coincide con lo observado en los gráficos anteriores, que el citio tuvo una suba de tráfico durante el mes de junio."
   ]
  },
  {
   "cell_type": "code",
   "execution_count": null,
   "metadata": {},
   "outputs": [],
   "source": [
    "ad_campaign_df['month_hit'] = ad_campaign_df['timestamp'].agg(datetime_to_month)\n",
    "grouped_2 = ad_campaign_df.groupby(['campaign_source', 'month_hit']).agg({'person':'count'})\n",
    "grouped_2\n",
    "grouped_2_reshaped = pd.pivot_table(grouped_2, values='person', columns='month_hit', index='campaign_source').replace(np.nan, 0)"
   ]
  },
  {
   "cell_type": "code",
   "execution_count": null,
   "metadata": {},
   "outputs": [],
   "source": [
    "grouped_2_reshaped"
   ]
  },
  {
   "cell_type": "markdown",
   "metadata": {},
   "source": [
    "Viendo esta tabla, podemos corroborar que la mayoría de las campañas claramente tuvieron una alza en el trafico hacia el citio en el mes 5. Que coincide con lo analizado previamente."
   ]
  },
  {
   "cell_type": "code",
   "execution_count": null,
   "metadata": {},
   "outputs": [],
   "source": [
    "ad_campaign_df = ad_campaign_df[['timestamp', 'campaign_source']]"
   ]
  },
  {
   "cell_type": "code",
   "execution_count": null,
   "metadata": {},
   "outputs": [],
   "source": [
    "ad_campaign_df['day_of_year'] = pd.to_datetime(ad_campaign_df['timestamp']).dt.dayofyear"
   ]
  },
  {
   "cell_type": "code",
   "execution_count": null,
   "metadata": {},
   "outputs": [],
   "source": [
    "ad_campaign_df.head()"
   ]
  },
  {
   "cell_type": "code",
   "execution_count": null,
   "metadata": {},
   "outputs": [],
   "source": [
    "ad_campaign_df.head()"
   ]
  },
  {
   "cell_type": "code",
   "execution_count": null,
   "metadata": {},
   "outputs": [],
   "source": [
    "google_hits = ad_campaign_df.loc[ad_campaign_df['campaign_source']=='google', :]['day_of_year']\n",
    "criteo_hits = ad_campaign_df.loc[ad_campaign_df['campaign_source']=='criteo', :]['day_of_year']\n",
    "rtbhouse_hits = ad_campaign_df.loc[ad_campaign_df['campaign_source']=='rtbhouse', :]['day_of_year']\n",
    "zanox_hits = ad_campaign_df.loc[ad_campaign_df['campaign_source']=='zanox', :]['day_of_year']"
   ]
  },
  {
   "cell_type": "code",
   "execution_count": null,
   "metadata": {},
   "outputs": [],
   "source": [
    "plt.subplots(figsize=(10, 10))\n",
    "google_hits.plot.hist(bins=50, alpha=0.3)\n",
    "criteo_hits.plot.hist(bins=50, alpha=0.3)\n",
    "rtbhouse_hits.plot.hist(bins=50, alpha=0.3)\n",
    "zanox_hits.plot.hist(bins=50, alpha=0.3)\n",
    "plt.xlabel('Días del año', fontsize=15)\n",
    "plt.ylabel('Hits a la página', fontsize=15) \n",
    "plt.title('Distribución de hits a la página desde campañas publicitarias (Período de enero-junio)', fontsize=20)\n",
    "plt.legend(['Google', 'Criteo', 'RTBHouse', 'Zanox'])\n",
    "plt.grid()"
   ]
  }
 ],
 "metadata": {
  "kernelspec": {
   "display_name": "Python 3",
   "language": "python",
   "name": "python3"
  },
  "language_info": {
   "codemirror_mode": {
    "name": "ipython",
    "version": 3
   },
   "file_extension": ".py",
   "mimetype": "text/x-python",
   "name": "python",
   "nbconvert_exporter": "python",
   "pygments_lexer": "ipython3",
   "version": "3.6.5"
  }
 },
 "nbformat": 4,
 "nbformat_minor": 2
}
