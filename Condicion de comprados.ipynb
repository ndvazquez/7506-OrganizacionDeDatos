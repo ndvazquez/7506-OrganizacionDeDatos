{
 "cells": [
  {
   "cell_type": "code",
   "execution_count": null,
   "metadata": {},
   "outputs": [],
   "source": [
    "import pandas as pd\n",
    "import numpy as np\n",
    "import seaborn\n",
    "import matplotlib.pyplot as plt\n",
    "\n",
    "\n",
    "df_original = pd.read_csv('events.csv', low_memory=False)"
   ]
  },
  {
   "cell_type": "code",
   "execution_count": null,
   "metadata": {},
   "outputs": [],
   "source": [
    "df_comprados = df_original.loc[df_original['event']=='conversion', ['model', 'condition']]\n",
    "df_comprados.head()"
   ]
  },
  {
   "cell_type": "markdown",
   "metadata": {},
   "source": [
    "Agrupando por modelo de telefono contamos cuantos equipos se vendieron para cada tipo de condicion"
   ]
  },
  {
   "cell_type": "code",
   "execution_count": null,
   "metadata": {
    "scrolled": false
   },
   "outputs": [],
   "source": [
    "def count_values(df):\n",
    "    return df['condition'].value_counts()\n",
    "\n",
    "grouped = df_comprados.groupby('model').apply(count_values)\n",
    "condition_df = pd.DataFrame(grouped)\n",
    "condition_df = condition_df.unstack()\n",
    "condition_df.columns = ['Bom', 'Bom-STI', 'Excelente', 'Muito Bom', 'Novo']"
   ]
  },
  {
   "cell_type": "markdown",
   "metadata": {},
   "source": [
    "Reemplazamos los NaN por 0"
   ]
  },
  {
   "cell_type": "code",
   "execution_count": null,
   "metadata": {
    "scrolled": true
   },
   "outputs": [],
   "source": [
    "condition_df.replace(to_replace=np.nan, value=0, inplace=True)"
   ]
  },
  {
   "cell_type": "markdown",
   "metadata": {},
   "source": [
    "Contamos la cantidad de equipos vendida por modelo. Para luego poder quitar de la lista aquellos modelos que vendieron menos de 20 equipos"
   ]
  },
  {
   "cell_type": "code",
   "execution_count": null,
   "metadata": {},
   "outputs": [],
   "source": [
    "MIN_SOLD = 20\n",
    "condition_df['sold'] = condition_df.sum(axis=1)\n",
    "condition_df = condition_df.loc[condition_df['sold'] > MIN_SOLD, :]\n",
    "condition_df.drop(['sold'], inplace=True, axis=1)"
   ]
  },
  {
   "cell_type": "markdown",
   "metadata": {},
   "source": [
    "Armamos un nuevo DF con las columnas ordenadas para hacer el plot"
   ]
  },
  {
   "cell_type": "code",
   "execution_count": null,
   "metadata": {},
   "outputs": [],
   "source": [
    "plot_df = pd.DataFrame()\n",
    "plot_df['Bueno sin touch id'] = condition_df['Bom-STI']\n",
    "plot_df['Bueno'] = condition_df['Bom']\n",
    "plot_df['Muy Bueno'] = condition_df['Muito Bom']\n",
    "plot_df['Excelente'] = condition_df['Excelente']\n",
    "plot_df['Nuevo'] = condition_df['Novo']"
   ]
  },
  {
   "cell_type": "code",
   "execution_count": null,
   "metadata": {},
   "outputs": [],
   "source": [
    "plt.figure(figsize=(10,10))\n",
    "g = seaborn.heatmap(plot_df, cmap='YlGnBu', linewidths=0.5, annot=True)\n",
    "g.set_title('Cantidad de Telefonos Vendidos de Acuerdo a su Estado', fontsize=20)\n",
    "g.set_xlabel('Estado del Telefono', fontsize=15)\n",
    "g.set_ylabel('Modelo Comprado', fontsize=15)"
   ]
  }
 ],
 "metadata": {
  "kernelspec": {
   "display_name": "Python 3",
   "language": "python",
   "name": "python3"
  },
  "language_info": {
   "codemirror_mode": {
    "name": "ipython",
    "version": 3
   },
   "file_extension": ".py",
   "mimetype": "text/x-python",
   "name": "python",
   "nbconvert_exporter": "python",
   "pygments_lexer": "ipython3",
   "version": "3.6.5"
  }
 },
 "nbformat": 4,
 "nbformat_minor": 2
}
