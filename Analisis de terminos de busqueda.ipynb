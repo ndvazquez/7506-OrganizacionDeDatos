{
 "cells": [
  {
   "cell_type": "code",
   "execution_count": null,
   "metadata": {},
   "outputs": [],
   "source": [
    "import pandas as pd\n",
    "import matplotlib.pyplot as plt\n",
    "import seaborn as sns\n",
    "from nltk.util import ngrams\n",
    "from nltk.corpus import stopwords\n",
    "from wordcloud import WordCloud\n",
    "\n",
    "\n",
    "%matplotlib inline\n",
    "\n",
    "plt.style.use('default')\n",
    "\n",
    "sns.set(style='whitegrid')"
   ]
  },
  {
   "cell_type": "code",
   "execution_count": null,
   "metadata": {},
   "outputs": [],
   "source": [
    "df = pd.read_csv('data/events.csv', low_memory=False)"
   ]
  },
  {
   "cell_type": "markdown",
   "metadata": {},
   "source": [
    "# Análisis de términos de búsqueda\n",
    "\n",
    "Primero vamos a revisar los términos de búsqueda más usados, y ver cuál es el panorama."
   ]
  },
  {
   "cell_type": "code",
   "execution_count": null,
   "metadata": {},
   "outputs": [],
   "source": [
    "terminos_busqueda = df.loc[df['search_term'].notnull(), ['timestamp', 'person', 'event', 'model', 'search_term', 'skus']]\n",
    "terminos_busqueda['timestamp'] = pd.to_datetime(terminos_busqueda['timestamp']).dt.date\n",
    "terminos_busqueda['month'] = pd.to_datetime(terminos_busqueda['timestamp']).dt.month\n",
    "terminos_busqueda['search_term'] = terminos_busqueda['search_term'].apply(lambda x: x.lower())\n",
    "terminos_busqueda['search_term'] = terminos_busqueda['search_term'].str.replace('sansung', 'samsung')"
   ]
  },
  {
   "cell_type": "markdown",
   "metadata": {},
   "source": [
    "## Word Cloud de los términos de búsqueda presentes en el dataset"
   ]
  },
  {
   "cell_type": "code",
   "execution_count": null,
   "metadata": {},
   "outputs": [],
   "source": [
    "wordcloud = WordCloud(background_color='black',\n",
    "                      max_words=200\n",
    "                     ).generate(str(terminos_busqueda['search_term']))\n",
    "plt.figure(figsize=[20,4])\n",
    "plt.imshow(wordcloud)\n",
    "plt.axis('off')\n",
    "plt.show()"
   ]
  },
  {
   "cell_type": "markdown",
   "metadata": {},
   "source": [
    "## Top 10 búsquedas de usuarios"
   ]
  },
  {
   "cell_type": "code",
   "execution_count": null,
   "metadata": {},
   "outputs": [],
   "source": [
    "barplot_st = terminos_busqueda['search_term'].value_counts().head(10)\n",
    "plt.figure(figsize=[12,6])\n",
    "g = sns.barplot(x=barplot_st.index, y=barplot_st.values, palette='hls')\n",
    "g.set_title('Top 10 búsquedas de usuarios', fontsize=20)\n",
    "g.set_xlabel('Búsqueda', fontsize=18)\n",
    "g.set_ylabel('Frecuencia', fontsize=18)\n",
    "plt.xticks(rotation=45)\n",
    "plt.show()"
   ]
  },
  {
   "cell_type": "markdown",
   "metadata": {},
   "source": [
    "# Otro enfoque para analizar los términos de búsqueda"
   ]
  },
  {
   "cell_type": "markdown",
   "metadata": {},
   "source": [
    "Si bien los términos de búsqueda son un punto de interés para nuestro análisis, creemos que se puede profundizar más sobre el mismo. En particular, podríamos analizar la frecuencia de n-gramas en estas búsquedas, para agrupar mejor las mismas.\n",
    "\n",
    "### ¿Cuál es la motivación de este enfoque? \n",
    "\n",
    "Puesto que estamos analizando el input consumido por el search engine del sitio de Trocafone, tal vez podamos encontrar algo interesante, como nuevas keywords para los productos ofrecidos en el sitio.\n",
    "\n",
    "### ¿Cómo vamos a realizar este análisis?\n",
    "\n",
    "En primer lugar, debemos filtrar las _stopwords_ del lenguaje que presenta mayoría (en este caso, portugués). El fin de esto es prevenir que aparezcan en nuestros reportes palabras de uso común pero que carecen de contenido, como por ejemplo `por, de, mais`.\n",
    "\n",
    "Luego utilizaremos la biblioteca `nltk` para poder procesar cada término de búsqueda y extraer los n-gramas que nos interesen.\n",
    "\n",
    "Finalmente presentaremos la información por medio de gráficos de barra, ya que nos interesa ver los n-gramas que presenten mayor frecuencia."
   ]
  },
  {
   "cell_type": "code",
   "execution_count": null,
   "metadata": {},
   "outputs": [],
   "source": [
    "terminos_sin_filtrar = terminos_busqueda['search_term'].tolist()\n",
    "\n",
    "## Vamos a cachear las stopwords ya que queremos evitar un cuello de botella al cargarlo constantemente.\n",
    "cached_stopwords = stopwords.words('portuguese')\n",
    "\n",
    "terminos_filtrados = []\n",
    "\n",
    "for frase in terminos_sin_filtrar:\n",
    "    terminos_filtrados.append(' '.join([palabra for palabra in frase.split(' ') if palabra not in cached_stopwords]))"
   ]
  },
  {
   "cell_type": "code",
   "execution_count": null,
   "metadata": {},
   "outputs": [],
   "source": [
    "def obtener_ngramas(frases, n):\n",
    "    data = []\n",
    "    for frase in frases:\n",
    "        tokens = [token for token in frase.split(\" \") if token != \"\"]\n",
    "        ngramas = list(ngrams(tokens, n))\n",
    "        for _ in ngramas:\n",
    "            data.append(_)\n",
    "    res = [(lambda x: ' '.join(x))(x) for x in data]\n",
    "    return res"
   ]
  },
  {
   "cell_type": "markdown",
   "metadata": {},
   "source": [
    "## Unigramas"
   ]
  },
  {
   "cell_type": "code",
   "execution_count": null,
   "metadata": {},
   "outputs": [],
   "source": [
    "unigrams = obtener_ngramas(terminos_filtrados, 1)\n",
    "serie = pd.Series(x for x in unigrams).value_counts().head(10)\n",
    "plt.figure(figsize=[12,8])\n",
    "g = sns.barplot(x=serie.index, y=serie.values, palette='hls')\n",
    "g.set_title('Frecuencia de unigramas en términos de búsqueda', fontsize=18)\n",
    "g.set_xlabel('Unigramas', fontsize=16)\n",
    "g.set_ylabel('Frecuencia', fontsize=16)\n",
    "plt.xticks(rotation=45)\n",
    "plt.show()"
   ]
  },
  {
   "cell_type": "markdown",
   "metadata": {},
   "source": [
    "## 2-gramas"
   ]
  },
  {
   "cell_type": "code",
   "execution_count": null,
   "metadata": {},
   "outputs": [],
   "source": [
    "bigrams = obtener_ngramas(terminos_filtrados, 2)\n",
    "serie = pd.Series(x for x in bigrams).value_counts().head(10)\n",
    "plt.figure(figsize=[12,8])\n",
    "g = sns.barplot(x=serie.index, y=serie.values, palette='hls')\n",
    "g.set_title('Frecuencia de 2-gramas en términos de búsqueda', fontsize=18)\n",
    "g.set_xlabel('2-gramas', fontsize=16)\n",
    "g.set_ylabel('Frecuencia', fontsize=16)\n",
    "plt.xticks(rotation=45)\n",
    "plt.show()"
   ]
  },
  {
   "cell_type": "markdown",
   "metadata": {},
   "source": [
    "## 3-gramas"
   ]
  },
  {
   "cell_type": "code",
   "execution_count": null,
   "metadata": {},
   "outputs": [],
   "source": [
    "trigrams = obtener_ngramas(terminos_filtrados, 3)\n",
    "serie = pd.Series(x for x in trigrams).value_counts().head(10)\n",
    "plt.figure(figsize=[12,8])\n",
    "g = sns.barplot(x=serie.index, y=serie.values, palette='hls')\n",
    "g.set_title('Frecuencia de 3-gramas en términos de búsqueda', fontsize=18)\n",
    "g.set_xlabel('3-gramas', fontsize=16)\n",
    "g.set_ylabel('Frecuencia', fontsize=16)\n",
    "plt.xticks(rotation=45)\n",
    "plt.show()"
   ]
  },
  {
   "cell_type": "markdown",
   "metadata": {},
   "source": [
    "## 4-gramas"
   ]
  },
  {
   "cell_type": "code",
   "execution_count": null,
   "metadata": {},
   "outputs": [],
   "source": [
    "fourgrams = obtener_ngramas(terminos_filtrados, 4)\n",
    "serie = pd.Series(x for x in fourgrams).value_counts().head(10)\n",
    "plt.figure(figsize=[12,6])\n",
    "g = sns.barplot(x=serie.index, y=serie.values, palette='hls')\n",
    "g.set_title('Frecuencia de 4-gramas en términos de búsqueda', fontsize=18)\n",
    "g.set_xlabel('4-gramas', fontsize=16)\n",
    "g.set_ylabel('Frecuencia', fontsize=16)\n",
    "plt.xticks(rotation=90)\n",
    "plt.show()"
   ]
  },
  {
   "cell_type": "code",
   "execution_count": null,
   "metadata": {},
   "outputs": [],
   "source": []
  }
 ],
 "metadata": {
  "kernelspec": {
   "display_name": "Python 3",
   "language": "python",
   "name": "python3"
  },
  "language_info": {
   "codemirror_mode": {
    "name": "ipython",
    "version": 3
   },
   "file_extension": ".py",
   "mimetype": "text/x-python",
   "name": "python",
   "nbconvert_exporter": "python",
   "pygments_lexer": "ipython3",
   "version": "3.6.5"
  }
 },
 "nbformat": 4,
 "nbformat_minor": 2
}
